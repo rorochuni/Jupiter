{
 "cells": [
  {
   "cell_type": "markdown",
   "metadata": {},
   "source": [
    "# Python 入門編１：算術演算子・変数・関数\n",
    "## 目次\n",
    "* [算術演算子](#算術演算子)\n",
    "* [変数を使う](#変数を使う)\n",
    " * [練習1.1: 相加平均・相乗平均](#練習1.1:-相加平均・相乗平均)\n",
    " * [練習1.2: 2次方程式の解](#練習1.2:-2次方程式の解)\n",
    " * [練習1.3: 2次方程式の解の確認](#練習1.3:-2次方程式の解の確認)\n",
    " * [練習1.4: 自然対数の底](#練習1.4:-自然対数の底)\n",
    "* [関数](#関数)\n",
    " * [インデントに関する注意](#インデントに関する注意)\n",
    " * [練習1.5: 相加平均・相乗平均（関数版）](#練習1.5:-相加平均・相乗平均（関数版）)\n",
    " * [print 関数](#print-関数)\n",
    " * [練習1.6: 自然対数の底（関数版）](#練習1.6:-自然対数の底（関数版）)\n",
    " * [練習1.7: フェルマーの小定理](#練習1.7:-フェルマーの小定理)\n",
    "* [課題提出の前の注意](#課題提出の前の注意)\n",
    "\n",
    "---\n",
    "\n",
    "## 算術演算子\n",
    "まずは Python を便利な電卓として使ってみましょう。\n",
    "\n",
    "下の、式が書いてある灰色の部分（セルと呼ぶ）をクリックし、Shift+Enter（Shift キーを押しながら Enter キーを押す）で実行しなさい。"
   ]
  },
  {
   "cell_type": "code",
   "execution_count": 96,
   "metadata": {},
   "outputs": [
    {
     "data": {
      "text/plain": [
       "3"
      ]
     },
     "execution_count": 96,
     "metadata": {},
     "output_type": "execute_result"
    }
   ],
   "source": [
    "1 + 2 * 3 - 4"
   ]
  },
  {
   "cell_type": "markdown",
   "metadata": {},
   "source": [
    "予想どおりだったでしょう。ではこれは？"
   ]
  },
  {
   "cell_type": "code",
   "execution_count": 97,
   "metadata": {},
   "outputs": [
    {
     "data": {
      "text/plain": [
       "2.0"
      ]
     },
     "execution_count": 97,
     "metadata": {},
     "output_type": "execute_result"
    }
   ],
   "source": [
    "4 / 2"
   ]
  },
  {
   "cell_type": "markdown",
   "metadata": {},
   "source": [
    "`2` ではなく、`2.0` と表示されたことに注意してください。Python のわり算の演算子 `/` を整数どうしに適用したとき、結果は整数ではなく小数（float型）になります。\n",
    "\n",
    "だとすると、下の式の計算結果は？"
   ]
  },
  {
   "cell_type": "code",
   "execution_count": 98,
   "metadata": {},
   "outputs": [
    {
     "data": {
      "text/plain": [
       "1.6666666666666667"
      ]
     },
     "execution_count": 98,
     "metadata": {},
     "output_type": "execute_result"
    }
   ],
   "source": [
    "5 / 3"
   ]
  },
  {
   "cell_type": "markdown",
   "metadata": {},
   "source": [
    "5 ÷ 3 の商である 1 を得るためには、演算子 `//` を使います： "
   ]
  },
  {
   "cell_type": "code",
   "execution_count": 99,
   "metadata": {},
   "outputs": [
    {
     "data": {
      "text/plain": [
       "1"
      ]
     },
     "execution_count": 99,
     "metadata": {},
     "output_type": "execute_result"
    }
   ],
   "source": [
    "5 // 3"
   ]
  },
  {
   "cell_type": "markdown",
   "metadata": {},
   "source": [
    "商ではなく、割り算の余りを求めるには、演算子 `%` を使います："
   ]
  },
  {
   "cell_type": "code",
   "execution_count": 100,
   "metadata": {},
   "outputs": [
    {
     "data": {
      "text/plain": [
       "2"
      ]
     },
     "execution_count": 100,
     "metadata": {},
     "output_type": "execute_result"
    }
   ],
   "source": [
    "12 % 5"
   ]
  },
  {
   "cell_type": "markdown",
   "metadata": {},
   "source": [
    "C言語にはなかった演算子に、べき乗 `**` があります。2つの `*` の間に空白を入れてはいけません。\n",
    "\n",
    "$2^5$ を計算してみましょう："
   ]
  },
  {
   "cell_type": "code",
   "execution_count": 101,
   "metadata": {},
   "outputs": [
    {
     "data": {
      "text/plain": [
       "32"
      ]
     },
     "execution_count": 101,
     "metadata": {},
     "output_type": "execute_result"
    }
   ],
   "source": [
    "2 ** 5"
   ]
  },
  {
   "cell_type": "markdown",
   "metadata": {},
   "source": [
    "ついでに $2^{1000}$ も："
   ]
  },
  {
   "cell_type": "code",
   "execution_count": 102,
   "metadata": {},
   "outputs": [
    {
     "data": {
      "text/plain": [
       "10715086071862673209484250490600018105614048117055336074437503883703510511249361224931983788156958581275946729175531468251871452856923140435984577574698574803934567774824230985421074605062371141877954182153046474983581941267398767559165543946077062914571196477686542167660429831652624386837205668069376"
      ]
     },
     "execution_count": 102,
     "metadata": {},
     "output_type": "execute_result"
    }
   ],
   "source": [
    "2 ** 1000"
   ]
  },
  {
   "cell_type": "markdown",
   "metadata": {},
   "source": [
    "このように、C言語の整数と違って、Python の int 型はコンピュータのメモリが尽きないかぎり、いくらでも大きな桁まで表現できます。"
   ]
  },
  {
   "cell_type": "markdown",
   "metadata": {},
   "source": [
    "ここまで出てきた演算子は、すべて小数にも使えます。特に、`**` で平方根が求められるのは便利です："
   ]
  },
  {
   "cell_type": "code",
   "execution_count": 103,
   "metadata": {},
   "outputs": [
    {
     "data": {
      "text/plain": [
       "1.4142135623730951"
      ]
     },
     "execution_count": 103,
     "metadata": {},
     "output_type": "execute_result"
    }
   ],
   "source": [
    "2 ** 0.5"
   ]
  },
  {
   "cell_type": "markdown",
   "metadata": {},
   "source": [
    "以上の演算子をまとめておきます。\n",
    "\n",
    "* `+` ... 足し算\n",
    "* `-` ... 引き算\n",
    "* `*` ... かけ算\n",
    "* `/` ... 割り算（結果は小数）\n",
    "* `//` ... 商\n",
    "* `%`  ... 余り\n",
    "* `**` ... べき乗"
   ]
  },
  {
   "cell_type": "markdown",
   "metadata": {},
   "source": [
    "## 変数を使う\n",
    "`変数名 = 値` または `変数名 = 計算式` で値や計算式の結果を変数に入れておくことができます。"
   ]
  },
  {
   "cell_type": "code",
   "execution_count": 104,
   "metadata": {},
   "outputs": [
    {
     "data": {
      "text/plain": [
       "3"
      ]
     },
     "execution_count": 104,
     "metadata": {},
     "output_type": "execute_result"
    }
   ],
   "source": [
    "a = 1\n",
    "b = 2\n",
    "\n",
    "a + b"
   ]
  },
  {
   "cell_type": "markdown",
   "metadata": {},
   "source": [
    "Jupyter notebook（いま使っているシステム）の場合、いちど変数に入れた値は他の場所でも使えます："
   ]
  },
  {
   "cell_type": "code",
   "execution_count": 105,
   "metadata": {},
   "outputs": [
    {
     "data": {
      "text/plain": [
       "-1"
      ]
     },
     "execution_count": 105,
     "metadata": {},
     "output_type": "execute_result"
    }
   ],
   "source": [
    "a - b"
   ]
  },
  {
   "cell_type": "markdown",
   "metadata": {},
   "source": [
    "すでに値がセットされている変数に、別の値をセットすれば前に入っていた値は上書きされます。\n",
    "\n",
    "以下のセルを実行すると何が表示されるか、予想してから実行して確かめなさい："
   ]
  },
  {
   "cell_type": "code",
   "execution_count": 106,
   "metadata": {},
   "outputs": [
    {
     "data": {
      "text/plain": [
       "21"
      ]
     },
     "execution_count": 106,
     "metadata": {},
     "output_type": "execute_result"
    }
   ],
   "source": [
    "b = 20 # b = 2 を上書き\n",
    "\n",
    "a + b # 上書きした b の値を使って a + b を計算"
   ]
  },
  {
   "cell_type": "markdown",
   "metadata": {},
   "source": [
    "C言語と同様に `+=` や `-=` などの自己代入演算子が使えます．\n",
    "```python\n",
    "x += 2\n",
    "```\n",
    "とすれば変数 `x` の値が 2 増え，\n",
    "```python\n",
    "x *= 2\n",
    "```\n",
    "とすれば変数 `x` の値が2倍になります．\n",
    "\n",
    "一般に `{op}=` という形の自己代入演算子（`{op}` の部分は `+`, `-`, `*`, `/`, ... などの2項演算子）を使った\n",
    "```python\n",
    "x {op}= y\n",
    "```\n",
    "という式は\n",
    "```python\n",
    "x = x {op} y\n",
    "```\n",
    "と同じ意味です．"
   ]
  },
  {
   "cell_type": "markdown",
   "metadata": {},
   "source": [
    "結果を予想してから実行して確かめなさい："
   ]
  },
  {
   "cell_type": "code",
   "execution_count": 107,
   "metadata": {},
   "outputs": [
    {
     "data": {
      "text/plain": [
       "4"
      ]
     },
     "execution_count": 107,
     "metadata": {},
     "output_type": "execute_result"
    }
   ],
   "source": [
    "x = 9\n",
    "x //= 2\n",
    "x"
   ]
  },
  {
   "cell_type": "code",
   "execution_count": 108,
   "metadata": {},
   "outputs": [
    {
     "data": {
      "text/plain": [
       "81"
      ]
     },
     "execution_count": 108,
     "metadata": {},
     "output_type": "execute_result"
    }
   ],
   "source": [
    "x = 9\n",
    "x **= 2\n",
    "x"
   ]
  },
  {
   "cell_type": "markdown",
   "metadata": {},
   "source": [
    "---\n",
    "### 練習1.1: 相加平均・相乗平均\n",
    "変数 `x`, `y` に値をセットして、それらの相加平均 $\\displaystyle \\frac{x + y}{2}$ と相乗平均 $\\sqrt{xy}$ を求め、相加平均と相乗平均を並べて表示せよ。\n",
    "\n",
    "2つの解を並べて表示するのは、下のセルのように、最後の行に式を2つ、カンマで区切って書けばできる："
   ]
  },
  {
   "cell_type": "code",
   "execution_count": 109,
   "metadata": {},
   "outputs": [
    {
     "data": {
      "text/plain": [
       "(12, 8)"
      ]
     },
     "execution_count": 109,
     "metadata": {},
     "output_type": "execute_result"
    }
   ],
   "source": [
    "x = 10\n",
    "y = 2\n",
    "\n",
    "x + y, x - y # ここを相加平均と相乗平均の式に書き換える"
   ]
  },
  {
   "cell_type": "markdown",
   "metadata": {},
   "source": [
    "---\n",
    "\n",
    "### 練習1.2: 2次方程式の解\n",
    "変数 `a`, `b`, `c` に値をセットし、2次方程式 $ax^2+bx+c=0$ の2つの解を、変数 `a`, `b`, `c` を使った解の公式によって計算し、(1つ目の解, 2つ目の解) のように並べて表示せよ。"
   ]
  },
  {
   "cell_type": "code",
   "execution_count": 110,
   "metadata": {},
   "outputs": [
    {
     "data": {
      "text/plain": [
       "(-1.0, -5.0)"
      ]
     },
     "execution_count": 110,
     "metadata": {},
     "output_type": "execute_result"
    }
   ],
   "source": [
    "# やること: \n",
    "# 変数 a に好きな値をセットする\n",
    "# 変数 b に好きな値をセットする\n",
    "# 変数 c に好きな値をセットする\n",
    "# 変数 a, b, c を使って、方程式 a x^2 + bx + c = 0 の2つの解を計算し、二つの解を並べて表示する\n",
    "a=1\n",
    "b=6\n",
    "c=5\n",
    "p=(-b+(b**2-4*a*c)**0.5)/2*a,(-b-(b**2-4*a*c)**0.5)/2*a\n",
    "p"
   ]
  },
  {
   "cell_type": "markdown",
   "metadata": {},
   "source": [
    "重解になる係数や、複素解になる係数も試してみること。"
   ]
  },
  {
   "cell_type": "markdown",
   "metadata": {},
   "source": [
    "注意：以下のように，方程式をプログラムとして書いても，自動的に `x` に解がセットされるようなことは起きない："
   ]
  },
  {
   "cell_type": "code",
   "execution_count": 111,
   "metadata": {},
   "outputs": [
    {
     "data": {
      "text/plain": [
       "(-1.0, -1.0)"
      ]
     },
     "execution_count": 111,
     "metadata": {},
     "output_type": "execute_result"
    }
   ],
   "source": [
    "# 条件式として方程式を書く\n",
    "# x の値を表示する\n",
    "a=1\n",
    "b=2\n",
    "c=1\n",
    "x=(-b+(b**2-4*a*c)**0.5)/2*a,(-b-(b**2-4*a*c)**0.5)/2*a\n",
    "x"
   ]
  },
  {
   "cell_type": "markdown",
   "metadata": {},
   "source": [
    "上のセルで起こることは\n",
    "```python\n",
    "(x ** 2) + 2 * x + 1 == 0 # 定義済みの x の値（10）を使って左辺を計算し，0 と比べる \n",
    "                          # --> 結果は False（偽）になるが，\n",
    "                          # 評価結果 False はそのまま捨てられる（次の行に実行が進む）\n",
    "x # x の値を表示する --> 定義済みの値 10 が表示される\n",
    "```\n",
    "ということである．\n",
    "\n",
    "<!-- 上の練習の意味は「変数 `a`, `b`, `c` と解の公式を使って２つの解を Python で計算せよ」という意味．-->"
   ]
  },
  {
   "cell_type": "markdown",
   "metadata": {},
   "source": [
    "---\n",
    "### 練習1.3: 2次方程式の解の確認\n",
    "変数 `a`, `b`, `c` に値をセットして、2次方程式 $ax^2+bx+c=0$ の2つの解のうちどちらかを計算して、それを変数 `x` にセットしなさい。さらに、変数 `a`, `b`, `c` および `x` を使って、方程式の左辺 $ax^2+bx+c$ の値を計算して表示しなさい。"
   ]
  },
  {
   "cell_type": "code",
   "execution_count": 112,
   "metadata": {},
   "outputs": [
    {
     "name": "stdout",
     "output_type": "stream",
     "text": [
      "0.0\n"
     ]
    }
   ],
   "source": [
    "# やること:\n",
    "# 変数 a に好きな値をセットする\n",
    "# 変数 b に好きな値をセットする\n",
    "# 変数 c に好きな値をセットする\n",
    "# a x^2 + bx + c = 0 の2つの解のうちどちらかを計算して変数 x にセットする\n",
    "# a, b, c, x を使って、方程式の左辺の値を計算する\n",
    "a=1\n",
    "b=5\n",
    "c=-6\n",
    "x=(-b+(b**2-4*a*c)**0.5)/2*a\n",
    "print(a*x**2 + b*x + c )"
   ]
  },
  {
   "cell_type": "markdown",
   "metadata": {},
   "source": [
    "* 方程式の左辺を計算した結果は、セルの最後の行に式だけを書けば表示される。`sahen = a * x ** 2 + ...` のように計算した結果を変数にセットする行で終わると値は表示されない。\n",
    "\n",
    "* 結果はどれくらいゼロに近くなるか？どのような係数であれば正確にゼロになるか？"
   ]
  },
  {
   "cell_type": "markdown",
   "metadata": {},
   "source": [
    "---\n",
    "### 練習1.4: 自然対数の底\n",
    "高校で習う自然対数の底（ネイピア数）$e$ の定義は以下の極限としてだった：\n",
    "$$\n",
    "e = \\lim_{n\\rightarrow \\infty} \\left(1 + \\frac{1}{n}\\right)^n\n",
    "$$\n",
    "小数で書くと $e = 2.7182818284590\\cdots$ ですが、数列 $\\{(1+\\frac{1}{n})^n\\}$ はどれくらいの速さで収束するでしょうか。\n",
    "\n",
    "$n = 100, 10000, 1000000, 100000000$ に対して  $\\left(1 + \\frac{1}{n}\\right)^n$ を計算しなさい："
   ]
  },
  {
   "cell_type": "code",
   "execution_count": 113,
   "metadata": {},
   "outputs": [
    {
     "data": {
      "text/plain": [
       "2.7048138294215285"
      ]
     },
     "execution_count": 113,
     "metadata": {},
     "output_type": "execute_result"
    }
   ],
   "source": [
    "# *** 変数 n に値 100 をセットする\n",
    "# *** n を使った式で e の近似値を計算する\n",
    "n=100\n",
    "e=(1+1/n)**n\n",
    "e"
   ]
  },
  {
   "cell_type": "code",
   "execution_count": 114,
   "metadata": {},
   "outputs": [
    {
     "data": {
      "text/plain": [
       "2.7181459268249255"
      ]
     },
     "execution_count": 114,
     "metadata": {},
     "output_type": "execute_result"
    }
   ],
   "source": [
    "# *** 変数 n に値 10000 をセットする\n",
    "# *** n を使った式で e の近似値を計算する\n",
    "n=10000\n",
    "e=(1+1/n)**n\n",
    "e"
   ]
  },
  {
   "cell_type": "code",
   "execution_count": 115,
   "metadata": {},
   "outputs": [
    {
     "data": {
      "text/plain": [
       "2.7182804690957534"
      ]
     },
     "execution_count": 115,
     "metadata": {},
     "output_type": "execute_result"
    }
   ],
   "source": [
    "# *** 変数 n に値 1000000 をセットする\n",
    "# *** n を使った式で e の近似値を計算する\n",
    "n=1000000\n",
    "e=(1+1/n)**n\n",
    "e"
   ]
  },
  {
   "cell_type": "code",
   "execution_count": 116,
   "metadata": {},
   "outputs": [
    {
     "data": {
      "text/plain": [
       "2.7182817983473577"
      ]
     },
     "execution_count": 116,
     "metadata": {},
     "output_type": "execute_result"
    }
   ],
   "source": [
    "# *** 変数 n に値 100000000 をセットする\n",
    "# *** n を使った式で e の近似値を計算する\n",
    "n=100000000\n",
    "e=(1+1/n)**n\n",
    "e"
   ]
  },
  {
   "cell_type": "markdown",
   "metadata": {},
   "source": [
    "変数を使うことで、2回出てくる $n$ の値を、ゼロの数を間違えないように `(1 + 1/10000000) ** 100000000` と書かなくてよいのは助かります（実はこの式は間違えていますが，見ても分からないでしょう？）。\n",
    "\n",
    "しかし、$n$ の値を変えた後で、何度も同じ計算式を書くのはめんどうくさい。そういうときは**関数**を使えば便利である。"
   ]
  },
  {
   "cell_type": "markdown",
   "metadata": {},
   "source": [
    "## 関数\n",
    "Python の関数も、C言語と同じように、以下のことをする：\n",
    "* いくつかの入力（引数）を受け取り\n",
    "* 計算結果を返す（return）\n",
    "\n",
    "まずは簡単な関数の例："
   ]
  },
  {
   "cell_type": "code",
   "execution_count": 117,
   "metadata": {},
   "outputs": [],
   "source": [
    "def add(x, y):\n",
    "    z = x + y\n",
    "    return z"
   ]
  },
  {
   "cell_type": "markdown",
   "metadata": {},
   "source": [
    "上のセルを実行して定義を有効にしてから、下のセルを実行しなさい："
   ]
  },
  {
   "cell_type": "code",
   "execution_count": 118,
   "metadata": {},
   "outputs": [
    {
     "data": {
      "text/plain": [
       "123"
      ]
     },
     "execution_count": 118,
     "metadata": {},
     "output_type": "execute_result"
    }
   ],
   "source": [
    "add(100, 23)"
   ]
  },
  {
   "cell_type": "markdown",
   "metadata": {},
   "source": [
    "上の例のように、Python の関数定義は\n",
    "```python\n",
    "def 関数名(引数1, ..., 引数n):\n",
    "    ... 中身の定義 ...\n",
    "    ... 中身の定義 ...\n",
    "    ... 中身の定義 ...\n",
    "    ...\n",
    "```\n",
    "という形をしている。C言語と違うところは\n",
    "* 定義はかならず `def` というキーワードから始まる\n",
    "* `関数名(引数1, ..., 引数n)` の後にコロン `:` が必要\n",
    "* `def int add(x, y):` のように、返す値の型は書かない（書けない）\n",
    "* 引数にも型は書かない（実は書く方法もあるが、そのやり方はもっと後で覚えればよい）\n",
    "* 関数の中身は、**必ずインデント（字下げ）しなければいけない**\n",
    "\n",
    "最後のインデントに関する注意は重要である。下のセルを実行して、インデントしないとエラーになることを確かめなさい："
   ]
  },
  {
   "cell_type": "code",
   "execution_count": 119,
   "metadata": {},
   "outputs": [],
   "source": [
    "def bad_function(x, y):\n",
    "    z = x ** 2 + y ** 2\n",
    "    return z ** 0.5"
   ]
  },
  {
   "cell_type": "markdown",
   "metadata": {},
   "source": [
    "エラーになることを確かめたら、関数の中身をインデント（4文字ぶん下げる）して、再びセルを実行し、エラーが出ないことを確かめなさい。"
   ]
  },
  {
   "cell_type": "markdown",
   "metadata": {},
   "source": [
    "上の `add` 関数の例では、計算結果をいったん変数 `z` にセットしたあと、`return z` として値を返しているが、計算結果を直接 `return` することもできる："
   ]
  },
  {
   "cell_type": "code",
   "execution_count": 120,
   "metadata": {},
   "outputs": [
    {
     "data": {
      "text/plain": [
       "6"
      ]
     },
     "execution_count": 120,
     "metadata": {},
     "output_type": "execute_result"
    }
   ],
   "source": [
    "def mult(x, y):\n",
    "    return x * y\n",
    "\n",
    "mult(2, 3)"
   ]
  },
  {
   "cell_type": "markdown",
   "metadata": {},
   "source": [
    "### インデントに関する注意\n",
    "上で関数定義の場合について注意したインデントについてもう少し説明しておく．\n",
    "\n",
    "C言語では，関数定義のほか，if文やfor文についても\n",
    "```C\n",
    "if (i == 0) {\n",
    "    k += 1;\n",
    "    printf(\"hello\");\n",
    "}\n",
    "```\n",
    "や\n",
    "```C\n",
    "for (i = 0; i < 10; i += 1) {\n",
    "    k += 1;\n",
    "    printf(\"hello\");\n",
    "}\n",
    "```\n",
    "のように，if文やfor文の「中身」を中カッコ `{...}` でまとめることで表していた．\n",
    "\n",
    "ここで言っている「中身」とは，上の例のように，if文であれば「条件が成り立つときに実行される部分」，for文であれば「繰り返される部分」のことである．\n",
    "\n",
    "そして，この中カッコさえあれば\n",
    "```C\n",
    "if (i == 0) {\n",
    "k += 1;\n",
    "printf(\"hello\");\n",
    "}\n",
    "```\n",
    "のようにインデントしなくてもよいし，\n",
    "```C\n",
    "for (i = 0; i < 10; i += 1) { k += 1; printf(\"hello\"); }\n",
    "```\n",
    "のように全て一行に書いてしまうこともできた（読みづらいのですべきでないが）．\n",
    "\n",
    "Python では，それぞれの文の「中身」を表すのに中カッコ`{...}`は使えない．\n",
    "次回以降で説明する Python の if 文や for 文では，「中身」の部分を先頭の `if ...` や `for ...` の行よりもインデントして\n",
    "```python\n",
    "if i == 0:\n",
    "    k += 1\n",
    "    print(\"hello\")\n",
    "```\n",
    "や\n",
    "```python\n",
    "for i in range(10):  # i = 0, 1, ..., 9 のそれぞれについて「中身」を繰り返す\n",
    "    k += 1\n",
    "    print(\"hello\")\n",
    "```\n",
    "のように表す．つまり好きなところに好きなだけ空白を入れてよい訳ではない．\n",
    "\n",
    "if 文の中にさらに for 文が入っている場合などは，以下のように「どの文の中身であるか」に応じてインデントを増やしたり減らしたりすることになる．\n",
    "```python\n",
    "if i == 0:\n",
    "    for j in range(10): # if文の中身\n",
    "        print(j)        # if文の中身であるfor文の中身\n",
    "        k += 1          # if文の中身であるfor文の中身\n",
    "```\n",
    "よって，上のプログラムと下のプログラムは動作が異なる：\n",
    "```python\n",
    "if i == 0:\n",
    "    for j in range(10):\n",
    "        print(j)\n",
    "    k += 1  # !!! if文の中身だがfor文の中身ではない -> i == 0 のとき一度だけ実行される\n",
    "```"
   ]
  },
  {
   "cell_type": "markdown",
   "metadata": {},
   "source": [
    "---\n",
    "### 練習1.5: 相加平均・相乗平均（関数版）\n",
    "2つの引数を受け取って、それらの相加平均を計算する関数 `arith_mean` と、相乗平均を計算する関数 `geom_mean` を定義しなさい。一つのセルにいくでも関数を定義することができる。"
   ]
  },
  {
   "cell_type": "code",
   "execution_count": 121,
   "metadata": {},
   "outputs": [],
   "source": [
    "# arith_mean の定義を書きなさい\n",
    "def arith_mean(x, y):\n",
    "    z = (x + y)/2\n",
    "    return z\n",
    "# geom_mean の定義を書きなさい\n",
    "def geom_mean(x, y):\n",
    "    z = (x * y)**0.5\n",
    "    return z"
   ]
  },
  {
   "cell_type": "markdown",
   "metadata": {},
   "source": [
    "定義が書けたらセルを実行して定義を有効にし、下の4つのセルを順に実行してテストしなさい（すべて `True` が表示されるはず）。"
   ]
  },
  {
   "cell_type": "code",
   "execution_count": 122,
   "metadata": {},
   "outputs": [
    {
     "data": {
      "text/plain": [
       "True"
      ]
     },
     "execution_count": 122,
     "metadata": {},
     "output_type": "execute_result"
    }
   ],
   "source": [
    "arith_mean(1, 0) == 0.5"
   ]
  },
  {
   "cell_type": "code",
   "execution_count": 123,
   "metadata": {},
   "outputs": [
    {
     "data": {
      "text/plain": [
       "True"
      ]
     },
     "execution_count": 123,
     "metadata": {},
     "output_type": "execute_result"
    }
   ],
   "source": [
    "geom_mean(2, 8) == 4.0"
   ]
  },
  {
   "cell_type": "code",
   "execution_count": 124,
   "metadata": {},
   "outputs": [
    {
     "data": {
      "text/plain": [
       "True"
      ]
     },
     "execution_count": 124,
     "metadata": {},
     "output_type": "execute_result"
    }
   ],
   "source": [
    "arith_mean(1, 2) >= geom_mean(1, 2)"
   ]
  },
  {
   "cell_type": "code",
   "execution_count": 125,
   "metadata": {},
   "outputs": [
    {
     "data": {
      "text/plain": [
       "True"
      ]
     },
     "execution_count": 125,
     "metadata": {},
     "output_type": "execute_result"
    }
   ],
   "source": [
    "arith_mean(0.5, 0.5) == geom_mean(0.5, 0.5)"
   ]
  },
  {
   "cell_type": "markdown",
   "metadata": {},
   "source": [
    "---\n",
    "### print 関数\n",
    "関数は何も値を返さなくてもよい。`print` 関数はそのような関数の一つである。\n",
    "\n",
    "`print` 関数を呼び出すと引数の値が画面に表示される："
   ]
  },
  {
   "cell_type": "code",
   "execution_count": 126,
   "metadata": {},
   "outputs": [
    {
     "name": "stdout",
     "output_type": "stream",
     "text": [
      "3\n"
     ]
    }
   ],
   "source": [
    "print(3)"
   ]
  },
  {
   "cell_type": "code",
   "execution_count": 127,
   "metadata": {},
   "outputs": [
    {
     "name": "stdout",
     "output_type": "stream",
     "text": [
      "6\n"
     ]
    }
   ],
   "source": [
    "a = 2\n",
    "print(3 * a)"
   ]
  },
  {
   "cell_type": "markdown",
   "metadata": {},
   "source": [
    "引数を複数 `print` 関数に与えると、それぞれの値を空白で区切って表示する："
   ]
  },
  {
   "cell_type": "code",
   "execution_count": 128,
   "metadata": {},
   "outputs": [
    {
     "name": "stdout",
     "output_type": "stream",
     "text": [
      "1 2 1.4142135623730951\n"
     ]
    }
   ],
   "source": [
    "print(1, 2, geom_mean(1, 2))"
   ]
  },
  {
   "cell_type": "markdown",
   "metadata": {},
   "source": [
    "---\n",
    "### 練習1.6: 自然対数の底（関数版）\n",
    "引数として整数 `n` を受け取り、$(1 + \\frac{1}{n})^n$ の値を返す関数 `napier` を定義しなさい。さらに、$n = 1, 10, 100, 1000, 10000, ..., 10^9$ に対する関数の値を `napier` を使って計算し、 `print` で表示しなさい。"
   ]
  },
  {
   "cell_type": "code",
   "execution_count": 129,
   "metadata": {},
   "outputs": [
    {
     "name": "stdout",
     "output_type": "stream",
     "text": [
      "2.0\n",
      "2.5937424601000023\n",
      "2.7048138294215285\n",
      "2.7169239322355936\n",
      "2.7181459268249255\n",
      "2.7182682371922975\n",
      "2.7182804690957534\n",
      "2.7182816941320818\n",
      "2.7182817983473577\n",
      "2.7182820520115603\n"
     ]
    }
   ],
   "source": [
    "def napier(n):\n",
    "    # *** 実装しなさい **\n",
    "    z=(1 + 1/n)**n\n",
    "    return z\n",
    "\n",
    "for i in range (0,10):\n",
    "    print(napier(10**i))"
   ]
  },
  {
   "cell_type": "markdown",
   "metadata": {},
   "source": [
    "自然対数の底の真の値は $e = 2.7182818\\cdots$ だったことを思い出すと、$n = 10^8$ のときよりも $n = 10^9$ のときの $(1 + \\frac{1}{n})^n$ の値のほうが $e$ の近似値としては**不正確**に見える。また $(1 + \\frac{1}{n})^n$ は数列としては**単調増加**なはずなので、$n = 10^9$ のときの値が $e = 2.7182818\\cdots$ をすでに超えてしまっているのは全くおかしい。これらは Python の小数（float型）の精度の限界による（C言語でも同じこと）。"
   ]
  },
  {
   "cell_type": "markdown",
   "metadata": {},
   "source": [
    "<!-- 重すぎて不可能\n",
    "**練習1.7**: 引数として整数 `n` を受け取り，$(1 + \\frac{1}{n})^n$ の値を返す関数 `napier2(n)` を定義しなさい．ただし今回は\n",
    "$$\n",
    "(1 + \\frac{1}{n})^n = \\frac{(n + 1)^n}{n^n}\n",
    "$$\n",
    "の右辺の形で，つまり，分子 $(n + 1)^n$ と分母 $n^n$ をそれぞれ整数で計算し，最後に，分子/分母の値を返すようにしてみましょう．さらに，$n = 1, 10, 100, 1000, 10000, ..., 10^9$ に対する関数 `napier2(n)` の値を `print` で表示しなさい。\n",
    "\n",
    "def napier2(n):\n",
    "    return ((n + 1) ** n) / (n ** n) \n",
    "\n",
    "print(napier2(1))\n",
    "print(napier2(10))\n",
    "print(napier2(10 ** 2))\n",
    "print(napier2(10 ** 3))\n",
    "print(napier2(10 ** 4))\n",
    "print(napier2(10 ** 5))\n",
    "#print(napier2(10 ** 6))\n",
    "print(napier2(10 ** 7))\n",
    "#print(napier2(10 ** 8))\n",
    "#print(napier2(10 ** 9))\n",
    "#print(napier2(10 ** 10))\n",
    "-->"
   ]
  },
  {
   "cell_type": "markdown",
   "metadata": {},
   "source": [
    "### 練習1.7: フェルマーの小定理\n",
    "整数 $m$ と $n$ を受け取り、$m^{n-1}$ を $n$ で割った余りを返す関数 `powmod(m, n)` を定義せよ（引数 `m` と `n` の順番に注意）。"
   ]
  },
  {
   "cell_type": "code",
   "execution_count": 130,
   "metadata": {},
   "outputs": [],
   "source": [
    "# powmod を定義せよ\n",
    "def powmod(m, n):\n",
    "    z=(m**(n-1))%n\n",
    "    return z"
   ]
  },
  {
   "cell_type": "markdown",
   "metadata": {},
   "source": [
    "定義できたらセルを実行して定義を有効にし、下のセルを実行してテストせよ。"
   ]
  },
  {
   "cell_type": "code",
   "execution_count": 131,
   "metadata": {},
   "outputs": [
    {
     "name": "stdout",
     "output_type": "stream",
     "text": [
      "1\n",
      "1\n",
      "1\n",
      "1\n",
      "1\n",
      "1\n",
      "1\n"
     ]
    }
   ],
   "source": [
    "print(powmod(1, 7))\n",
    "print(powmod(2, 7))\n",
    "print(powmod(3, 7))\n",
    "print(powmod(4, 7))\n",
    "print(powmod(5, 7))\n",
    "print(powmod(6, 7))\n",
    "print(powmod(9999, 4649))"
   ]
  },
  {
   "cell_type": "markdown",
   "metadata": {},
   "source": [
    "`powmod` が正しく定義されていれば全て `1` が表示されているはずである。\n",
    "\n",
    "参考：これは偶然ではなく，一般に $p$ を素数とし，$m$ を $p$ で割り切れない正の整数とするとき，$m^{p-1}$ を $p$ で割った余りは必ず $1$ になる（wikipedia: [フェルマーの小定理](https://ja.wikipedia.org/wiki/フェルマーの小定理)）。"
   ]
  },
  {
   "cell_type": "markdown",
   "metadata": {},
   "source": [
    "---\n",
    "## 課題提出の前の注意\n",
    "* かならずメニューの \"Run\" から \"Run All Cells\" を選択し，全てのセルが正しく実行されることを確認すること\n",
    "\n",
    "* \"Run All Cells\" を実行したら，そのまま**全ての結果が表示されている状態で保存のボタン**を押してノートブックを保存すること\n",
    "    * 保存のボタンは，左上の \"File\" の下，＋のマークのボタンの左の[フロッピーディスク](https://ja.wikipedia.org/wiki/フロッピーディスク)のマークのボタン\n",
    "  \n",
    "* 上記のように実行結果まで含めて保存してからノートブックを提出すること．\n",
    "    * 「氏名.ipynb」などのように**ファイル名を変更せず**、ダウンロードしたときのファイル名のまま提出すること\n",
    "  \n",
    "---"
   ]
  },
  {
   "cell_type": "markdown",
   "metadata": {},
   "source": [
    "**入門編１：おわり**"
   ]
  }
 ],
 "metadata": {
  "kernelspec": {
   "display_name": "Python [conda env:base] *",
   "language": "python",
   "name": "conda-base-py"
  },
  "language_info": {
   "codemirror_mode": {
    "name": "ipython",
    "version": 3
   },
   "file_extension": ".py",
   "mimetype": "text/x-python",
   "name": "python",
   "nbconvert_exporter": "python",
   "pygments_lexer": "ipython3",
   "version": "3.12.7"
  }
 },
 "nbformat": 4,
 "nbformat_minor": 4
}
