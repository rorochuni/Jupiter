{
 "cells": [
  {
   "cell_type": "markdown",
   "metadata": {},
   "source": [
    "# Python 入門編６：基本データ型の応用\n",
    "## 目次\n",
    "* [練習6.1: オークションの結果](#練習6.1:-オークションの結果)\n",
    "* [練習6.2: 文検索](#練習6.2:-文検索)\n",
    " * [Step 1：文の表示](#Step-1：文の表示)\n",
    " * [Step 2：索引データの作成](#Step-2：索引データの作成)\n",
    " * [Step 3: キーワード１つによる検索結果の表示](#Step-3:-キーワード１つによる検索結果の表示)\n",
    " * [Step 4: ２つのキーワードによるAND検索結果の表示](#Step-4:-２つのキーワードによるAND検索結果の表示)\n",
    " * [Step 5: 任意の数のキーワードによるAND検索](#Step-5:-任意の数のキーワードによるAND検索)\n",
    "* [課題提出の前の注意](#課題提出の前の注意)\n",
    "* [チャレンジ課題6.3: 最長コラッツ列](#チャレンジ課題6.3:-最長コラッツ列)\n",
    "  * [進行状況を見るには](#進行状況を見るには)\n",
    "* [課題提出の前の注意](#課題提出の前の注意)\n",
    "\n",
    "---\n",
    "このノートブックでは，基本的なデータ型であるリスト・文字列・辞書を応用したプログラミングの練習をする．\n",
    "\n",
    "課題ではデータが入った２つのファイルを使用する．始める前に，ノートブックと同じところから \"bids.txt\" と \"neko.txt\" をダウンロードし，ノートブックと同じフォルダに置きなさい．\n",
    "\n",
    "## 練習6.1: オークションの結果\n",
    "以下のセルを実行すると，変数 `bids` に，いくつかの商品に対するオークションの入札記録が読み込まれ，先頭の要素 `bids[0]` が表示される（読み込みのプログラム内容を今理解する必要はない）："
   ]
  },
  {
   "cell_type": "code",
   "execution_count": null,
   "metadata": {},
   "outputs": [],
   "source": [
    "bids = []\n",
    "with open(\"bids.txt\", encoding=\"utf-8\") as f:\n",
    "    for line in f:\n",
    "        item, bidder, price_s = line.rstrip().split()\n",
    "        bids.append([item, bidder, int(price_s)])\n",
    "bids[0]"
   ]
  },
  {
   "cell_type": "markdown",
   "metadata": {},
   "source": [
    "入札記録 `bids` は `[item, bidder, price]` という形の3要素からなるリストを要素とするリスト（2重リスト）である．\n",
    "item および bidder は文字列型，price は整数である．\n",
    "\n",
    "`bids` の各要素 `[item, bidder, price]` は，商品 `item` に対し，入札者 `bidder` が，金額 `price` で入札を行ったことを表す（すなわち，`bidder` が「価格 `price` で商品 `item` を買う」と宣言したことを表す）．\n",
    "\n",
    "オークションの結果，それぞれの商品は，その商品に対し最も大きな金額をつけた入札者が買うことになる．\n",
    "\n",
    "入札記録を引数として受け取り，**記録に含まれる各商品名をキーとし，その商品を買うことになった入札者名を値とする辞書**を返す関数 `auction(bids)` を実装しなさい．同一の最高金額で入札した人が複数いる（つまり「引き分け」の）商品は存在しないと仮定してよい．\n",
    "\n",
    "以下は小さな入札記録に対する実行例である（実際の `bids` はもっと長い）：\n",
    "```python\n",
    "bids = [[\"どんぐり\", \"リス\", 100],\n",
    "        [\"どんぐり\", \"たぬき\", 120],\n",
    "        [\"木の棒\", \"チョビ\", 500],\n",
    "        [\"どんぐり\", \"ブタ\", 90],\n",
    "        [\"木の棒\", \"平九郎\", 600]]\n",
    "\n",
    "auction(bids) --> {\"どんぐり\": \"たぬき\", \"木の棒\": \"平九郎\"}\n",
    "```"
   ]
  },
  {
   "cell_type": "markdown",
   "metadata": {},
   "source": [
    "ヒント（ダブルクリックで表示）\n",
    "<!--\n",
    "\n",
    "以下では { キーの意味 : 値の意味 } という形で，どういう辞書を作ればよいか書く．\n",
    "\n",
    "やり方(1)\n",
    "* 空の辞書を二つ用意する．\n",
    "  * 一方の辞書には各商品に対する最高の入札価格を記録する．つまり { 商品名 : 最高入札価格 } という辞書を作る．\n",
    "  * 他方の辞書には各商品に対する最高価格の入札を行った人を記録する．つまり { 商品名 : 最高額入札者 } という辞書を作る．\n",
    "* リスト bids の要素を一つずつ見てゆき，\n",
    "  * 初めて出てきた商品だったら２つの辞書にそれぞれ価格と入札者を記録する\n",
    "  * 既に出てきた商品だったら，入札額を記録してある価格と比較し，\n",
    "    より高い価格による入札だったら２つの辞書を更新する\n",
    "* 最後に最高額入札者を記録した辞書を return する\n",
    "\n",
    "やり方(2)\n",
    "* 空の辞書をひとつ用意する．この辞書には { 商品名 : [最高入札額, 最高額入札者] } の形で記録を行う．\n",
    "* リスト bids の要素を一つずつ見てゆき，\n",
    "  * 初めて出てきた商品だったら入札者名と金額を記録する\n",
    "  * 既に出てきた商品だったら，記録してある金額と入札額を比較し，\n",
    "    より高い価格による入札だったら記録してある入札者名と金額を更新する\n",
    "* 最後に，空の辞書 result を作り，記録してある商品名それぞれについて\n",
    "  最高額入札者を値としてセットし return する\n",
    "  !! return する辞書は最初に作った辞書とは異なり，最高額入札者だけを記録することに注意\n",
    "-->"
   ]
  },
  {
   "cell_type": "code",
   "execution_count": null,
   "metadata": {},
   "outputs": [],
   "source": [
    "def auction(bids):\n",
    "    # *** 実装しなさい ***\n"
   ]
  },
  {
   "cell_type": "markdown",
   "metadata": {},
   "source": [
    "実装できたら，まずは小さなデータで試してみなさい："
   ]
  },
  {
   "cell_type": "code",
   "execution_count": null,
   "metadata": {},
   "outputs": [],
   "source": [
    "mini_bids = [\n",
    "    [\"どんぐり\", \"リス\", 100],\n",
    "    [\"どんぐり\", \"たぬき\", 120],\n",
    "    [\"木の棒\", \"チョビ\", 500],\n",
    "    [\"どんぐり\", \"ブタ\", 90],\n",
    "    [\"木の棒\", \"平九郎\", 600]]\n",
    "result = auction(mini_bids)\n",
    "result"
   ]
  },
  {
   "cell_type": "markdown",
   "metadata": {},
   "source": [
    "正しく動いていそうだったら，大きなデータ（`bids`）でテストしなさい："
   ]
  },
  {
   "cell_type": "code",
   "execution_count": null,
   "metadata": {},
   "outputs": [],
   "source": [
    "result = auction(bids)\n",
    "\n",
    "prices = {i: p for i, _, p in sorted(bids, key=lambda x: x[2])}\n",
    "seen = set()\n",
    "num_err = 0\n",
    "for item, bidder, price in bids:\n",
    "    if item not in result:\n",
    "        if item not in seen:\n",
    "            print(f\"商品 {item} に対する落札結果がありません\")\n",
    "            num_err += 1\n",
    "    else:\n",
    "        if price == prices[item]:\n",
    "            if bidder == result[item]:\n",
    "                pass # OK\n",
    "            else:\n",
    "                print(f\"商品 {item} の最高額入札者が異なります\")\n",
    "                num_err += 1\n",
    "    seen.add(item)\n",
    "if num_err == 0:\n",
    "    print(\"テストOK\")\n",
    "else:\n",
    "    print(f\"{num_err}個の誤りがありました\")"
   ]
  },
  {
   "cell_type": "markdown",
   "metadata": {},
   "source": [
    "## 練習6.2: 文検索\n",
    "この練習では，多数の文（あるいは文書）から，いくつかのキーワードを含むものを高速に見つけるプログラムをいくつかのステップに分けて作成する．\n",
    "\n",
    "### Step 1：文の表示\n",
    "文は単語（文字列）のリストで表し，いくつかの文を単語のリストのリストで表すことにする．\n",
    "\n",
    "たとえば\n",
    "```\n",
    "    ブタはドングリが好き．\n",
    "    リスはドングリもクルミも好き．\n",
    "```\n",
    "という2文は\n",
    "```python\n",
    "[[\"ブタ\", \"は\", \"ドングリ\", \"が\", \"好き\", \"．\"],\n",
    " [\"リス\", \"は\", \"ドングリ\", \"も\", \"クルミ\", \"も\", \"好き\", \"．\"]]\n",
    "```\n",
    "という2重リストで表される．「．」や「，」のような句読点も一つの単語と考える．\n",
    "\n",
    "上のように単語のリストのリスト（2重リスト）として表された文のリスト `sentences` と，文の番号（最初の文が 0）`i` を受け取り，`i` 番目の文を**文字列として**返す関数 `stringize(sentences, i)` を実装しなさい．\n",
    "\n",
    "`stringize` は結果を文字列として返すのであって，print するのではないことに注意せよ．\n",
    "\n",
    "例えば上の2文のリストと番号 `0` を入力した場合，実行結果は以下のようになる：\n",
    "```python\n",
    "ss = [[\"ブタ\", \"は\", \"ドングリ\", \"が\", \"好き\", \"．\"],\n",
    "      [\"リス\", \"は\", \"ドングリ\", \"も\", \"クルミ\", \"も\", \"好き\", \"．\"]]\n",
    "stringize(ss, 0)\n",
    "--> \"ブタはドングリが好き．\"\n",
    "```"
   ]
  },
  {
   "cell_type": "markdown",
   "metadata": {},
   "source": [
    "ヒント（ダブルクリックで表示）\n",
    "<!--\n",
    "区切り文字列 s で文字列のリスト xs を結合するメソッド s.join(xs) を思い出そう：\n",
    "\n",
    "xs = [\"あ\", \"い\", \"う\"]\n",
    "\"\".join(xs)\n",
    "→ \"あいう\"\n",
    "-->"
   ]
  },
  {
   "cell_type": "code",
   "execution_count": null,
   "metadata": {},
   "outputs": [],
   "source": [
    "# *** 実装しなさい ***\n",
    "def stringize(sentences, i):\n"
   ]
  },
  {
   "cell_type": "markdown",
   "metadata": {},
   "source": [
    "実装できたらテストしなさい："
   ]
  },
  {
   "cell_type": "code",
   "execution_count": null,
   "metadata": {},
   "outputs": [],
   "source": [
    "ss = [[\"ブタ\", \"は\", \"ドングリ\", \"が\", \"好き\", \"．\"],\n",
    "      [\"リス\", \"は\", \"ドングリ\", \"も\", \"クルミ\", \"も\", \"好き\", \"．\"],\n",
    "      [\"\", \"Hello\", \",\", \" \", \"World\"], # 空文字を含むリスト\n",
    "      [\"\", \"\", \"\"],  # 空文字だけのリスト\n",
    "      [\"word\"]]      # 要素がひとつだけの場合\n",
    "\n",
    "#「ブタはドングリが好き．」と表示されるはず\n",
    "print(stringize(ss, 0))\n",
    "\n",
    "# 結果をテスト\n",
    "print(stringize(ss, 0) == 'ブタはドングリが好き．')\n",
    "print(stringize(ss, 1) == 'リスはドングリもクルミも好き．')\n",
    "print(stringize(ss, 2) == 'Hello, World')\n",
    "print(stringize(ss, 3) == '')\n",
    "print(stringize(ss, 4) == 'word')"
   ]
  },
  {
   "cell_type": "markdown",
   "metadata": {},
   "source": [
    "下のセルをクリックすると，「吾輩は猫である」の全ての文を並べた2重リストが変数 `neko` にセットされる："
   ]
  },
  {
   "cell_type": "code",
   "execution_count": null,
   "metadata": {},
   "outputs": [],
   "source": [
    "with open(\"neko.txt\", encoding=\"utf-8\") as f:\n",
    "    neko = [line.rstrip().split() for line in f]"
   ]
  },
  {
   "cell_type": "markdown",
   "metadata": {},
   "source": [
    "`neko` の適当な文を `stringize` を使っていくつか表示してみなさい："
   ]
  },
  {
   "cell_type": "code",
   "execution_count": null,
   "metadata": {},
   "outputs": [],
   "source": [
    "stringize(neko, 100)"
   ]
  },
  {
   "cell_type": "markdown",
   "metadata": {},
   "source": [
    "つぎに，後のステップで使うために，2重リストで表した文のリスト `sentences` と文番号のリスト `indices` を受け取って，`indices` の中のそれぞれの番号に対応する文を一行に一文ずつ表示する関数 `show_all(sentences, indices)` を実装しなさい．\n",
    "\n",
    "例えば `sentences` として上記の「吾輩は猫である」の文のリスト `neko` を入力し，`indices` として1番目，2番目，3番目の文を表す `indices = [1, 2, 3]` を入力した場合は以下のように「吾輩は猫である」の（先頭を0番目と数えて）1〜3番目の文が以下のように表示されるはずである（--> の行のあとの3行が出力結果）：\n",
    "```python\n",
    "show_all(neko, [1, 2, 3])\n",
    "-->\n",
    "吾輩は猫である。\n",
    "名前はまだ無い。\n",
    "どこで生れたかとんと見当がつかぬ。\n",
    "```"
   ]
  },
  {
   "cell_type": "code",
   "execution_count": null,
   "metadata": {},
   "outputs": [],
   "source": [
    "# *** 実装しなさい ***\n",
    "def show_all(sentences, indices):\n"
   ]
  },
  {
   "cell_type": "markdown",
   "metadata": {},
   "source": [
    "実装できたらテストしなさい："
   ]
  },
  {
   "cell_type": "code",
   "execution_count": null,
   "metadata": {},
   "outputs": [],
   "source": [
    "show_all(neko, [1, 2, 3])"
   ]
  },
  {
   "cell_type": "markdown",
   "metadata": {},
   "source": [
    "（`neko` の最初の文 `neko[0]` は章番号 \"ー\" なので，上のテストは「吾輩は猫である。」からの3文が表示されれば正しい）"
   ]
  },
  {
   "cell_type": "markdown",
   "metadata": {},
   "source": [
    "### Step 2：索引データの作成\n",
    "Step 1 のように，2重リストで表した文のリストを受け取り，どの単語が何番目の文に出てきたかを表す「索引」の役割をするデータを\n",
    "辞書で表したい．例えば，上で例にあげた2文のリスト：\n",
    "```python\n",
    "[[\"ブタ\", \"は\", \"ドングリ\", \"が\", \"好き\", \"．\"],\n",
    " [\"リス\", \"は\", \"ドングリ\", \"も\", \"クルミ\", \"も\", \"好き\", \"．\"]]\n",
    "```\n",
    "からは，以下のような索引データを作りたい：\n",
    "```python\n",
    "{\"ブタ\": [0],\n",
    " \"は\": [0, 1],\n",
    " \"ドングリ\": [0, 1],\n",
    " \"が\": [0],\n",
    " \"好き\": [0, 1],\n",
    " \"．\": [0, 1],\n",
    " \"リス\": [1],\n",
    " \"も\": [1],\n",
    " \"クルミ\": [1]}\n",
    "```\n",
    "\n",
    "例えば上の索引データで，キー `\"ドングリ\"` に対する値が `[0, 1]` なのは，単語「ドングリ」が文のリストの添字 0 の文（最初の文）と添字 1 の文（次の文）に出てきたことを表す．キー `\"ブタ\"` に対する値が `[0]` なのは，単語「ブタ」が添字 0 の文にだけ出てきたことを表す．\n",
    "\n",
    "ある文 `s` に同じ単語 `w` が何度出てきた場合でも，キー `w` に対する文番号のリストには文 `s` の番号が1度だけ含まれるようにしなさい．\n",
    "上の例では，単語「も」は添字 1 の文に2度出てくるが，索引でキー `\"も\"` に対する値は `[1, 1]` ではなく `[1]` である．\n",
    "\n",
    "また，各キーに対する文番号のリストの中では，文番号が昇順に並ぶようにしなさい（自然に実装すればそうなる）．\n",
    "\n",
    "同じ文番号を2度セットすることを防ぐ方法のヒント：文番号のリスト `ns` の最後の要素は `ns[len(ns)-1]` で得られる．同じことは `ns[-1]` とも書ける．\n",
    "\n",
    "例えば，索引データの辞書を `index` とするとき，各文・各単語を順番に処理（索引に登録）していけば，上の添字 `1` の文の2つ目の「も」を処理する時点で，同じ文の最初の「も」が登録ずみなので `index[\"も\"][-1]` の値は，既に `1` になっているはずである．\n",
    "\n",
    "では，2重リストで表された文のリスト `sentences` を入力とし，索引データを作成して返す関数 `make_index(sentences)` を実装しなさい："
   ]
  },
  {
   "cell_type": "code",
   "execution_count": null,
   "metadata": {},
   "outputs": [],
   "source": [
    "# *** 実装しなさい ***\n",
    "def make_index(sentences):\n"
   ]
  },
  {
   "cell_type": "markdown",
   "metadata": {},
   "source": [
    "さらにヒント（ダブルクリックで表示）\n",
    "<!--\n",
    "だいたい次のような手順になるだろう\n",
    "* 空の辞書 index を用意する\n",
    "* 文番号 i = 0, 1, 2, ..., (文の数-1) のそれぞれに対して\n",
    "    * sentences[i] の中のそれぞれの単語 w に対して\n",
    "        * もしもキー w が index に存在したら\n",
    "            * index[w] の最後の要素が i 以外なら\n",
    "                * index[w] に i を追加する\n",
    "            * index[w] の最後の要素が i ならなにもしない\n",
    "        * もしもキー w が index に存在しなければ\n",
    "            * index[w] を [i] で初期化する\n",
    "-->"
   ]
  },
  {
   "cell_type": "markdown",
   "metadata": {},
   "source": [
    "実装できたら，まず小さな例でテストしなさい："
   ]
  },
  {
   "cell_type": "code",
   "execution_count": null,
   "metadata": {},
   "outputs": [],
   "source": [
    "ss = [[\"ブタ\", \"は\", \"ドングリ\", \"が\", \"好き\", \"．\"],\n",
    "      [\"リス\", \"は\", \"ドングリ\", \"も\", \"クルミ\", \"も\", \"好き\", \"．\"]]\n",
    "\n",
    "test_result = make_index(ss) # ss の索引を作成\n",
    "\n",
    "print(\"test_result =\", test_result, \"\\n\")\n",
    "\n",
    "test_answer = {\n",
    "    'ブタ': [0],\n",
    "    'は': [0, 1],\n",
    "    'ドングリ': [0, 1],\n",
    "    'が': [0],\n",
    "    '好き': [0, 1],\n",
    "    '．': [0, 1],\n",
    "    'リス': [1],\n",
    "    'も': [1],\n",
    "    'クルミ': [1]\n",
    "}\n",
    "\n",
    "if test_result == test_answer:\n",
    "    print(\"テスト成功\")\n",
    "else:\n",
    "    print(\"テスト失敗\")"
   ]
  },
  {
   "cell_type": "markdown",
   "metadata": {},
   "source": [
    "正しく動いていたら，「吾輩は猫である」の索引データを作成し，変数 `neko_index` にセットしなさい："
   ]
  },
  {
   "cell_type": "code",
   "execution_count": null,
   "metadata": {},
   "outputs": [],
   "source": [
    "neko_index = make_index(neko)"
   ]
  },
  {
   "cell_type": "markdown",
   "metadata": {},
   "source": [
    "辞書に対して `len` 関数を適用すると，辞書のサイズ，すなわち辞書の中のキーの数が返される．\n",
    "\n",
    "`neko_index` に `len` 関数を適用し，索引のサイズ（＝「吾輩は猫である」に出てくる異なる単語の総数）を見てみなさい．`13583` になるはずである："
   ]
  },
  {
   "cell_type": "code",
   "execution_count": null,
   "metadata": {},
   "outputs": [],
   "source": [
    "len(neko_index)"
   ]
  },
  {
   "cell_type": "markdown",
   "metadata": {},
   "source": [
    "いくつかの単語について索引が正しく作れているかテスト："
   ]
  },
  {
   "cell_type": "code",
   "execution_count": null,
   "metadata": {},
   "outputs": [],
   "source": [
    "print(neko_index[\"巨人\"] == [971, 982, 983, 990, 992, 994, 1379, 1380])\n",
    "print(neko_index[\"吃驚\"] == [4601, 9107])\n",
    "print(neko_index[\"ニャー\"] == [34])"
   ]
  },
  {
   "cell_type": "markdown",
   "metadata": {},
   "source": [
    "### Step 3: キーワード１つによる検索結果の表示\n",
    "索引データの辞書に，添え字演算子でキーワードを与えると文番号のリストが返される："
   ]
  },
  {
   "cell_type": "code",
   "execution_count": null,
   "metadata": {},
   "outputs": [],
   "source": [
    "neko_index[\"学生\"]"
   ]
  },
  {
   "cell_type": "markdown",
   "metadata": {},
   "source": [
    "索引に含まれないキーワードを添え字演算子で指定するとエラーになる："
   ]
  },
  {
   "cell_type": "code",
   "execution_count": null,
   "metadata": {},
   "outputs": [],
   "source": [
    "neko_index[\"iphone\"]"
   ]
  },
  {
   "cell_type": "markdown",
   "metadata": {},
   "source": [
    "エラーになることを確認したら上のセルの中身はコメントアウトして，後で Run All したとき止まらないようにしなさい．\n",
    "\n",
    "<!--\n",
    "上で見た KeyError というエラーは，この先何度も体験することになるだろう．\n",
    "修正する手順としてはだいたい以下のようになる：\n",
    "1. エラーが起きた行（メッセージで→から始まっている行）を見て，どの辞書をどのキーで検索したのか特定する\n",
    "2. 上の例では \"iphone\" という文字列で検索しているので，それが辞書に存在しなかったのが原因だとすぐわかる．しかし普通は変数で `neko_index[x]` のように検索するので，エラーが起きている行の直前で `print(x)` して，どのキーで検索してエラーになったのか調べる．\n",
    "3. エラーの原因になったキーが辞書に存在するはずのものなら辞書を作成した部分を見直す\n",
    "4. そもそも辞書に存在しない可能性があるキーで検索していたら，キーの選び方が間違っているか，あるいは `if x in neko_index` のようにキーの存在チェックをする必要がある\n",
    "-->"
   ]
  },
  {
   "cell_type": "markdown",
   "metadata": {},
   "source": [
    "このエラーを防ぐには，`in` 演算子を使って \n",
    "```python\n",
    "if \"iphone\" in neko_index:\n",
    "   # \"iphone\" が索引に存在した場合の処理\n",
    "else:\n",
    "   # \"iphone\" が索引に存在しない場合の処理\n",
    "```\n",
    "のように場合分けすればよい．\n",
    "\n",
    "しかし，ややめんどうくさいので，代わりに `get` メソッドを使おう．\n",
    "\n",
    "辞書 `d` に対し `d.get(k, default)` のようにキー `k` とデフォルト値 `default` を引数として `get` メソッドを呼び出すと，\n",
    "* キー `k` が辞書に存在する場合は，対応する値が返される（添え字演算子を使った `d[k]` と同様）\n",
    "* キー `k` が辞書に存在しない場合は `default` が返される\n",
    "\n",
    "`default` のところに空リスト `[]` を指定することで，「吾輩は猫である」に存在しないキーワードを指定した場合は空リストが返るようにできる．\n",
    "\n",
    "**ミニミニ練習**：`get` メソッドを使って `neko_index` からキー `\"python\"` を検索しなさい．その際デフォルト値として `[]` を指定しなさい．"
   ]
  },
  {
   "cell_type": "code",
   "execution_count": null,
   "metadata": {},
   "outputs": [],
   "source": [
    "# get メソッドを使って neko_index から \"python\" を検索しなさい\n"
   ]
  },
  {
   "cell_type": "markdown",
   "metadata": {},
   "source": [
    "答え（ダブルクリックで表示）\n",
    "<!--\n",
    "\n",
    "neko_index.get(\"python\", [])\n",
    "\n",
    "-->"
   ]
  },
  {
   "cell_type": "markdown",
   "metadata": {},
   "source": [
    "**ミニミニ練習**: もう一度 `get` メソッドを使って `neko_index` からキー \"学生\" を検索しなさい．デフォルト値として `[]` を指定しなさい．返ってくる値は `[]` ではなくいくつか上のセルの `neko_index[\"学生\"]` の結果と同じであることを確認しなさい．\n"
   ]
  },
  {
   "cell_type": "code",
   "execution_count": null,
   "metadata": {},
   "outputs": [],
   "source": [
    "# get メソッドを使って neko_index から \"学生\" を検索しなさい\n"
   ]
  },
  {
   "cell_type": "markdown",
   "metadata": {},
   "source": [
    "索引データ `index` と，単語のリストとして表した文のリスト `sentences`，およびキーワード `k` を受け取り，`k` を含む文を一行に一文ずつ全て表示（print）する関数 `search_1(index, sentences, k)` を実装しなさい．`sentences` の中身は表示のためだけに使い，`k` を含む文を調べるのには `index` を用いること．（上で実装した `show_all` を使えば `search_1` の本体は1行で書ける）："
   ]
  },
  {
   "cell_type": "code",
   "execution_count": null,
   "metadata": {},
   "outputs": [],
   "source": [
    "# *** 実装しなさい ***\n",
    "def search_1(index, sentences, k):\n"
   ]
  },
  {
   "cell_type": "markdown",
   "metadata": {},
   "source": [
    "実装できたら，まず小さいデータでテストしなさい："
   ]
  },
  {
   "cell_type": "code",
   "execution_count": null,
   "metadata": {},
   "outputs": [],
   "source": [
    "ss = [[\"ブタ\", \"は\", \"ドングリ\", \"が\", \"好き\", \"．\"],\n",
    "      [\"リス\", \"は\", \"ドングリ\", \"も\", \"クルミ\", \"も\", \"好き\", \"．\"]]\n",
    "mini_index = make_index(ss)\n",
    "\n",
    "search_1(mini_index, ss, \"ドングリ\")"
   ]
  },
  {
   "cell_type": "code",
   "execution_count": null,
   "metadata": {},
   "outputs": [],
   "source": [
    "search_1(mini_index, ss, \"クルミ\")"
   ]
  },
  {
   "cell_type": "code",
   "execution_count": null,
   "metadata": {},
   "outputs": [],
   "source": [
    "search_1(mini_index, ss, \"アーモンド\")"
   ]
  },
  {
   "cell_type": "markdown",
   "metadata": {},
   "source": [
    "最後の例は，実行しても何も表示されないのが正しい動作である．"
   ]
  },
  {
   "cell_type": "markdown",
   "metadata": {},
   "source": [
    "ここまでのテストが正しく動いていたら，「吾輩」を適当なキーワードで検索してみなさい："
   ]
  },
  {
   "cell_type": "code",
   "execution_count": null,
   "metadata": {
    "scrolled": true
   },
   "outputs": [],
   "source": [
    "search_1(neko_index, neko, \"医者\")"
   ]
  },
  {
   "cell_type": "markdown",
   "metadata": {},
   "source": [
    "「鬼」で検索すると2つの文が表示されるはずである．表示される文が多すぎ・少なすぎの場合は実装がどこかで間違っている．"
   ]
  },
  {
   "cell_type": "code",
   "execution_count": null,
   "metadata": {},
   "outputs": [],
   "source": [
    "search_1(neko_index, neko, \"鬼\")"
   ]
  },
  {
   "cell_type": "markdown",
   "metadata": {},
   "source": [
    "### Step 4: ２つのキーワードによるAND検索結果の表示\n",
    "次は，２つのキーワードを両方とも含む文を検索することを考える．\n",
    "\n",
    "例えば，「猫」を含む文の番号のリストが `[0, 2, 5, 7]`，「犬」を含む文の番号のリストが `[1, 2, 3, 5, 9]` だったとすると，「犬」と「猫」を両方含む文の番号は `[2, 5]` となる．\n",
    "\n",
    "もしも2つの文番号リスト `xs = [x1, x2, x3, ...]` と `ys = [y1, y2, y3, ...]` が**どちらも昇順にならんでいれば**，つぎのようにして `xs` と `ys` 両方に現れる番号のリストを得ることができる：\n",
    "* まず，`xs` の要素を指定する添え字 `i` および `ys` の要素を指定する添え字 `j` をどちらも `0` で初期化する\n",
    "* また，`xs` と `ys` の両方に含まれる番号を入れるリスト `zs` を `[]` で初期化する\n",
    "* `i` が `xs` の長さより小さく，`j` が `ys` の長さより小さい間（while 文を使おう），以下を繰り返す\n",
    "  * もし `xs[i] == ys[j]` ならば，`xs[i]` は `xs` にも `ys` にも含まれる．よって `xs[i]` を結果のリスト `zs` に追加し，`i` と `j` をどちらも1増やす\n",
    "  * もし `xs[i] < ys[j]` ならば，`xs[i]` は `xs` にしか含まれないので，`i` を1増やす\n",
    "  * もし `xs[i] > ys[j]` ならば，`ys[j]` は `ys` にしか含まれないので，`j` を1増やす\n",
    "  \n",
    "上のやり方で，2つの文番号リスト `xs` と `ys` を受け取り，共通の文番号のリストを返す関数 `intersect` を実装しなさい："
   ]
  },
  {
   "cell_type": "code",
   "execution_count": null,
   "metadata": {},
   "outputs": [],
   "source": [
    "# *** 実装しなさい ***\n",
    "def intersect(xs, ys):\n"
   ]
  },
  {
   "cell_type": "markdown",
   "metadata": {},
   "source": [
    "実装できたら，まず `intersect` を単体でテストしましょう（全て True が表示されるはず）："
   ]
  },
  {
   "cell_type": "code",
   "execution_count": null,
   "metadata": {},
   "outputs": [],
   "source": [
    "print(intersect([0, 2, 5, 7], [1, 2, 3, 5, 9]) == [2, 5])\n",
    "print(intersect([0, 3, 4, 6], [1, 3, 4, 7]) == [3, 4])\n",
    "print(intersect([1, 3, 4, 7], [1, 3, 4, 7]) == [1, 3, 4, 7])\n",
    "print(intersect([0, 3, 4, 6], [1, 2, 5, 7]) == [])\n",
    "\n",
    "# どちらかが空リストなら結果も空\n",
    "print(intersect([1, 2, 3], []) == [])\n",
    "print(intersect([], [1, 2, 3]) == [])"
   ]
  },
  {
   "cell_type": "markdown",
   "metadata": {},
   "source": [
    "`intersect` が正しく動いたら，索引データ `index` と，単語のリストとして表した文のリスト `sentences`，およびキーワード２つ `k1` と `k2` を受け取り，`k1` と `k2` を両方含む文をすべて検索して1行に1文ずつ表示する関数 `search_2(index, sentences, k1, k2)` を実装しなさい： "
   ]
  },
  {
   "cell_type": "code",
   "execution_count": null,
   "metadata": {},
   "outputs": [],
   "source": [
    "def search_2(index, sentences, k1, k2):\n",
    "    # ** 実装しなさい **\n"
   ]
  },
  {
   "cell_type": "markdown",
   "metadata": {},
   "source": [
    "実装できたら，まず小さいデータで検索してみましょう："
   ]
  },
  {
   "cell_type": "code",
   "execution_count": null,
   "metadata": {},
   "outputs": [],
   "source": [
    "ss = [[\"ブタ\", \"は\", \"ドングリ\", \"が\", \"好き\", \"．\"],\n",
    "      [\"猫\", \"は\", \"ドングリ\", \"が\", \"嫌い\", \"．\"],\n",
    "      [\"犬\", \"は\", \"泳ぎ\", \"が\", \"得意\", \"．\"],\n",
    "      [\"リス\", \"は\", \"ドングリ\", \"も\", \"クルミ\", \"も\", \"好き\", \"．\"],\n",
    "      [\"猫\", \"は\", \"魚\", \"が\", \"好き\", \"．\"]]\n",
    "mini_index = make_index(ss)\n",
    "\n",
    "search_2(mini_index, ss, \"ドングリ\", \"好き\")"
   ]
  },
  {
   "cell_type": "code",
   "execution_count": null,
   "metadata": {},
   "outputs": [],
   "source": [
    "search_2(mini_index, ss, \"リス\", \"好き\")"
   ]
  },
  {
   "cell_type": "markdown",
   "metadata": {},
   "source": [
    "結果がひとつもない場合もテストして，エラーにならないことを確かめなさい："
   ]
  },
  {
   "cell_type": "code",
   "execution_count": null,
   "metadata": {},
   "outputs": [],
   "source": [
    "search_2(mini_index, ss, \"ブタ\", \"クルミ\")"
   ]
  },
  {
   "cell_type": "markdown",
   "metadata": {},
   "source": [
    "正しく動いているようだったら，「吾輩」を適当な二つのキーワードで検索してみなさい："
   ]
  },
  {
   "cell_type": "code",
   "execution_count": null,
   "metadata": {},
   "outputs": [],
   "source": [
    "search_2(neko_index, neko, \"犬\", \"猫\")"
   ]
  },
  {
   "cell_type": "markdown",
   "metadata": {},
   "source": [
    "「吾輩」「乱暴」の二つのキーワードで検索すると，ちょうど2つの文が表示されるはずである："
   ]
  },
  {
   "cell_type": "code",
   "execution_count": null,
   "metadata": {},
   "outputs": [],
   "source": [
    "search_2(neko_index, neko, \"吾輩\", \"乱暴\")"
   ]
  },
  {
   "cell_type": "markdown",
   "metadata": {},
   "source": [
    "### Step 5: 任意の数のキーワードによるAND検索\n",
    "最後に，任意の数のキーワードをすべて含む文を検索できるようにしよう．\n",
    "\n",
    "このために，まず任意の数の文番号のリストのリスト（2重リスト）`xss = [xs1, xs2, ..., xs_n]` を受け取り，`xs1, ..., xs_n` 全てに共通して含まれる番号のリストを返す関数 `intersect_n` を実装しなさい："
   ]
  },
  {
   "cell_type": "markdown",
   "metadata": {},
   "source": [
    "ヒント（ダブルクリックで表示）\n",
    "<!--\n",
    "xss = [xs1, xs2, ..., xs_n] とする．\n",
    "\n",
    "もしも xss が空リスト [] ならば結果として [] を返せばよい．\n",
    "\n",
    "そうでなければ，\n",
    "ix1, ix2, ..., ix_n すべてに含まれる文番号のリスト zs は\n",
    "\n",
    "zs = ix1\n",
    "zs = intersect(zs, ix2) # zs は ix1 と ix2 の共通部分になる\n",
    "zs = intersect(zs, ix3) # zs は ix1, ix2, ix3 の共通部分になる\n",
    "...\n",
    "zs = intersect(zs, ix_n) # zs は ix1, .., ix_n の共通部分になる\n",
    "\n",
    "で求めることができる．\n",
    "これをループを使って実現すればよい．\n",
    "-->"
   ]
  },
  {
   "cell_type": "code",
   "execution_count": null,
   "metadata": {},
   "outputs": [],
   "source": [
    "# *** 実装しなさい ***\n",
    "def intersect_n(xss):\n"
   ]
  },
  {
   "cell_type": "markdown",
   "metadata": {},
   "source": [
    "実装できたらテストしましょう（全て True になるはず）："
   ]
  },
  {
   "cell_type": "code",
   "execution_count": null,
   "metadata": {},
   "outputs": [],
   "source": [
    "print(intersect_n([[0, 1, 2, 4],\n",
    "                   [0, 1, 2, 3, 4, 5],\n",
    "                   [2, 3, 4, 7]]) == [2, 4])\n",
    "\n",
    "# 2つ目のリストまでで共通部分が空になる場合\n",
    "print(intersect_n([[1, 3, 5, 7],\n",
    "                   [2, 4, 6, 8],\n",
    "                   [2, 4, 6, 8]]) == [])\n",
    "\n",
    "# そもそもリストのリストが空の場合\n",
    "print(intersect_n([]) == [])\n",
    "\n",
    "# リストが1つだけの場合\n",
    "print(intersect_n([[1, 3, 5, 7]]) == [1, 3, 5, 7])\n",
    "\n",
    "# リストが2つだけの場合\n",
    "print(intersect_n([[1, 3, 5, 7], [3, 4, 5]]) == [3, 5])"
   ]
  },
  {
   "cell_type": "markdown",
   "metadata": {},
   "source": [
    "`intersect_n` が正しく実装できたら，索引データ `index` と，単語のリストとして表した文のリスト `sentences`，および，任意の数のキーワードのリスト `keywords` を受け取って，`keywords` に含まれる単語をすべて含む文を一行に一文ずつ表示する関数 `search_n(index, sentences, keywords)` を実装しなさい．"
   ]
  },
  {
   "cell_type": "markdown",
   "metadata": {},
   "source": [
    "ヒント（ダブルクリックで表示）\n",
    "<!--\n",
    "以下の手順でできるだろう：\n",
    "* まず各キーワードを含む文番号リストのリスト xss を空リストで初期化する\n",
    "* keywords の中の各単語 w について\n",
    "    * index から get メソッドを使って w を含む文のリスト xs を得る\n",
    "    * xss に xs を追加する（append メソッド）\n",
    "* intersect_n を使って，xss の中の文番号リストの共通部分を得る\n",
    "* あとは search_1, search_2 と同じ\n",
    "-->"
   ]
  },
  {
   "cell_type": "code",
   "execution_count": null,
   "metadata": {},
   "outputs": [],
   "source": [
    "def search_n(index, sentences, keywords):\n"
   ]
  },
  {
   "cell_type": "markdown",
   "metadata": {},
   "source": [
    "実装できたらまずは小さいデータでテストしましょう："
   ]
  },
  {
   "cell_type": "code",
   "execution_count": null,
   "metadata": {},
   "outputs": [],
   "source": [
    "ss = [[\"ブタ\", \"は\", \"ドングリ\", \"が\", \"好き\", \"．\"],\n",
    "      [\"リス\", \"は\", \"ドングリ\", \"も\", \"クルミ\", \"も\", \"好き\", \"．\"]]\n",
    "mini_index = make_index(ss)\n",
    "\n",
    "search_n(mini_index, ss, [\"ドングリ\", \"クルミ\", \"好き\"])"
   ]
  },
  {
   "cell_type": "markdown",
   "metadata": {},
   "source": [
    "キーワードが一つでも検索できることをテストしなさい："
   ]
  },
  {
   "cell_type": "code",
   "execution_count": null,
   "metadata": {},
   "outputs": [],
   "source": [
    "search_n(mini_index, ss, [\"ドングリ\"])"
   ]
  },
  {
   "cell_type": "markdown",
   "metadata": {},
   "source": [
    "結果が一つもない場合もエラーにはならないことを確認しなさい："
   ]
  },
  {
   "cell_type": "code",
   "execution_count": null,
   "metadata": {},
   "outputs": [],
   "source": [
    "search_n(mini_index, ss, [\"ドングリ\", \"クルミ\", \"ブタ\"])"
   ]
  },
  {
   "cell_type": "markdown",
   "metadata": {},
   "source": [
    "正しく動いていそうだったら，「吾輩は猫である」を適当な複数のキーワードで検索してみなさい："
   ]
  },
  {
   "cell_type": "code",
   "execution_count": null,
   "metadata": {},
   "outputs": [],
   "source": [
    "search_n(neko_index, neko, [\"猫\", \"先生\", \"人間\"])"
   ]
  },
  {
   "cell_type": "code",
   "execution_count": null,
   "metadata": {
    "scrolled": true
   },
   "outputs": [],
   "source": [
    "search_n(neko_index, neko, [\"僕\", \"人\", \"です\"])"
   ]
  },
  {
   "cell_type": "markdown",
   "metadata": {},
   "source": [
    "「猫」「虎」「吾輩」の3つのキーワードで検索すると，ちょうど3つの文が表示されるはずである．\n",
    "\n",
    "（長い文は改行されるので3行以上に見えることがあるが「。」までが一文）"
   ]
  },
  {
   "cell_type": "code",
   "execution_count": null,
   "metadata": {},
   "outputs": [],
   "source": [
    "search_n(neko_index, neko, [\"猫\", \"虎\", \"吾輩\"])"
   ]
  },
  {
   "cell_type": "markdown",
   "metadata": {},
   "source": [
    "---\n",
    "お疲れ様でした．以上で今回の必須課題は終わりです．\n",
    "\n",
    "## 課題提出の前の注意\n",
    "* かならずメニューの \"Run\" から \"Run All Cells\" を選択し，全てのセルが正しく実行されることを確認すること\n",
    "* \"Run All Cells\" を実行したら，各セルの実行結果が表示されている状態で保存のボタンを押してノートブックを保存すること\n",
    "* 上記のようにして，実行結果まで含めて保存してからノートブックを提出すること．\n",
    "* 以下の「チャレンジ課題」は余力がある人のための課題です．セルを正しく実装して提出すれば加点します．"
   ]
  },
  {
   "cell_type": "markdown",
   "metadata": {},
   "source": [
    "## チャレンジ課題6.3: 最長コラッツ列\n",
    "自然数 $k\\ge 1$ を初項とするコラッツ列は以下のように定義される自然数列である：\n",
    "* $c_1 = k$\n",
    "* $c_n$ が偶数のとき，$c_{n+1} = \\frac{1}{2} c_n$\n",
    "* $c_n$ が奇数のとき，$c_{n+1} = 3 c_n + 1$\n",
    "\n",
    "例えば $k = 6$ を初項とするコラッツ列は $c_1 = 6 \\rightarrow c_2 = 3 \\rightarrow c_3 = 10 \\rightarrow c_4 = 5 \\rightarrow c_5 = 16 \\rightarrow c_6 = 8 \\rightarrow c_7 = 4 \\rightarrow c_8 = 2 \\rightarrow c_9 = 1 \\rightarrow \\cdots$ となる．\n",
    "\n",
    "「どのような自然数 $k \\ge 1$ を初項とする場合でも，コラッツ列はいつか $c_n = 1$ となる」という予想（[コラッツ予想](https://ja.wikipedia.org/wiki/%E3%82%B3%E3%83%A9%E3%83%83%E3%83%84%E3%81%AE%E5%95%8F%E9%A1%8C)）があるが，未解決である．\n",
    "\n",
    "ある初項から始めたコラッツ列が，最初に $c_n = 1$ となる $n$ を，そのコラッツ列の「長さ」と呼ぶことにする．例えば上の $c_1 = 6$ の例では長さ 9 である．\n",
    "\n",
    "(1) 初項 $k$ が1000以下のコラッツ列のうち，最長のものの長さを求めたい．初項の最大値 `max_k` を入力とし，初項が `k = 1, 2, ..., max_k` のコラッツ列のうち最長のものの長さを返す関数 `longest_collatz(max_k)` を実装しなさい．"
   ]
  },
  {
   "cell_type": "markdown",
   "metadata": {},
   "source": [
    "ヒント（ダブルクリックで表示）\n",
    "<!--\n",
    "まず，コラッツ列のある項の値 c を与えたときに次の項の値を返す関数を実装し，\n",
    "次に，それを用いて，初項が k のコラッツ列の長さを計算する関数を実装し，\n",
    "最後に，それを使って longest_collatz(max_k) を実装するとよい．\n",
    "-->"
   ]
  },
  {
   "cell_type": "code",
   "execution_count": null,
   "metadata": {},
   "outputs": [],
   "source": [
    "def longest_collatz(max_k):\n",
    "    # *** 実装しなさい ***\n",
    "    # ** これはダミーの実装です **\n",
    "    # ** 課題をやる人は消してください **\n",
    "    return 1"
   ]
  },
  {
   "cell_type": "markdown",
   "metadata": {},
   "source": [
    "実装できたら，初項 $k$ が1000以下のコラッツ列のうち，最長のものの長さを求めてみなさい："
   ]
  },
  {
   "cell_type": "code",
   "execution_count": null,
   "metadata": {},
   "outputs": [],
   "source": [
    "longest_collatz(1000)"
   ]
  },
  {
   "cell_type": "markdown",
   "metadata": {},
   "source": [
    "(1) の答え（ダブルクリックで表示）\n",
    "<!--\n",
    "答え：179\n",
    "-->"
   ]
  },
  {
   "cell_type": "markdown",
   "metadata": {},
   "source": [
    "(2) 初項 $k$ が$10^7$（1千万）以下のコラッツ列のうち，最長のものの長さを求めたい．\n",
    "\n",
    "特に工夫をしていなければ (1) で実装した `longest_collatz` では1分以上かかるだろう．`longest_collatz(max_k)` と同じ値を返すが，`max_k = 10 ** 7` に対しても20秒未満で答えが得られるように工夫した `fast_longest_collatz(max_k)` を実装しなさい．\n",
    "\n",
    "---\n",
    "#### 進行状況を見るには\n",
    "たぶんプログラムの中に，初項 $k = 1, 2, 3, \\dots$ についてそれぞれ長さを計算するための\n",
    "```python\n",
    "for k in range(1, max_k+1):\n",
    "    ...\n",
    "```\n",
    "のようなループがあるだろう．そこを\n",
    "```python\n",
    "for k in tqdm(range(1, max_k+1)):\n",
    "    ...\n",
    "```\n",
    "としなさい．（自分で進行状況を見るのと，何秒かかったのか記録するため）\n",
    "\n",
    "---"
   ]
  },
  {
   "cell_type": "code",
   "execution_count": null,
   "metadata": {},
   "outputs": [],
   "source": [
    "from tqdm import tqdm # tqdm の使用のために必要\n",
    "\n",
    "def fast_longest_collatz(max_k):\n",
    "    # ** 実装しなさい **\n",
    "    # ** これはダミーの実装です **\n",
    "    # ** 課題をやる人は消してください **\n",
    "    return 1\n"
   ]
  },
  {
   "cell_type": "markdown",
   "metadata": {},
   "source": [
    "(2) のヒント（ダブルクリックで表示）\n",
    "<!--\n",
    "例えば初項が 6 のコラッツ列の長さは 9 だった．\n",
    "ということは，初項が 12 のコラッツ列は c1 = 12, c2 = 6 まで計算した時点で 1 + 9 = 10 と分かる．\n",
    "-->"
   ]
  },
  {
   "cell_type": "markdown",
   "metadata": {},
   "source": [
    "実装できたら答えを求めてみなさい．20秒程度待っても答えがでなければ実装をもっと工夫しなさい："
   ]
  },
  {
   "cell_type": "code",
   "execution_count": null,
   "metadata": {},
   "outputs": [],
   "source": [
    "fast_longest_collatz(10 ** 7)"
   ]
  },
  {
   "cell_type": "markdown",
   "metadata": {},
   "source": [
    "(2) の答え（ダブルクリックで表示）\n",
    "<!--\n",
    "答え：686\n",
    "-->"
   ]
  },
  {
   "cell_type": "markdown",
   "metadata": {},
   "source": [
    "---\n",
    "お疲れ様でした．以上で今回の課題は全て終わりです．\n",
    "\n",
    "## 課題提出の前の注意\n",
    "* かならずメニューの \"Run\" から \"Run All Cells\" を選択し，全てのセルが正しく実行されることを確認すること\n",
    "* \"Run All Cells\" を実行したら，各セルの実行結果が表示されている状態で保存のボタンを押してノートブックを保存すること\n",
    "* 上記のようにして，実行結果まで含めて保存してからノートブックを提出すること．"
   ]
  },
  {
   "cell_type": "markdown",
   "metadata": {},
   "source": [
    "**入門編６：おわり**"
   ]
  }
 ],
 "metadata": {
  "kernelspec": {
   "display_name": "Python [conda env:base] *",
   "language": "python",
   "name": "conda-base-py"
  },
  "language_info": {
   "codemirror_mode": {
    "name": "ipython",
    "version": 3
   },
   "file_extension": ".py",
   "mimetype": "text/x-python",
   "name": "python",
   "nbconvert_exporter": "python",
   "pygments_lexer": "ipython3",
   "version": "3.13.5"
  }
 },
 "nbformat": 4,
 "nbformat_minor": 4
}