{
 "cells": [
  {
   "cell_type": "markdown",
   "metadata": {},
   "source": [
    "# Python 入門編４：文字列型\n",
    "## 目次\n",
    "* [１．文字列の基本操作](#１．文字列の基本操作)\n",
    " * [文字列の定義](#文字列の定義)\n",
    "  * [ミニ練習](#ミニ練習)\n",
    " * [添え字による文字へのアクセス](#添え字による文字へのアクセス)\n",
    " * [文字列の結合](#文字列の結合)\n",
    "* [２．さまざまな文字列処理](#２．さまざまな文字列処理)\n",
    " * [練習4.1: 結合（join）](#練習4.1:-結合（join）)\n",
    " * [練習4.2: 部分文字列](#練習4.2:-部分文字列)\n",
    " * [練習4.3: 部分文字列の一致（startswith）](#練習4.3:-部分文字列の一致（startswith）)\n",
    " * [練習4.4: 探索（find）](#練習4.4:-探索（find）)\n",
    " * [練習4.5: 置換（replace）](#練習4.5:-置換（replace）)\n",
    " * [チャレンジ課題4.6: 分割（split）](#チャレンジ課題4.6:-分割（split）)\n",
    "* [３．シーケンスの要素を添え字を使わずに取り出す](#３．シーケンスの要素を添え字を使わずに取り出す)\n",
    "* [４．文字列と他のデータ型の相互変換](#４．文字列と他のデータ型の相互変換)\n",
    " * [文字列とリストの相互変換](#文字列とリストの相互変換)\n",
    " * [文字列と数値の相互変換](#文字列と数値の相互変換)\n",
    " * [練習4.7: 日本語電卓](#練習4.7:-日本語電卓)\n",
    "* [５．format メソッド](#５．format-メソッド)\n",
    "  * [表示幅](#表示幅)\n",
    "  * [右寄せ・左寄せ](#右寄せ・左寄せ)\n",
    "  * [表示桁数](#表示桁数)\n",
    " * [練習4.8: 式付きの九九の表](#練習4.8:-式付きの九九の表)\n",
    " * [練習4.9: 周期表](#練習4.9:-周期表)\n",
    "* [課題提出の前の注意](#課題提出の前の注意)\n",
    "* [６．チャレンジ課題集](#６．チャレンジ課題集)\n",
    " * [チャレンジ課題4.10：整数の漢字表記](#チャレンジ課題4.10：整数の漢字表記)\n",
    " * [チャレンジ課題4.11: 数の読み上げ](#チャレンジ課題4.11:-数の読み上げ)\n",
    "\n",
    "---\n",
    "\n",
    "このノートブックでは，文字列の処理について練習します．\n",
    "\n",
    "文章は画像とならび，コンピュータから人間へ向けて情報を伝える最も基本的な手段です．コンピュータの内部では，文章は文字列データとして表現されます．このため，プログラミングを通じてコンピュータを使いこなす上で，文字列の処理になじんでおくことは重要です．\n",
    "\n",
    "また，データとしての文字列は，文字が1次元的に連なったシンプルな構造を持つため，文字列の処理は，繰り返しや場合分けを組み合わせた基本的なプログラミングの良い練習になります．"
   ]
  },
  {
   "cell_type": "markdown",
   "metadata": {},
   "source": [
    "## １．文字列の基本操作"
   ]
  },
  {
   "cell_type": "markdown",
   "metadata": {},
   "source": [
    "### 文字列の定義\n",
    "\n",
    "プログラム中で直接文字列を定義するには，`'apple'` あるいは `\"banana\"` のように `'` （シングルクォート）または `\"` （ダブルクォート）で文字列を囲めばよい．"
   ]
  },
  {
   "cell_type": "code",
   "execution_count": null,
   "metadata": {},
   "outputs": [],
   "source": [
    "a = 'apple'\n",
    "b = \"banana\"\n",
    "\n",
    "print(a)\n",
    "print(b)"
   ]
  },
  {
   "cell_type": "markdown",
   "metadata": {},
   "source": [
    "`'...'` で囲んだ文字列は `\"` を含むことができる．`\"...\"` で囲んだ文字列は `'` を含むことができる．"
   ]
  },
  {
   "cell_type": "code",
   "execution_count": null,
   "metadata": {},
   "outputs": [],
   "source": [
    "s1 = 'She said \"Hello!\"'\n",
    "s2 = \"I can't swim!\"\n",
    "print(s1)\n",
    "print(s2)"
   ]
  },
  {
   "cell_type": "markdown",
   "metadata": {},
   "source": [
    "`'...'` で囲んだ文字列に `'` を直接含めることはできない．同様に `\"...\"` に `\"` を直接含めることはできない．\n",
    "\n",
    "\n",
    "囲む文字（引用符）と同じ文字を含む文字列を定義したければ，バックスラッシュ（`\\`）を引用符の前に置き `\\'` あるいは `\\\"` とすればよい．\n",
    "\n",
    "#### ミニ練習\n",
    "1. まず，以下のセルを実行してエラーになることを確かめよ．\n",
    "2. 次に，文字列中の引用符の前にバックスラッシュを追加し\n",
    "```\n",
    "s = 'it\\'s OK'\n",
    "t = \"She said \\\"Hello!\\\"\"\n",
    "```\n",
    "と修正することで，引用符を含んだ文字列が正しく出力されることを確かめよ．"
   ]
  },
  {
   "cell_type": "code",
   "execution_count": null,
   "metadata": {},
   "outputs": [],
   "source": [
    "s = 'it's OK'\n",
    "t = \"She said \"Hello!\"\"\n",
    "print(s)\n",
    "print(t)"
   ]
  },
  {
   "cell_type": "markdown",
   "metadata": {},
   "source": [
    "### 添え字による文字へのアクセス\n",
    "リストと同様に，添え字によって文字列から文字を取り出すことができる．\n",
    "添え字はゼロ始まりである．\n",
    "つまり，最初の文字は添え字 0，次の文字は添え字 1 に対応する．"
   ]
  },
  {
   "cell_type": "markdown",
   "metadata": {},
   "source": [
    "下のセルを実行したときに表示される文字を予想してから確かめなさい："
   ]
  },
  {
   "cell_type": "code",
   "execution_count": null,
   "metadata": {},
   "outputs": [],
   "source": [
    "s = \"abcde\"\n",
    "print(s[2])"
   ]
  },
  {
   "cell_type": "markdown",
   "metadata": {},
   "source": [
    "C言語と違い，文字と文字列には型の区別がない．すなわち，文字は長さ１の文字列である．"
   ]
  },
  {
   "cell_type": "code",
   "execution_count": null,
   "metadata": {},
   "outputs": [],
   "source": [
    "s = \"abc\"\n",
    "print(s[0] == \"a\")"
   ]
  },
  {
   "cell_type": "markdown",
   "metadata": {},
   "source": [
    "文字列の長さは，`len` 関数で取得できる．"
   ]
  },
  {
   "cell_type": "code",
   "execution_count": null,
   "metadata": {},
   "outputs": [],
   "source": [
    "s = \"abcde\"\n",
    "len(s)"
   ]
  },
  {
   "cell_type": "markdown",
   "metadata": {},
   "source": [
    "リストとは異なり，添え字を使って文字列の中の文字を書き換えることは**できない**．\n",
    "\n",
    "以下のセルを実行して，エラーが起きることを確かめよ："
   ]
  },
  {
   "cell_type": "code",
   "execution_count": null,
   "metadata": {},
   "outputs": [],
   "source": [
    "s = \"hello\"\n",
    "# \"hello\" -> \"Hello\" と書き換えたい\n",
    "# （後でコメントアウトする）\n",
    "s[0] = \"H\""
   ]
  },
  {
   "cell_type": "markdown",
   "metadata": {},
   "source": [
    "上のセルの実行結果がエラーになることを確かめたら，後で「全て実行（Run All Cells）」したときに止まらないように `s[0] = \"H\"` の行を<font color=\"red\">コメントアウトしなさい</font>．\n",
    "\n",
    "コメントアウトとは行の先頭に '#' を入れて，その行が実行されないようにすること．つまり上のセルの4行目の先頭に '#' を入れて以下のような状態にする：\n",
    "```python\n",
    "s = \"hello\"\n",
    "# \"hello\" -> \"Hello\" と書き換えたい\n",
    "# （後でコメントアウトする）\n",
    "#s[0] = \"H\"\n",
    "```\n",
    "\n",
    "コメントアウトしたあともう一度セルを実行して，エラーにならないことを確かめなさい．"
   ]
  },
  {
   "cell_type": "markdown",
   "metadata": {},
   "source": [
    "**ミニ練習**: 与えられた文字列 `s` を先頭から1文字ずつ，各文字の後で改行して出力する関数 `tategaki(s)` を実装しなさい．\n",
    "\n",
    "例: `tategaki(\"こんにちは\")`  の実行結果：\n",
    "```\n",
    "こ\n",
    "ん\n",
    "に\n",
    "ち\n",
    "は\n",
    "```"
   ]
  },
  {
   "cell_type": "code",
   "execution_count": null,
   "metadata": {},
   "outputs": [],
   "source": [
    "def tategaki(s):\n",
    "    ### 実装しなさい\n"
   ]
  },
  {
   "cell_type": "markdown",
   "metadata": {},
   "source": [
    "実装できたら下のセルをクリックしてテストしなさい："
   ]
  },
  {
   "cell_type": "code",
   "execution_count": null,
   "metadata": {},
   "outputs": [],
   "source": [
    "tategaki(\"テストです\")"
   ]
  },
  {
   "cell_type": "markdown",
   "metadata": {},
   "source": [
    "### 文字列の結合\n",
    "2つの文字列を結合するには `+` 演算子を使えばよい："
   ]
  },
  {
   "cell_type": "code",
   "execution_count": null,
   "metadata": {},
   "outputs": [],
   "source": [
    "s1 = \"私は\"\n",
    "s2 = \"猫です\"\n",
    "s = s1 + s2\n",
    "print(s)"
   ]
  },
  {
   "cell_type": "markdown",
   "metadata": {},
   "source": [
    "ある文字列に，次々に文字列を付け加えていくには `+=` 演算子を使えばよい："
   ]
  },
  {
   "cell_type": "code",
   "execution_count": null,
   "metadata": {},
   "outputs": [],
   "source": [
    "s = \"\" # 空の文字列\n",
    "s += \"私は\"   # --> s は \"私は\" になる\n",
    "s += \"黒\"     # --> s は \"私は黒\" になる\n",
    "s += \"猫です\" # --> s は \"私は黒猫です\" になる\n",
    "print(s)"
   ]
  },
  {
   "cell_type": "markdown",
   "metadata": {},
   "source": [
    "## ２．さまざまな文字列処理\n",
    "文字列型には，さまざまなメソッドがすでに定義されている（[マニュアル](https://docs.python.org/ja/3/library/string.html)）．\n",
    "\n",
    "このセクションでは，いくつかの文字列メソッドと同じ動作をする関数を自分で実装してみよう．\n",
    "\n",
    "すでに存在する機能を再実装することは「車輪の再発明」と呼ばれ一般的には避けるべきだが，\n",
    "* 既存の機能を正しく理解する\n",
    "* プログラミングの基本を身に付ける\n",
    "\n",
    "の2つの目的のためには非常に有効である．\n",
    "\n",
    "このセクションの練習では，前のセクション「文字列の基本操作」で説明した\n",
    "* 添え字による文字の取り出し\n",
    "* `+` あるいは `+=` による文字列の結合\n",
    "* `len` 関数による長さの取得\n",
    "* for 文，if 文など\n",
    "\n",
    "だけを使って実装すること．\n",
    "\n",
    "まず以下のセルを実行して，後でテストに使う関数の定義を有効にしなさい．\n",
    "\n",
    "この関数 `test_eq` は，プログラムの出力 `out` と正しい答え `ans` を引数として `test_eq(out, ans)` の形で実行すると，\n",
    "プログラムの出力が正しい答えと一致するか調べて結果を報告する．（実装の詳細についていま理解する必要はない．）"
   ]
  },
  {
   "cell_type": "code",
   "execution_count": null,
   "metadata": {},
   "outputs": [],
   "source": [
    "# 入力\n",
    "#   out: 実装した関数の出力\n",
    "#   ans: 正しい出力\n",
    "#   noerr: 失敗時にエラーにしない（default: False）\n",
    "def test_eq(out, ans, noerr=False):\n",
    "    msg = \"テスト成功\" if out == ans else \"テスト失敗\"\n",
    "    print(\"{}: あなたの出力: {:10}\\t正しい出力: {:10}\".format(msg, str(out), str(ans)))\n",
    "    if out != ans and not noerr:\n",
    "        raise RuntimeError(\"テスト失敗\")"
   ]
  },
  {
   "cell_type": "markdown",
   "metadata": {},
   "source": [
    "### 練習4.1: 結合（join）\n",
    "文字列 `s` に対し，文字列のリスト `[t1, t2, ..., t_n]` を引数として `s.join([t1, t2, ..., t_n])` を実行すると，`s` を区切りとして `t1, t2, ..., t_n` を結合した文字列すなわち `t1 + s + t2 + s + ... + s + t_n` と同じ値が返される．\n",
    "\n",
    "以下のセルの実行結果を予想してから確かめてみなさい："
   ]
  },
  {
   "cell_type": "code",
   "execution_count": null,
   "metadata": {},
   "outputs": [],
   "source": [
    "\"-\".join([\"a\", \"b\", \"c\"])"
   ]
  },
  {
   "cell_type": "markdown",
   "metadata": {},
   "source": [
    "これと同様の動作をする関数（メソッドではなく）`my_join(s, [t1, t2, ..., t_n])` を実装しなさい．\n",
    "\n",
    "つまり，`my_join(s, [t1, t2, ..., t_n])` は第1引数 `s` を区切りとして，第2引数のリストの中の文字列を結合した `t1 + s + t2 + s + ... + s + t_n` と同じ値を返す関数である．\n",
    "\n",
    "たとえば `my_join(\"-\", [\"a\", \"b\", \"c\"])` は上の `join` メソッドの例と同じ \"a-b-c\" を返す．"
   ]
  },
  {
   "cell_type": "markdown",
   "metadata": {},
   "source": [
    "ヒント（ダブルクリックで表示）\n",
    "<!--\n",
    "次のように考えればよい：\n",
    "* まず，空の文字列 r = \"\" を用意する\n",
    "* 第2引数（連結される文字列のリスト）を ts とするとき，\n",
    "  i = 0, 1, ..., len(ts)-1 のそれぞれについて\n",
    "  * i == 0 ならば，r に ts[i] を結合する\n",
    "  * i >= 1 ならば，r に s と ts[i] を結合する\n",
    "* さいごに r を return する\n",
    "-->"
   ]
  },
  {
   "cell_type": "markdown",
   "metadata": {},
   "source": [
    "さらにヒント（ダブルクリックで表示）\n",
    "<!--\n",
    "例えば区切り文字列 s = \"/\", 文字列リスト ts = [\"a\", \"b\", \"c\"] なら\n",
    "まず文字列 r を\n",
    "\n",
    "r = \"\"\n",
    "\n",
    "と初期化し，３回繰り返すループの各回でそれぞれ\n",
    "\n",
    "r += \"a\"         # ts[0] を結合する\n",
    "r += \"/\" + \"b\"   # s と ts[1] を結合する\n",
    "r += \"/\" + \"c\"   # s と ts[2] を結合する\n",
    "\n",
    "という順に r に徐々に文字列を追加していけばよい．\n",
    "\n",
    "これをどんな入力に対しても行うには，\n",
    "i が 0, 1, 2, ..., len(ts) - 1 と変化するように\n",
    "\n",
    "for i in ... \n",
    "\n",
    "という形のループを作り（... のところは自分で考える）\n",
    "ループの中では\n",
    "\n",
    "もし i == 0 なら\n",
    "   r に ts[i] を連結する\n",
    "そうでなければ\n",
    "   r に \"/\" と ts[i] を連結する\n",
    "\n",
    "という場合わけを行えばよい．\n",
    "-->"
   ]
  },
  {
   "cell_type": "code",
   "execution_count": null,
   "metadata": {},
   "outputs": [],
   "source": [
    "# 入力:\n",
    "#  s : 区切り文字列\n",
    "#  ts : 文字列のリスト\n",
    "# 出力:\n",
    "#  s を区切りとして ts の要素を結合した文字列\n",
    "def my_join(s, ts):\n",
    "    # *** 実装しなさい ***\n"
   ]
  },
  {
   "cell_type": "markdown",
   "metadata": {},
   "source": [
    "実装できたら，`join` メソッドの出力と比べてテストしてみましょう．"
   ]
  },
  {
   "cell_type": "code",
   "execution_count": null,
   "metadata": {},
   "outputs": [],
   "source": [
    "test_eq(my_join(\"-\", [\"a\", \"b\", \"c\"]), \"-\".join([\"a\", \"b\", \"c\"]))\n",
    "test_eq(my_join(\"-\", []), \"-\".join([])) # 第2引数が空の場合\n",
    "\n",
    "test_eq(my_join(\"/\", [\"2022\", \"09\", \"13\"]), \"/\".join([\"2022\", \"09\", \"13\"]))\n",
    "test_eq(my_join(\"!!\", [\"今日\", \"は\", \"水曜日\", \"です\"]), \"!!\".join([\"今日\", \"は\", \"水曜日\", \"です\"]))"
   ]
  },
  {
   "cell_type": "markdown",
   "metadata": {},
   "source": [
    "### 練習4.2: 部分文字列\n",
    "文字列 `s` の `i` 文字目（0文字目が最初の文字）から `j-1` 文字目までの部分文字列を取り出すには `s[i:j]` とすればよい．\n",
    "これをスライス記法という．\n",
    "\n",
    "つまり i < j ならば\n",
    "```\n",
    "  s[i:j] == s[i] + s[i+1] + ... + s[j-1]\n",
    "```\n",
    "が成り立つ．\n",
    "\n",
    "以下のセルの実行結果を予想してから，実行して確かめなさい："
   ]
  },
  {
   "cell_type": "code",
   "execution_count": null,
   "metadata": {},
   "outputs": [],
   "source": [
    "s = \"Hello\"\n",
    "print(s[1:4])"
   ]
  },
  {
   "cell_type": "markdown",
   "metadata": {},
   "source": [
    "スライス記法と同様の動作をする関数 `substr(s, i, j)` を実装してみよう．すなわち `substr(s, i, j)` の返り値は，文字列 `s` の `i` 文字目から `j-1` 文字目までの部分文字列である．\n",
    "* `0 <= i <= j < len(s)` すなわち `i <= j` であり，かつ `i, i+1, ..., j-1` が `s` の添え字の範囲を出ないことは仮定してよい．\n",
    "* `i == j` の場合は空文字列が返るようにせよ．"
   ]
  },
  {
   "cell_type": "markdown",
   "metadata": {},
   "source": [
    "ヒント（ダブルクリックで表示）\n",
    "<!--\n",
    "まず空の文字列 r = \"\" を用意し，ループを使って，s[i], s[i+1], ..., s[j-1] を順に r に結合していけばよい\n",
    "\n",
    "k = i, i+1, i+2, ..., j-1 のそれぞれに対して繰り返すループは\n",
    "\n",
    "  for k in range(i, j):\n",
    "    ...\n",
    "    \n",
    "とすればよい．\n",
    "-->"
   ]
  },
  {
   "cell_type": "code",
   "execution_count": null,
   "metadata": {},
   "outputs": [],
   "source": [
    "# 入力：\n",
    "#   s: 文字列\n",
    "#   i, j: i <= j を満たす非負整数\n",
    "# 出力：\n",
    "#   s の i 番目（ゼロ始まりで）から j-1 番目までの部分文字列\n",
    "def substr(s, i, j):\n",
    "    # *** 実装しなさい ***\n"
   ]
  },
  {
   "cell_type": "markdown",
   "metadata": {},
   "source": [
    "実装できたら，スライス記法の結果と比較してテストしてみましょう："
   ]
  },
  {
   "cell_type": "code",
   "execution_count": null,
   "metadata": {},
   "outputs": [],
   "source": [
    "s = \"ABCDE\"\n",
    "test_eq(substr(s, 1, 4), s[1:4])\n",
    "test_eq(substr(s, 0, 3), s[0:3])\n",
    "test_eq(substr(s, 0, 5), s[0:5])\n",
    "test_eq(substr(s, 3, 5), s[3:5])\n",
    "test_eq(substr(s, 3, 3), s[3:3])"
   ]
  },
  {
   "cell_type": "markdown",
   "metadata": {},
   "source": [
    "### 練習4.3: 部分文字列の一致（startswith）\n",
    "文字列 `s` に対し，`s.startswith(t, i)` は，`s` の `i` 番目の文字から始まる部分文字列が `t` と一致するとき True, そうでないとき False を返す．\n",
    "\n",
    "例：結果を予想してからクリックして確かめること．"
   ]
  },
  {
   "cell_type": "code",
   "execution_count": null,
   "metadata": {},
   "outputs": [],
   "source": [
    "s = \"coconat\"\n",
    "print(s.startswith(\"coco\", 0))\n",
    "print(s.startswith(\"ccoo\", 0))\n",
    "print(s.startswith(\"cona\", 2))"
   ]
  },
  {
   "cell_type": "markdown",
   "metadata": {},
   "source": [
    "以下は，`s.startswith(t, i)` と同じ動作をする関数 `my_startswith(s, t, i)` の**誤った実装**である．誤りを見つけて修正しなさい．"
   ]
  },
  {
   "cell_type": "markdown",
   "metadata": {},
   "source": [
    "ヒント（ダブルクリックで開く）\n",
    "<!--\n",
    "まず，２つ下のテストのセルを実行し，エラーメッセージを見てみること\n",
    "\n",
    "\"IndexError: string index out of range\" は，文字列に対する添え字が\n",
    "可能な範囲（すなわち 0 から 文字列の長さ-1 まで）を超えていることを\n",
    "意味する\n",
    "-->"
   ]
  },
  {
   "cell_type": "code",
   "execution_count": null,
   "metadata": {},
   "outputs": [],
   "source": [
    "# 入力:\n",
    "#  s, t : 文字列\n",
    "#  i : 整数\n",
    "# 出力:\n",
    "#  s の i 文字目から i+len(t)-1 文字目までの部分文字列が\n",
    "#  t と一致していたら True，それ以外は False\n",
    "def my_startswith(s, t, i):\n",
    "    # t[0], t[1], ..., t[len(t)-1] が\n",
    "    # s[i], s[i+1], ..., s[i+len(t)-1] と\n",
    "    # 同じかどうか調べる\n",
    "    for j in range(0, len(t)):\n",
    "        if s[i + j] != t[j]:\n",
    "            # 異なる文字があった\n",
    "            return False\n",
    "    return True"
   ]
  },
  {
   "cell_type": "markdown",
   "metadata": {},
   "source": [
    "誤りを修正できたら，あるいはどこが誤りか分からなかったら，以下を実行してテストしなさい："
   ]
  },
  {
   "cell_type": "code",
   "execution_count": null,
   "metadata": {},
   "outputs": [],
   "source": [
    "s = \"Hello\"\n",
    "test_eq(my_startswith(s, \"hell\", 0), s.startswith(\"hell\", 0))\n",
    "test_eq(my_startswith(s, \"ll\", 2),   s.startswith(\"ll\", 2))\n",
    "test_eq(my_startswith(s, \"lll\", 2),  s.startswith(\"lll\", 2))\n",
    "test_eq(my_startswith(s, \"loo\", 3),  s.startswith(\"loo\", 3))\n",
    "test_eq(my_startswith(s, \"llo\", 2),  s.startswith(\"llo\", 2))"
   ]
  },
  {
   "cell_type": "markdown",
   "metadata": {},
   "source": [
    "エラーメッセージ \"IndexError: string index out of range\" は，添え字として使った値が大きすぎること，つまり，添え字が最後の文字の添え字である「文字列の長さ-1」を超えていることを表す．"
   ]
  },
  {
   "cell_type": "markdown",
   "metadata": {},
   "source": [
    "エラー原因が見つからない人のためのヒント（ダブルクリックで表示）\n",
    "<!--\n",
    "my_startswith(s, t, i) において，s[i] 以降の文字列が t よりも\n",
    "短い場合は，文字列の中身を調べるまでもなく結果は False になるべきである．\n",
    "\n",
    "つまり例えば s = \"abc\", t = \"bcd\", i = 1 ならば，\n",
    "s[i] 以降の文字列は \"bc\" で長さ 2 であり，これが長さ 3 である t と\n",
    "一致することはない．\n",
    "\n",
    "なので，for ループで１文字ずつ比べる前に s の s[i] 以降の文字列の長さ\n",
    "つまり len(s) - i と len(t) を比べて，前者の方が短かったら False を返せばよい．\n",
    "\n",
    "このチェックをしないで for ループを始めると，s の方の添字がいずれ s の長さ以上になり\n",
    "そこでエラーが起こる．\n",
    "-->"
   ]
  },
  {
   "cell_type": "markdown",
   "metadata": {},
   "source": [
    "### 練習4.4: 探索（find）\n",
    "文字列 `s` に対し，`s.find(t)` は\n",
    "* `s` が部分文字列として `t` を含むならば，その最初の出現位置を返す\n",
    "* `s` が部分文字列として `t` を含まないならば，`-1` を返す\n",
    "\n",
    "ここで言う「部分文字列」は，とびとびではダメである．つまり `\"tom-is-a-cat\".find(\"tomcat\")` は `-1` を返す．\n",
    "また，`s` が `t` を含む場合の「最初の出現位置」とは，`s` 中の部分文字列 `t` の最初の文字の添え字に当たる数である．\n",
    "すなわち，`\"XYZXYZ\".find(\"YZ\")` は `1` を返す．\n",
    "\n",
    "以下のセルの実行結果を予想してから実行して確かめなさい："
   ]
  },
  {
   "cell_type": "code",
   "execution_count": null,
   "metadata": {},
   "outputs": [],
   "source": [
    "s = \"abracadabra\"\n",
    "s.find(\"cad\")"
   ]
  },
  {
   "cell_type": "markdown",
   "metadata": {},
   "source": [
    "メソッド `s.find(t)` と同じ動作をする関数 `my_find(s, t)` を実装しなさい．"
   ]
  },
  {
   "cell_type": "markdown",
   "metadata": {},
   "source": [
    "ヒント（ダブルクリックで表示）\n",
    "<!--\n",
    "上で実装した my_startswith(s, t, i) を使えばよい．\n",
    "\n",
    "すなわち，\n",
    "  * my_startswith(s, t, i) が True となるような位置 i が\n",
    "    あれば，そのうち最小のものが my_find(s, t) の値である\n",
    "\n",
    "  * そのような i がない（つまり s は t を含まない）ならば\n",
    "    my_find(s, t) の値は -1 となる\n",
    "-->"
   ]
  },
  {
   "cell_type": "markdown",
   "metadata": {},
   "source": [
    "さらにヒント（ダブルクリックで表示）\n",
    "<!-- \n",
    "my_find(s, t) は，my_startswith(s, t, i) が True になる\n",
    "最小の i を return すればよいのだから，次のように実装できるだろう\n",
    "\n",
    "for i in range(....): # range の引数をどうすればいいかは考えること\n",
    "    もし my_startswith(s, t, i) が成り立てば\n",
    "        return i\n",
    "return -1 # ループ中いちども my_startswith(s, t, i) が True にならなかった場合\n",
    "-->"
   ]
  },
  {
   "cell_type": "code",
   "execution_count": null,
   "metadata": {},
   "outputs": [],
   "source": [
    "# 入力:\n",
    "#   s : 文字列\n",
    "#   t : 文字列\n",
    "# 出力:\n",
    "#   s が t を含むならその最初の出現位置\n",
    "#   それ以外のとき -1\n",
    "def my_find(s, t):\n",
    "    # *** 実装しなさい ***\n"
   ]
  },
  {
   "cell_type": "markdown",
   "metadata": {},
   "source": [
    "実装できたら，メソッド `find` の結果と比較してテストしてみましょう．"
   ]
  },
  {
   "cell_type": "code",
   "execution_count": null,
   "metadata": {},
   "outputs": [],
   "source": [
    "s = \"abracadabra\"\n",
    "test_eq(my_find(s, \"cad\"),   s.find(\"cad\"))\n",
    "test_eq(my_find(s, \"bra\"),   s.find(\"bra\"))\n",
    "test_eq(my_find(s, \"abra\"),  s.find(\"abra\"))  # 返り値 == 0 のケース\n",
    "test_eq(my_find(s, \"dabra\"), s.find(\"dabra\")) # 末尾で見つかるケース\n",
    "test_eq(my_find(s, \"brabra\"), s.find(\"brabra\")) # 見つからず，返り値 == -1 のケース\n",
    "\n",
    "t = \"abc\"\n",
    "for u in [\"abc\", \"ababd\", \"abxxabcyy\", \"abcab\", \"xxabcyyabczz\"]:\n",
    "    print(\"----\")\n",
    "    print(\"my_find({}, {})\".format(u, t))\n",
    "    test_eq(my_find(u, t), u.find(t))"
   ]
  },
  {
   "cell_type": "markdown",
   "metadata": {},
   "source": [
    "### 練習4.5: 置換（replace）\n",
    "文字列メソッド `s.replace(t, u)` は，文字列 `s` に出現する部分文字列 `t` を全て `u` に置き換える．\n",
    "\n",
    "以下のセルを実行した結果を予想してから確かめなさい："
   ]
  },
  {
   "cell_type": "code",
   "execution_count": null,
   "metadata": {},
   "outputs": [],
   "source": [
    "\"フルーツコウモリはフルーツが大好き\".replace(\"フルーツ\", \"吸血\")"
   ]
  },
  {
   "cell_type": "markdown",
   "metadata": {},
   "source": [
    "メソッド `s.replace(t, u)` と同じ動作をする関数 `my_replace(s, t, u)` を実装しなさい．\n",
    "\n",
    "この課題では，**while 文**による繰り返しを使うと便利である．while 文の一般的な形式は\n",
    "```python\n",
    "while 条件式:\n",
    "    ループの中身\n",
    "```\n",
    "であり，`条件式` の値が真（True）である間，`ループの中身` が実行され続ける．\n",
    "\n",
    "while 文を使うと，my_replace は大体，以下のように実装できるだろう：\n",
    "```python\n",
    "def my_replace(s, t, u):\n",
    "    r = \"\" # 置換結果の文字列\n",
    "    i = 0\n",
    "    while i < len(s):\n",
    "        if (s の i 文字目から i+len(t)-1 文字目が t と一致):\n",
    "            r に置き換え結果である u を結合する\n",
    "            s の中の t に一致する部分の次の文字を指すように i を変更する\n",
    "        else:\n",
    "            s の i 文字目以降は t と一致しないので，r に s[i] を結合する\n",
    "            i += 1\n",
    "    return r\n",
    "```\n",
    "\n",
    "例えば `s = \"aabc\", t = \"ab\", u = \"AB\"` の場合は以下のような動きになる\n",
    "```txt\n",
    "r = \"\" # 結果を初期化\n",
    "i = 0\n",
    "\n",
    "s の i 文字目から i+len(t)-1 文字目，すなわち 0 文字目から 1 文字目 (= \"aa\") は t と一致しない\n",
    "  -> r に s の i 文字目すなわち \"a\" を結合し，i を 1 増やす\n",
    "    \n",
    "# この時点では i = 1, r = \"a\"\n",
    "\n",
    "s の i 文字目から i+len(t)-1 文字目，すなわち 1 文字目から 2 文字目 (= \"ab\") は t と一致する\n",
    "  -> r に置き換え結果である u (= \"AB\") を結合し，i を len(u) すなわち 2 増やす\n",
    "    \n",
    "# この時点では i = 3, r = \"aAB\"\n",
    "    \n",
    "s の i 文字目から i+len(t)-1 文字目，すなわち 3 文字目から 4 文字目は t と一致しない (添字が s の長さを超える）\n",
    "  -> r に s の i 文字目すなわち \"c\" を結合し，i を 1 増やす\n",
    "\n",
    "# この時点では i = 4, r = \"aABc\"\n",
    "\n",
    "i < len(s) が成り立たないので while ループは終了．r を return する．                                                        \n",
    "```"
   ]
  },
  {
   "cell_type": "markdown",
   "metadata": {},
   "source": [
    "さらにヒント（ダブルクリックで表示）\n",
    "<!--\n",
    "s の i 文字目から i+len(t)-1 文字目が t と一致するかどうかを調べるには\n",
    "my_startswith(s, t, i) を使えばよい．\n",
    "-->"
   ]
  },
  {
   "cell_type": "code",
   "execution_count": null,
   "metadata": {},
   "outputs": [],
   "source": [
    "def my_replace(s, t, u):\n",
    "    # *** 実装しなさい ***\n"
   ]
  },
  {
   "cell_type": "markdown",
   "metadata": {},
   "source": [
    "実装できたら，`replace` メソッドの結果と比べてテストしましょう："
   ]
  },
  {
   "cell_type": "code",
   "execution_count": null,
   "metadata": {},
   "outputs": [],
   "source": [
    "test_eq(my_replace(\"abcde\", \"cd\", \"CD\"), \"abcde\".replace(\"cd\", \"CD\"))\n",
    "\n",
    "# 2か所以上置換されるケース\n",
    "test_eq(my_replace(\"abracadabra\", \"bra\", \"BRA\"), \"abracadabra\".replace(\"bra\", \"BRA\"))\n",
    "\n",
    "# 一つも置換されないケース\n",
    "test_eq(my_replace(\"0123456789\", \"99\", \"00\"), \"0123456789\".replace(\"99\", \"00\"))"
   ]
  },
  {
   "cell_type": "markdown",
   "metadata": {},
   "source": [
    "### チャレンジ課題4.6: 分割（split）\n",
    "これは余力のある人向けの課題です．必須課題だけやる人は次の「3. 発展：シーケンスの要素を添え字を使わずに取り出す」に進んでください．\n",
    "\n",
    "文字列メソッド `split` は，`join` の逆の動作をする．すなわち，指定した区切り文字列で，ある文字列を分割した結果を文字列のリストとして返す．\n",
    "区切り文字列は，分割結果に含まれない．\n",
    "\n",
    "以下のセルの実行結果を予想してから確かめよ："
   ]
  },
  {
   "cell_type": "code",
   "execution_count": null,
   "metadata": {},
   "outputs": [],
   "source": [
    "s = \"1,2,3,100\"\n",
    "s.split(\",\")"
   ]
  },
  {
   "cell_type": "markdown",
   "metadata": {},
   "source": [
    "区切り文字列は2文字以上の文字列でもよい："
   ]
  },
  {
   "cell_type": "code",
   "execution_count": null,
   "metadata": {},
   "outputs": [],
   "source": [
    "s = \"1足す2足す3足す4は10\"\n",
    "s.split(\"足す\")"
   ]
  },
  {
   "cell_type": "markdown",
   "metadata": {},
   "source": [
    "区切り文字列が連続した場合，その間には空文字列 `\"\"` があると見なされ，区切り結果に `\"\"` が含まれる："
   ]
  },
  {
   "cell_type": "code",
   "execution_count": null,
   "metadata": {},
   "outputs": [],
   "source": [
    "# \"1\" + \"<\" + \"2\" + \"<\" + \"\" + \"<\" + \"99\" と解釈される\n",
    "s = \"1<2<<99\"\n",
    "s.split(\"<\")"
   ]
  },
  {
   "cell_type": "markdown",
   "metadata": {},
   "source": [
    "同様に，文字列の先頭あるいは末尾に区切り文字列がある場合も，区切り結果の先頭あるいは末尾に `\"\"` が含まれる："
   ]
  },
  {
   "cell_type": "code",
   "execution_count": null,
   "metadata": {},
   "outputs": [],
   "source": [
    "print(\",1,2\".split(\",\"))\n",
    "print(\"1,2,\".split(\",\"))"
   ]
  },
  {
   "cell_type": "markdown",
   "metadata": {},
   "source": [
    "文字列メソッド `s.split(sep)` と同じ動作をする関数 `my_split(s, sep)` を実装せよ．"
   ]
  },
  {
   "cell_type": "markdown",
   "metadata": {},
   "source": [
    "ヒント（ダブルクリックで表示）\n",
    "<!--\n",
    "いろいろなやり方がありうるが，次のように考えることができる．\n",
    "\n",
    "* 区切った結果を保存する空リストを用意する\n",
    "* s のうち，まだ調べていない部分を保存する変数（rest という名前とする）を s で初期化する\n",
    "* my_find を用いて，rest に出現する最初の区切り文字列の位置（next_sep とする）を得る\n",
    "* rest に区切り文字列が含まれる間（つまり next_sep != -1 である間），以下を繰り返す\n",
    "  * rest のうち最初の区切り文字列より前の部分を結果のリストに追加する\n",
    "  * rest のうち最初の区切り文字列の終わり以降の部分を再度 rest にセットする\n",
    "  * next_sep に my_find(rest, sep) の結果をセットする\n",
    "* くり返し終了後の rest （つまり最後の区切り文字列より後の部分）を結果のリストに追加する\n",
    "* 保存した区切り結果を return する\n",
    "-->"
   ]
  },
  {
   "cell_type": "code",
   "execution_count": null,
   "metadata": {},
   "outputs": [],
   "source": [
    "# 入力:\n",
    "#   s, sep: 文字列\n",
    "# 出力:\n",
    "#   文字列 s を区切り文字列 sep で区切った結果のリスト\n",
    "def my_split(s, sep):\n",
    "    # *** 実装しなさい ***\n",
    "    # 以下はダミーの実装．課題に取り組む人は削除しなさい：\n",
    "    return []"
   ]
  },
  {
   "cell_type": "markdown",
   "metadata": {},
   "source": [
    "実装できたら，`split` メソッドの結果と比較してテストしましょう："
   ]
  },
  {
   "cell_type": "code",
   "execution_count": null,
   "metadata": {},
   "outputs": [],
   "source": [
    "print(my_split(\"1::20::30::4\", \"::\") == \"1::20::30::4\".split(\"::\"))\n",
    "\n",
    "# 区切り文字が連続するケース\n",
    "print(my_split(\"1,2,,30,4\", \",\") == \"1,2,,30,4\".split(\",\"))\n",
    "\n",
    "# 区切り文字から始まるケース\n",
    "print(my_split(\",1,200,3\", \",\") == \",1,200,3\".split(\",\"))\n",
    "\n",
    "# 区切り文字で終わるケース\n",
    "print(my_split(\"10,2,30,\", \",\") == \"10,2,30,\".split(\",\"))"
   ]
  },
  {
   "cell_type": "markdown",
   "metadata": {},
   "source": [
    "## ３．シーケンスの要素を添え字を使わずに取り出す\n",
    "リストは，データが一列にならんだ構造だった．文字列も，文字が一列に並んだデータとみなせる．\n",
    "\n",
    "リストや文字列などの「要素が一列に並んだデータ」は，Python では**シーケンス型**と呼ばれ，同じ名前のメソッドや関数を通じて統一的に扱える．\n",
    "\n",
    "シーケンス `s` に対する最も基本的な操作は，添え字演算子 `s[i]` で `i` 番目の要素を取り出すことだった．\n",
    "\n",
    "しかし，例えば for ループのなかでリストや文字列の要素を処理する場合でも，単に「全部の要素について何かをしたい」だけであって，添え字の値そのものは必要ない場合も多い．\n",
    "\n",
    "そのような場合，シーケンス型に対しては，添え字を使わずに，要素を順番に取り出す以下のようなループの書き方ができる：\n",
    "```python\n",
    "for x in xs:\n",
    "    ... x に対する処理 ...\n",
    "```\n",
    "\n",
    "これを，添え字を使った以下のループと比べると，少しだけ簡単になっていることが分かるだろう：\n",
    "```python\n",
    "for i in range(len(xs)):\n",
    "    ... x[i] に対する処理 ...\n",
    "```\n",
    "\n",
    "たとえば，与えられた文字列 `s` の各文字の後に \"!\" を挿入した文字列を返す関数 `exclaim(s)` は以下のように書ける："
   ]
  },
  {
   "cell_type": "code",
   "execution_count": null,
   "metadata": {},
   "outputs": [],
   "source": [
    "def exclaim(s):\n",
    "    t = \"\" # ここに文字+\"!\" を追加していく\n",
    "    for c in s: # s の各文字 c についてのループ\n",
    "        t += c + \"!\"\n",
    "    return t"
   ]
  },
  {
   "cell_type": "markdown",
   "metadata": {},
   "source": [
    "以下を実行してテストしてみなさい："
   ]
  },
  {
   "cell_type": "code",
   "execution_count": null,
   "metadata": {},
   "outputs": [],
   "source": [
    "exclaim(\"ABC\")"
   ]
  },
  {
   "cell_type": "markdown",
   "metadata": {},
   "source": [
    "また，与えられた数値のリスト `xs` の要素を全て掛け合わせた数を返す関数 `prod(xs)` は以下の様に定義できる："
   ]
  },
  {
   "cell_type": "code",
   "execution_count": null,
   "metadata": {},
   "outputs": [],
   "source": [
    "def prod(xs):\n",
    "    p = 1 # 積を 1 で初期化\n",
    "    for x in xs:\n",
    "        p *= x\n",
    "    return p"
   ]
  },
  {
   "cell_type": "markdown",
   "metadata": {},
   "source": [
    "以下のセルの実行結果はどうなるか？予想してから実行して確かめなさい："
   ]
  },
  {
   "cell_type": "code",
   "execution_count": null,
   "metadata": {},
   "outputs": [],
   "source": [
    "prod([1, 2, 3, 4])"
   ]
  },
  {
   "cell_type": "markdown",
   "metadata": {},
   "source": [
    "**ミニ練習**: `for c in s` の形のループを使って，与えられた文字列 `s` の文字を逆順に並べた文字列を返す関数 `rev(s)` を実装しなさい:"
   ]
  },
  {
   "cell_type": "markdown",
   "metadata": {},
   "source": [
    "ヒント（ダブルクリックで表示）\n",
    "<!--\n",
    "\n",
    "* 空の文字列 r = \"\" を最初に用意し，s の各文字 c を r の「先頭」に結合していけばよい．\n",
    "* r の先頭に c を結合した文字列は c + r である．\n",
    "\n",
    "-->"
   ]
  },
  {
   "cell_type": "code",
   "execution_count": null,
   "metadata": {},
   "outputs": [],
   "source": [
    "def rev(s):\n",
    "    # *** 実装しなさい ***\n",
    "\n",
    "# テスト\n",
    "rev(\"かすまめよ\")"
   ]
  },
  {
   "cell_type": "markdown",
   "metadata": {},
   "source": [
    "## ４．文字列と他のデータ型の相互変換\n",
    "### 文字列とリストの相互変換\n",
    "`list` 関数を用いると，文字列を文字のリストに変換できる："
   ]
  },
  {
   "cell_type": "code",
   "execution_count": null,
   "metadata": {},
   "outputs": [],
   "source": [
    "list(\"abcdあいうえ\")"
   ]
  },
  {
   "cell_type": "markdown",
   "metadata": {},
   "source": [
    "逆に，文字のリストを結合して文字列を得るには，空文字列を区切りとして `join` メソッドを用いればよい："
   ]
  },
  {
   "cell_type": "code",
   "execution_count": null,
   "metadata": {},
   "outputs": [],
   "source": [
    "\"\".join([\"あ\", \"い\", \"う\"])"
   ]
  },
  {
   "cell_type": "markdown",
   "metadata": {},
   "source": [
    "### 文字列と数値の相互変換\n",
    "数値を表す文字列から，整数や小数点数としての値を得るには，数値の型に応じて `int` 関数（整数の場合）あるいは `float` 関数（小数点数の場合）を用いればよい："
   ]
  },
  {
   "cell_type": "code",
   "execution_count": null,
   "metadata": {},
   "outputs": [],
   "source": [
    "n_str = \"123\"\n",
    "n = int(n_str)\n",
    "print(n * 2)"
   ]
  },
  {
   "cell_type": "code",
   "execution_count": null,
   "metadata": {},
   "outputs": [],
   "source": [
    "f_str = \"1.23\"\n",
    "f = float(f_str)\n",
    "print(f * 2)"
   ]
  },
  {
   "cell_type": "markdown",
   "metadata": {},
   "source": [
    "`int` 関数に整数でない数を表す文字列を与えると，自動的に四捨五入されたりせず，エラーが発生する："
   ]
  },
  {
   "cell_type": "code",
   "execution_count": null,
   "metadata": {},
   "outputs": [],
   "source": [
    "int(\"1.23\")"
   ]
  },
  {
   "cell_type": "markdown",
   "metadata": {},
   "source": [
    "エラーになることを確かめたら後で「Run All」で止まらないように上のセルの先頭に `#` を入れてコメントアウトしておきなさい．"
   ]
  },
  {
   "cell_type": "markdown",
   "metadata": {},
   "source": [
    "---\n",
    "基本的だが大事な注意：<font color=\"red\">「数値を表す文字列」と「数値」は全く違う．</font>\n",
    "\n",
    "例えば `10 + 10` と `\"10\" + \"10\"` は値が全く違う．結果を予想してから確かめなさい："
   ]
  },
  {
   "cell_type": "code",
   "execution_count": null,
   "metadata": {},
   "outputs": [],
   "source": [
    "print(10 + 10)\n",
    "print(\"10\" + \"10\")"
   ]
  },
  {
   "cell_type": "markdown",
   "metadata": {},
   "source": [
    "この違いは，`+` 演算子は数値に対しては「足し算」の意味だが，文字列に対しては「結合」を表すことによる．"
   ]
  },
  {
   "cell_type": "markdown",
   "metadata": {},
   "source": [
    "`==` で比べる場合も，数値の `10` と文字列の `\"10\"` は「異なる」と判定される："
   ]
  },
  {
   "cell_type": "code",
   "execution_count": null,
   "metadata": {},
   "outputs": [],
   "source": [
    "10 == \"10\""
   ]
  },
  {
   "cell_type": "markdown",
   "metadata": {},
   "source": [
    "---\n",
    "ここでついでに `input` 関数について説明しておく．\n",
    "\n",
    "Jupyter notebook （今使っているシステム）で，文字列 `msg` を引数として `input(msg)` を実行すると，セルの下に文字列 `msg` に続けてユーザが入力するための箱（入力フィールド）が現れる．`input` 関数の返り値は，入力フィールドにユーザ（あなた）が入力した文字列になる．"
   ]
  },
  {
   "cell_type": "code",
   "execution_count": null,
   "metadata": {
    "scrolled": true
   },
   "outputs": [],
   "source": [
    "ret = input(\"何か入力して Enter キーを押してください：\")\n",
    "print(\"入力された文字列:\", ret)"
   ]
  },
  {
   "cell_type": "markdown",
   "metadata": {},
   "source": [
    "ユーザが数値を入力した場合も，`input` 関数の返り値の型は文字列なので，ユーザから数値を受け取りたいときは `input` の返り値を `int` 関数や `float` 関数で変換する必要がある："
   ]
  },
  {
   "cell_type": "code",
   "execution_count": null,
   "metadata": {},
   "outputs": [],
   "source": [
    "f_str = input(\"３倍したい数を入力して下さい：\")\n",
    "print(float(f_str) * 3)"
   ]
  },
  {
   "cell_type": "markdown",
   "metadata": {},
   "source": [
    "### 練習4.7: 日本語電卓\n",
    "ユーザから以下の形式のどれかに当てはまる文字列を受け取って，結果を数値として返す関数 `jp_calc` を実装しなさい．\n",
    "\n",
    "入力形式：\n",
    "* \"&lt;n&gt; 足す &lt;m&gt;\"\n",
    "* \"&lt;n&gt; 引く &lt;m&gt;\"\n",
    "* \"&lt;n&gt; かける &lt;m&gt;\"\n",
    "* \"&lt;n&gt; 割る &lt;m&gt;\"\n",
    "    \n",
    "上の，&lt;n&gt; と &lt;m&gt; は小数点数（整数でもよい）を表す．また，数値 &lt;n&gt;, &lt;m&gt; と「足す」「引く」などの間には空白が一つずつ入っている．\n"
   ]
  },
  {
   "cell_type": "code",
   "execution_count": null,
   "metadata": {},
   "outputs": [],
   "source": [
    "def jp_calc():\n",
    "    s = input(\"式：\")\n",
    "    # *** 実装してください ***\n",
    "    # * 空白 ' ' で入力を区切る： s.split(' ')\n",
    "    # * 区切った結果（文字列のリスト）の \n",
    "    #   0 番目（<n>) と 2 番目 (<m>)を float 関数で数値に変換する\n",
    "    # * 区切った結果の 1 番目（演算を表す文字列）に応じて計算を行い，\n",
    "    #   結果を return する\n"
   ]
  },
  {
   "cell_type": "markdown",
   "metadata": {},
   "source": [
    "実装できたら，テストしましょう："
   ]
  },
  {
   "cell_type": "code",
   "execution_count": null,
   "metadata": {},
   "outputs": [],
   "source": [
    "ans = jp_calc()\n",
    "print(\"答えは\", ans)"
   ]
  },
  {
   "cell_type": "markdown",
   "metadata": {},
   "source": [
    "## ５．format メソッド\n",
    "文字列のメソッドの一つである `format` は，数値や文字列などのデータを見やすく整えて出力するために使う．\n",
    "\n",
    "`format` の最も簡単な使い方は，以下の様に，データを埋め込む場所を示す `{}` をいくつか含む文字列に対して，`{}` と同じ数の引数を与えて呼び出すやり方である："
   ]
  },
  {
   "cell_type": "code",
   "execution_count": null,
   "metadata": {},
   "outputs": [],
   "source": [
    "n = 3\n",
    "m = 6\n",
    "print(\"{} かける {} は {} です\".format(n, m, n * m))"
   ]
  },
  {
   "cell_type": "markdown",
   "metadata": {},
   "source": [
    "上の例では，3つの `{}` を含む文字列（フォーマット文字列という）に対して，`n`, `m`, `n * m` の3つの引数を与えて `format` を呼び出している．\n",
    "\n",
    "3つの引数の値は，引数と同じ順番でフォーマット文字列の中の `{}` の位置に埋め込まれる．埋め込んだ結果の文字列が `format` メソッドの返り値となる．上の例ではその返り値を `print` で表示している．\n",
    "\n",
    "引数の値を `{}` の位置に埋め込むやり方について，さらに細かい指定をすることができる．ここでは代表的なものだけ紹介する．\n",
    "\n",
    "#### 表示幅\n",
    "フォーマット文字列で，`N` を整数として，`{:N}` とすることで，表示する際の幅を指定できる:"
   ]
  },
  {
   "cell_type": "code",
   "execution_count": null,
   "metadata": {},
   "outputs": [],
   "source": [
    "print(\"{:10} ... {:3} yen\".format(\"Apple\", 250))\n",
    "print(\"{:10} ... {:3} yen\".format(\"Kiwi fruit\", 120))\n",
    "print(\"{:10} ... {:3} yen\".format(\"Banana\", 99))"
   ]
  },
  {
   "cell_type": "markdown",
   "metadata": {},
   "source": [
    "引数の値の表示結果が，指定した幅よりも短ければ，残りは空白で埋められる．"
   ]
  },
  {
   "cell_type": "markdown",
   "metadata": {},
   "source": [
    "#### 右寄せ・左寄せ\n",
    "表示幅を指定したとき，引数が文字列ならば表示幅内で左寄せ（左から詰めて表示），引数が数値ならば右寄せ（右から詰めて表示）になる．\n",
    "\n",
    "フォーマット文字列で幅の前に `<` を入れて，`{:<10}` のようにすると左寄せ，`>` を入れて `{:>10}` のようにすると右寄せにできる："
   ]
  },
  {
   "cell_type": "code",
   "execution_count": null,
   "metadata": {},
   "outputs": [],
   "source": [
    "print(\"{:>10} ... {:<3} yen\".format(\"Apple\", 250))\n",
    "print(\"{:>10} ... {:<3} yen\".format(\"Kiwi fruit\", 120))\n",
    "print(\"{:>10} ... {:<3} yen\".format(\"Banana\", 99))"
   ]
  },
  {
   "cell_type": "markdown",
   "metadata": {},
   "source": [
    "#### 表示桁数\n",
    "表示する桁数を `{:.3}` のように `{:.桁数}` の形式で指定できる．ここでの「表示する桁数」とは，正確に言えば，有効数字の数，つまり，先頭のゼロが続く部分 0.000... を除いた後の，整数部（あれば）の桁数 + 小数点以下の桁数 である．"
   ]
  },
  {
   "cell_type": "code",
   "execution_count": null,
   "metadata": {},
   "outputs": [],
   "source": [
    "print(\" 2 ÷ 3 ≒ {:.3}\".format(2 / 3))\n",
    "print(\"20 ÷ 3 ≒ {:.3}\".format(20 / 3))"
   ]
  },
  {
   "cell_type": "markdown",
   "metadata": {},
   "source": [
    "上の例のように，表示する桁の一つ下で四捨五入した結果が埋め込まれる．\n",
    "\n",
    "`{:10.5}` のように，表示幅に続けて桁数を指定することもできる（この場合「幅10文字分の中に5桁まで表示」の意味）．"
   ]
  },
  {
   "cell_type": "code",
   "execution_count": null,
   "metadata": {},
   "outputs": [],
   "source": [
    "print(\"2 ÷ 3   ≒ {:10.4}\".format(2 / 3))\n",
    "print(\"2 ÷ 0.3 ≒ {:10.4}\".format(2 / 0.3))"
   ]
  },
  {
   "cell_type": "markdown",
   "metadata": {},
   "source": [
    "### 練習4.8: 式付きの九九の表\n",
    "`format` を使いながら，以下のものと同じ，左辺の式も含めた九九の表を表示せよ：\n",
    "```\n",
    "1x1= 1, 2x1= 2, 3x1= 3, 4x1= 4, 5x1= 5, 6x1= 6, 7x1= 7, 8x1= 8, 9x1= 9\n",
    "1x2= 2, 2x2= 4, 3x2= 6, 4x2= 8, 5x2=10, 6x2=12, 7x2=14, 8x2=16, 9x2=18\n",
    "1x3= 3, 2x3= 6, 3x3= 9, 4x3=12, 5x3=15, 6x3=18, 7x3=21, 8x3=24, 9x3=27\n",
    "1x4= 4, 2x4= 8, 3x4=12, 4x4=16, 5x4=20, 6x4=24, 7x4=28, 8x4=32, 9x4=36\n",
    "1x5= 5, 2x5=10, 3x5=15, 4x5=20, 5x5=25, 6x5=30, 7x5=35, 8x5=40, 9x5=45\n",
    "1x6= 6, 2x6=12, 3x6=18, 4x6=24, 5x6=30, 6x6=36, 7x6=42, 8x6=48, 9x6=54\n",
    "1x7= 7, 2x7=14, 3x7=21, 4x7=28, 5x7=35, 6x7=42, 7x7=49, 8x7=56, 9x7=63\n",
    "1x8= 8, 2x8=16, 3x8=24, 4x8=32, 5x8=40, 6x8=48, 7x8=56, 8x8=64, 9x8=72\n",
    "1x9= 9, 2x9=18, 3x9=27, 4x9=36, 5x9=45, 6x9=54, 7x9=63, 8x9=72, 9x9=81\n",
    "```\n",
    "\n",
    "* 上の例では各行の最初に空白があるが，その空白は不要\n",
    "* 答えの部分（= の後）は幅２文字分で右寄せにする\n",
    "* 式と式の間はカンマと空白ひとつで区切る\n",
    "\n",
    "ヒント:\n",
    "* 文字列の後で改行せずに print するには `print(文字列, end=\"\")` とすればよい\n",
    "* 何も表示せず，ただ改行だけするには，引数なしで `print()` とすればよい\n",
    "* 1行全部を`format`でいっぺんに作るのではなく `2x4= 8` のような式を1つずつ`format`で作って表示するのが簡単である\n",
    "\n",
    "注意：Chrome だと表示が崩れる（位置が揃わない）ことがあるようです．その場合は Safari で Notebook を開きなおしてください．下の周期表の問題も同じ．"
   ]
  },
  {
   "cell_type": "code",
   "execution_count": null,
   "metadata": {},
   "outputs": [],
   "source": [
    "# *** 実装しなさい ***\n"
   ]
  },
  {
   "cell_type": "markdown",
   "metadata": {},
   "source": [
    "### 練習4.9: 周期表\n",
    "以下のセルの `elements` は，元素記号を H （水素，原子番号1）から Xe (キセノン，原子番号54）まで並べたリストである．\n",
    "\n",
    "また，`table` は[周期表](https://ja.wikipedia.org/wiki/%E5%91%A8%E6%9C%9F%E8%A1%A8)で各行，各列に配置される元素の原子番号を表す２重リストである．要素 0 は，そのマスには元素が入らない（空欄）であることを意味する．\n",
    "\n",
    "これらを組み合わせて用い，以下のように周期表を表示せよ．\n",
    "```\n",
    " H                                                  He\n",
    " Li Be                               B  C  N  O  F  Ne\n",
    " Na Mg                               Al Si P  S  Cl Ar\n",
    " K  Ca Sc Ti V  Cr Mn Fe Co Ni Cu Zn Ga Ge As Se Br Kr\n",
    " Rb Sr Y  Zr Nb Mo Tc Ru Rh Pd Ag Cd In Sn Sb Te I  Xe\n",
    "```\n",
    "* 各行の最初の空白はいくつでもよい（が，全ての行で同じ数の空白を最初に入れること）\n",
    "* それ以外の，元素記号の間の空白の個数や，1文字の元素記号と2文字の元素記号の位置関係などは完全に再現せよ"
   ]
  },
  {
   "cell_type": "code",
   "execution_count": null,
   "metadata": {},
   "outputs": [],
   "source": [
    "elements = [\"H\", \"He\", \"Li\", \"Be\", \"B\", \"C\", \"N\", \"O\", \"F\", \"Ne\",\n",
    "            \"Na\", \"Mg\", \"Al\", \"Si\", \"P\", \"S\", \"Cl\", \"Ar\",\n",
    "            \"K\", \"Ca\", \"Sc\", \"Ti\", \"V\", \"Cr\", \"Mn\", \"Fe\", \"Co\", \"Ni\", \"Cu\", \"Zn\",\n",
    "            \"Ga\", \"Ge\", \"As\", \"Se\", \"Br\", \"Kr\", \"Rb\", \"Sr\", \"Y\", \"Zr\", \"Nb\", \"Mo\",\n",
    "            \"Tc\", \"Ru\", \"Rh\", \"Pd\", \"Ag\", \"Cd\", \"In\", \"Sn\", \"Sb\", \"Te\", \"I\", \"Xe\"]\n",
    "table = [\n",
    "    [ 1,  0,  0,  0,  0,  0,  0,  0,  0,  0,  0,  0,  0,  0,  0,  0,  0,  2],\n",
    "    [ 3,  4,  0,  0,  0,  0,  0,  0,  0,  0,  0,  0,  5,  6,  7,  8,  9, 10],\n",
    "    [11, 12,  0,  0,  0,  0,  0,  0,  0,  0,  0,  0, 13, 14, 15, 16, 17, 18],\n",
    "    [19, 20, 21, 22, 23, 24, 25, 26, 27, 28, 29, 30, 31, 32, 33, 34, 35, 36],\n",
    "    [37, 38, 39, 40, 41, 42, 43, 44, 45, 46, 47, 48, 49, 50, 51, 52, 53, 54]\n",
    "]\n",
    "\n",
    "# *** ここ以下に周期表を表示するプログラムを追加する ***\n"
   ]
  },
  {
   "cell_type": "markdown",
   "metadata": {},
   "source": [
    "---\n",
    "お疲れ様でした．以上で今回の必須課題は終わりです．\n",
    "\n",
    "## 課題提出の前の注意\n",
    "* かならずメニューの \"Run\" から \"Run All Cells\" を選択し，全てのセルが正しく実行されることを確認すること\n",
    "  * <font color=\"red\">\"Run All Cells\" したとき，`input` 関数を使っているセルでは入力フィールドに何か入れるまで実行が先に進まないので，適当に入力して最後まで実行させること</font>\n",
    "* \"Run All Cells\" を実行したら，各セルの実行結果が表示されている状態で保存のボタンを押してノートブックを保存すること\n",
    "* 上記のようにして，実行結果まで含めて保存してからノートブックを提出すること．\n",
    "* 以下の「チャレンジ課題」は余力がある人のための課題です．セルを正しく実装して提出すれば加点します．"
   ]
  },
  {
   "cell_type": "markdown",
   "metadata": {},
   "source": [
    "## ６．チャレンジ課題集\n",
    "文字列処理の応用練習をしましょう．\n",
    "\n",
    "### チャレンジ課題4.10：整数の漢字表記\n",
    "整数を入力して，その漢字表記を出力する関数を作りたい．例えば\n",
    "* 123 $\\rightarrow$ 百二十三\n",
    "* 1232525 $\\rightarrow$ 百二十三万二千五百二十五\n",
    "\n",
    "のように変換したい．入力としては1以上，9,999,999,999,999,999（9999兆9999億9999万9999）まで受け付けるようにする．\n",
    "\n",
    "**準備 1**: まず整数 $n \\; (1\\le n \\le 9)$ が入力されたとき対応する漢字を返す関数 `kanji(n)` を実装しましょう："
   ]
  },
  {
   "cell_type": "code",
   "execution_count": null,
   "metadata": {},
   "outputs": [],
   "source": [
    "# 入力:\n",
    "#  n : 1 から 9 までの整数\n",
    "# 出力:\n",
    "#  n の漢字表記（一, ニ, ..., 九 のいずれか）\n",
    "def kanji(n):\n",
    "    # *** 実装しなさい ***\n",
    "    # 以下はダミーの実装です．課題に取り組む人は削除してください．\n",
    "    return \"\""
   ]
  },
  {
   "cell_type": "markdown",
   "metadata": {},
   "source": [
    "実装できたらテストしましょう："
   ]
  },
  {
   "cell_type": "code",
   "execution_count": null,
   "metadata": {},
   "outputs": [],
   "source": [
    "for n in range(1, 10):\n",
    "    print(\"{} -> {}\".format(n, kanji(n)))"
   ]
  },
  {
   "cell_type": "markdown",
   "metadata": {},
   "source": [
    "**準備 2**: 正の整数 $n$ とゼロ以上の整数 $r$ を入力したとき，$n$ の十進表記の $10^r$ の位の数を返す関数 `digit_at(n, r)` を実装しなさい．つまり，`digit_at(n, 0)` は `n` の一の位，`digit_at(n, 1)` は十の位，... を返す．\n",
    "$10^r > n$ のときは 0 を返すようにしましょう．\n",
    "\n",
    "例）\n",
    "* `digit_at(567, 0)` → `7`\n",
    "* `digit_at(567, 1)` → `6`\n",
    "* `digit_at(567, 2)` → `5`\n",
    "* `digit_at(567, 3)` → `0`"
   ]
  },
  {
   "cell_type": "code",
   "execution_count": null,
   "metadata": {},
   "outputs": [],
   "source": [
    "def digit_at(n, r):\n",
    "    # *** 実装しなさい ***\n",
    "    # 以下はダミーの実装です．課題に取り組む人は削除してください．\n",
    "    return 0"
   ]
  },
  {
   "cell_type": "markdown",
   "metadata": {},
   "source": [
    "テストしましょう："
   ]
  },
  {
   "cell_type": "code",
   "execution_count": null,
   "metadata": {},
   "outputs": [],
   "source": [
    "print(digit_at(567, 0) == 7)\n",
    "print(digit_at(567, 1) == 6)\n",
    "print(digit_at(567, 2) == 5)\n",
    "print(digit_at(567, 3) == 0)"
   ]
  },
  {
   "cell_type": "markdown",
   "metadata": {},
   "source": [
    "ここからが本題．\n",
    "\n",
    "**Step 1**: まずは，入力された 1 から 9999 までの整数に対して，その漢字表記を返す関数 `thousands` を実装しましょう．\n",
    "\n",
    "実行例：\n",
    "* `thousands(9876)` → `\"九千八百七十六\"`\n",
    "* `thousands(12)` → `\"十二\"`\n",
    "* `thousands(102)` → `\"百二\"`"
   ]
  },
  {
   "cell_type": "markdown",
   "metadata": {},
   "source": [
    "ヒント（ダブルクリックで表示）\n",
    "<!--\n",
    "以下の手順でできるでしょう．\n",
    "1. 空の文字列 s = \"\" を用意する\n",
    "2. 千の位の数を d とする\n",
    "   もし d == 0 ならば\n",
    "       何もしない\n",
    "   もし d == 1 ならば\n",
    "       s += \"千\"  #  \"一千\" にはしない\n",
    "   それ以外ならば\n",
    "       d を漢字に変換したものを c として\n",
    "       s += c + \"千\"\n",
    "3. 百の位，十の位についても同様にする\n",
    "4. 一の位については...考えてみてください\n",
    "5. s を返す: return s\n",
    "\n",
    "* 千の位～十の位の処理（上の 2. と 3.）は\n",
    "  ループにまとめることができる\n",
    "* 少し工夫すれば一の位の処理もループにまとめれらる\n",
    "-->"
   ]
  },
  {
   "cell_type": "code",
   "execution_count": null,
   "metadata": {},
   "outputs": [],
   "source": [
    "# 入力：\n",
    "#   n : 1 <= n <= 9999 の整数\n",
    "# 出力:\n",
    "#   n の漢数字表記\n",
    "def thousands(n):\n",
    "    # *** 実装しなさい ***\n",
    "    # 以下はダミーの実装です．課題に取り組む人は削除してください．\n",
    "    return \"\""
   ]
  },
  {
   "cell_type": "markdown",
   "metadata": {},
   "source": [
    "`thousands(n)` が実装できたら，テストしましょう："
   ]
  },
  {
   "cell_type": "code",
   "execution_count": null,
   "metadata": {},
   "outputs": [],
   "source": [
    "print(thousands(9876) == \"九千八百七十六\")\n",
    "print(thousands(12)   == \"十二\")\n",
    "print(thousands(102)  ==  \"百二\")\n",
    "print(thousands(1000) == \"千\")"
   ]
  },
  {
   "cell_type": "markdown",
   "metadata": {},
   "source": [
    "**Step 2**: 1 ～ 9999兆9999億9999万9999 の範囲の数 `n` を受け取り，その漢字表記を返す関数 `num_to_kan(n)` を実装しましょう．\n",
    "\n",
    "「○○兆」「○○億」「○○万」「○○（千の位以下の部分）」の「○○」の部分は上で実装した `thousands` を使えば全て同じように作れることが分かるでしょう．ただし「○○」の部分がゼロの場合は特別あつかいが必要です．\n",
    "\n",
    "「○○兆」の部分，「○○万」の部分，... を入力 `n` から取り出すにはどうしたらよいか．下の例を見て考えてください．\n",
    "\n",
    "* 12345678 の「○○万」の部分 = 12345678 を 10000 で割った商 = `12345678 // 10000` = `12345678 // (10 ** 4)` = 1234\n",
    "* 12345678 の千の位以下の部分 = 12345678 を 10000 で割った余り = `12345678 % 10000` = 5678\n",
    "* 111122223333 の「○○万」の部分 = 11112222 の千の位以下の部分 = `(111122223333 // (10 ** 4)) % 10000` = 2222"
   ]
  },
  {
   "cell_type": "code",
   "execution_count": null,
   "metadata": {},
   "outputs": [],
   "source": [
    "def num_to_kan(n):\n",
    "    # *** 実装しなさい ***\n",
    "    # 以下はダミーの実装です．課題に取り組む人は削除してください．\n",
    "    return \"\""
   ]
  },
  {
   "cell_type": "markdown",
   "metadata": {},
   "source": [
    "実装できたら，いくつかの数をいれて試してみましょう："
   ]
  },
  {
   "cell_type": "code",
   "execution_count": null,
   "metadata": {},
   "outputs": [],
   "source": [
    "print(num_to_kan(99_0208_3932_8492))\n",
    "print(num_to_kan(1000000))\n",
    "print(num_to_kan(1111222233334444))"
   ]
  },
  {
   "cell_type": "markdown",
   "metadata": {},
   "source": [
    "もう少しテストしましょう："
   ]
  },
  {
   "cell_type": "code",
   "execution_count": null,
   "metadata": {},
   "outputs": [],
   "source": [
    "# Python の整数は適当に _ を挟んで書ける：1_2_3 と 123 は同じ\n",
    "print(num_to_kan(1234_5678_1234_5678) == '千二百三十四兆五千六百七十八億千二百三十四万五千六百七十八')\n",
    "print(num_to_kan(1000_0000_0001_0000) == \"千兆一万\") \n",
    "print(num_to_kan(9080_0101) == \"九千八十万百一\")"
   ]
  },
  {
   "cell_type": "markdown",
   "metadata": {},
   "source": [
    "### チャレンジ課題4.11: 数の読み上げ\n",
    "1 ～ 9999万9999 の範囲の数 `n` を受け取って，その読み方を**ひらがな表記**で返す関数 `num_to_yomi(n)` を実装しましょう．\n",
    "\n",
    "実行例：\n",
    "* `num_to_yomi(12)` → `\"じゅうに\"`\n",
    "* `num_to_yomi(801)` → `\"はっぴゃくいち\"`\n",
    "* `num_to_yomi(12345678)` → `\"せんにひゃくさんじゅうよんまんごせんろっぴゃくななじゅうはち\"`\n",
    "\n",
    "いろいろな方針が考えられますが，次のようにやってみましょう．\n",
    "* 1～9 の数の読みを返す関数 `yomi_1` を作る\n",
    "* 1～99 の数の読みを返す関数 `yomi_10` を，`yomi_1` を利用しながら作る\n",
    "* 1～999 の数の読みを返す関数 `yomi_100` を，`yomi_1`, `yomi_10` を利用しながら作る\n",
    "* 1～9999 の数の読みを返す関数 `yomi_1000` を，`yomi_1`～`yomi_100` を利用しながら作る\n",
    "* 8桁以下（9999万9999以下）の数の読みを返す関数 `num_to_yomi` を作る"
   ]
  },
  {
   "cell_type": "markdown",
   "metadata": {},
   "source": [
    "**Step 1**: まずは一けたの数字の読みを返す関数 `yomi_1(n)` を実装しましょう．\n",
    "\n",
    "* 「4」は「よん」「し」両方ありますが，「400」は「しひゃく」とは読めないので「4」は「よん」にしておくのが便利でしょう．\n",
    "* 「0」が入力されたときは空文字列 `\"\"` を返すようにしておくと後で便利かもしれません．"
   ]
  },
  {
   "cell_type": "code",
   "execution_count": null,
   "metadata": {},
   "outputs": [],
   "source": [
    "def yomi_1(n):\n",
    "    # 実装しなさい\n",
    "    # 以下はダミーの実装です．課題に取り組む人は削除してください．\n",
    "    return \"\""
   ]
  },
  {
   "cell_type": "markdown",
   "metadata": {},
   "source": [
    "テスト："
   ]
  },
  {
   "cell_type": "code",
   "execution_count": null,
   "metadata": {},
   "outputs": [],
   "source": [
    "for n in range(10):\n",
    "    print(\"{} -> {}\".format(n, yomi_1(n)))"
   ]
  },
  {
   "cell_type": "markdown",
   "metadata": {},
   "source": [
    "**Step 2**: つぎに，二けた以下（一けたの場合もある）数の読みを返す関数 `yomi_10(n)` を実装しましょう．\n",
    "\n",
    "二けたの数の読みは「十の位の読み ＋ 一の位の読み」だから `yomi_1(n // 10) + \"じゅう\" + yomi_1(n % 10)` になる場合が多いですが，\n",
    "\n",
    "* 「12」は「いちじゅうに」ではなく「じゅうに」\n",
    "* 入力が一けたの場合も正しく処理できるようにする\n",
    "\n",
    "に気を付ける必要があります．"
   ]
  },
  {
   "cell_type": "code",
   "execution_count": null,
   "metadata": {},
   "outputs": [],
   "source": [
    "def yomi_10(n):\n",
    "    # 実装しなさい\n",
    "    # 以下はダミーの実装です．課題に取り組む人は削除してください．\n",
    "    return \"\""
   ]
  },
  {
   "cell_type": "markdown",
   "metadata": {},
   "source": [
    "テストしましょう："
   ]
  },
  {
   "cell_type": "code",
   "execution_count": null,
   "metadata": {},
   "outputs": [],
   "source": [
    "# 適当にテストを書いて試しなさい"
   ]
  },
  {
   "cell_type": "markdown",
   "metadata": {},
   "source": [
    "**Step 3**: 三ケタ以下の数の読みを返す関数 `yomi_100(n)` を実装しましょう．\n",
    "\n",
    "* 「100」は「いちひゃく」ではなく「ひゃく」\n",
    "* 「300」は「さんひゃく」ではなく「さんびゃく」\n",
    "* 「600」「800」は「ろくひゃく」「はちひゃく」ではなく「ろっぴゃく」「はっぴゃく」\n",
    "\n",
    "に気を付ける必要があります"
   ]
  },
  {
   "cell_type": "code",
   "execution_count": null,
   "metadata": {},
   "outputs": [],
   "source": [
    "def yomi_100(n):\n",
    "    # 実装しなさい\n",
    "    # 以下はダミーの実装です．課題に取り組む人は削除してください．\n",
    "    return \"\""
   ]
  },
  {
   "cell_type": "markdown",
   "metadata": {},
   "source": [
    "**Step 4**: 四ケタ以下の数の読みを返す関数 `yomi_1000(n)` を実装しましょう．\n",
    "\n",
    "千の位の読みのうち，気を付けなければならないのはどの場合でしょう？"
   ]
  },
  {
   "cell_type": "code",
   "execution_count": null,
   "metadata": {},
   "outputs": [],
   "source": [
    "def yomi_1000(n):\n",
    "    # 実装しなさい\n",
    "    # 以下はダミーの実装です．課題に取り組む人は削除してください．\n",
    "    return \"\""
   ]
  },
  {
   "cell_type": "markdown",
   "metadata": {},
   "source": [
    "**Step 5**: 八ケタ以下（9999万9999以下）の数の読みを返す関数 `num_to_yomi(n)` を実装しましょう．"
   ]
  },
  {
   "cell_type": "code",
   "execution_count": null,
   "metadata": {},
   "outputs": [],
   "source": [
    "def num_to_yomi(n):\n",
    "    # 実装しなさい\n",
    "    # 以下はダミーの実装です．課題に取り組む人は削除してください．\n",
    "    return \"\""
   ]
  },
  {
   "cell_type": "markdown",
   "metadata": {},
   "source": [
    "すべて実装できたら，いくつかの数について試して見ましょう："
   ]
  },
  {
   "cell_type": "code",
   "execution_count": null,
   "metadata": {},
   "outputs": [],
   "source": [
    "test_eq(num_to_yomi(11), \"じゅういち\", True)\n",
    "test_eq(num_to_yomi(34), \"さんじゅうよん\", True)\n",
    "test_eq(num_to_yomi(301), \"さんびゃくいち\", True)\n",
    "test_eq(num_to_yomi(450), \"よんひゃくごじゅう\", True)\n",
    "test_eq(num_to_yomi(610), \"ろっぴゃくじゅう\", True)\n",
    "test_eq(num_to_yomi(888), \"はっぴゃくはちじゅうはち\", True)\n",
    "test_eq(num_to_yomi(1100), \"せんひゃく\", True)\n",
    "test_eq(num_to_yomi(1234), \"せんにひゃくさんじゅうよん\", True)\n",
    "test_eq(num_to_yomi(3210), \"さんぜんにひゃくじゅう\", True)\n",
    "test_eq(num_to_yomi(8601), \"はっせんろっぴゃくいち\", True)\n",
    "test_eq(num_to_yomi(32105678), \"さんぜんにひゃくじゅうまんごせんろっぴゃくななじゅうはち\", True)"
   ]
  },
  {
   "cell_type": "markdown",
   "metadata": {},
   "source": [
    "<!-- **さらに拡張**: 16桁以下（9999兆9999億9999万9999）の数まで対応するように `num_to_yomi(n)` を拡張しなさい．-->\n",
    "## 課題提出の前の注意\n",
    "* かならずメニューの \"Run\" から \"Run All Cells\" を選択し，全てのセルが正しく実行されることを確認すること\n",
    "* \"Run All Cells\" を実行したら，各セルの実行結果が表示されている状態で保存のボタンを押してノートブックを保存すること\n",
    "* 上記のようにして，実行結果まで含めて保存してからノートブックを提出すること．\n",
    "* 以下の「チャレンジ課題」は余力がある人のための課題です．セルを正しく実装して提出すれば加点します．"
   ]
  },
  {
   "cell_type": "markdown",
   "metadata": {},
   "source": [
    "**入門編４：おわり**"
   ]
  }
 ],
 "metadata": {
  "kernelspec": {
   "display_name": "Python [conda env:base] *",
   "language": "python",
   "name": "conda-base-py"
  },
  "language_info": {
   "codemirror_mode": {
    "name": "ipython",
    "version": 3
   },
   "file_extension": ".py",
   "mimetype": "text/x-python",
   "name": "python",
   "nbconvert_exporter": "python",
   "pygments_lexer": "ipython3",
   "version": "3.13.5"
  }
 },
 "nbformat": 4,
 "nbformat_minor": 4
}