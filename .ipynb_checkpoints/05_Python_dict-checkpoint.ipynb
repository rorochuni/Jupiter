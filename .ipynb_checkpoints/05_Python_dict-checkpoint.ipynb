{
 "cells": [
  {
   "cell_type": "markdown",
   "metadata": {},
   "source": [
    "# Python 入門編５：辞書型\n",
    "## 目次\n",
    "* [1. 辞書型の基本操作](#1.-辞書型の基本操作)\n",
    " * [値の取り出し](#値の取り出し)\n",
    " * [キーの存在チェック](#キーの存在チェック)\n",
    " * [キーと値の登録・値のアップデート](#キーと値の登録・値のアップデート)\n",
    "  * [キーは一意](#キーは一意)\n",
    " * [キーの削除](#キーの削除)\n",
    " * [キーについてのループ](#キーについてのループ)\n",
    " * [値についてのループ](#値についてのループ)\n",
    " * [キーと値についてのループ](#キーと値についてのループ)\n",
    "* [2. 辞書を使った処理の練習](#2.-辞書を使った処理の練習)\n",
    " * [練習5.1: 数式翻訳](#練習5.1:-数式翻訳)\n",
    " * [練習5.2: リストの要素を数える](#練習5.2:-リストの要素を数える)\n",
    " * [練習5.3: 支出の集計](#練習5.3:-支出の集計)\n",
    " * [練習5.4: 成績データの集計](#練習5.4:-成績データの集計)\n",
    "* [課題提出の前の注意](#課題提出の前の注意)\n",
    "* [チャレンジ課題5.5: in 演算の速さ](#チャレンジ課題5.5:-in-演算の速さ)\n",
    " * [Step 1: 辞書の in 演算の速さ](#Step-1:-辞書の-in-演算の速さ)\n",
    " * [Step 2: リストの in 演算の速さ](#Step-2:-リストの-in-演算の速さ)\n",
    " * [Step 3: 要素が存在しない場合の計算時間](#Step-3:-要素が存在しない場合の計算時間)\n",
    " * [Step 4: 考察](#Step-4:-考察)\n",
    "* [課題提出の前の注意](#課題提出の前の注意)\n",
    "\n",
    "---\n",
    "このノートブックでは，辞書型のデータ（dictionary）の使い方を練習する．\n",
    "\n",
    "辞書型は，**キー**と**値**の２つのデータのペアを集めたものとみなせる．\n",
    "\n",
    "まずは例を見てみよう．下のセルは，動物の名前をキー，動物の年齢を値とする辞書を定義している．実行しなさい："
   ]
  },
  {
   "cell_type": "code",
   "execution_count": 1,
   "metadata": {},
   "outputs": [
    {
     "name": "stdout",
     "output_type": "stream",
     "text": [
      "15\n"
     ]
    }
   ],
   "source": [
    "age = {\"太郎\": 18, \"次郎\": 16, \"花子\": 15, \"ミケ\": 5}\n",
    "\n",
    "print(age[\"花子\"])"
   ]
  },
  {
   "cell_type": "markdown",
   "metadata": {},
   "source": [
    "上のセルでは，辞書型のデータ `age` を\n",
    "`{ キー1: 値1, キー2, 値2, ..., キーn: 値n }`\n",
    "の構文で直接定義している．\n",
    "\n",
    "そして，`age[キー]` の構文で，キー`\"花子\"`に対応付けられた値 `15` を取り出して表示している．\n",
    "\n",
    "このように，辞書型のデータは，\n",
    "```\n",
    "キー1 → 値1\n",
    "キー2 → 値2\n",
    "...\n",
    "キーn → 値n\n",
    "```\n",
    "という対応関係を表している．\n",
    "\n",
    "同様の対応付けは，キーのリストと値のリストを別々に用意することでも実現できる．\n",
    "例えば上のセルと同じ対応づけをするには\n",
    "```python\n",
    "keys = [\"太郎\", \"次郎\", \"花子\", \"ミケ\"]\n",
    "values = [18, 16, 15, 5]\n",
    "```\n",
    "という２つのリストを用意すればよい．この場合，花子の年齢つまりキー `\"花子\"` に対応づけられた値を得るには\n",
    "1. `keys` のリストから `\"花子\"` を探し，その番号（添字）を得る．この場合，`\"花子\"` の添字は 2 である．\n",
    "2. 同じ添字 2 を使って `values` のリストから値 `values[2]` すなわち `15` を得る．\n",
    "という2段階の処理が必要になる．\n",
    "\n",
    "しかし，辞書を使えば，キーに結び付けられた値を添え字演算子 `x[キー]` を用いて高速に，かつ簡単に取り出せる．\n"
   ]
  },
  {
   "cell_type": "markdown",
   "metadata": {},
   "source": [
    "## 1. 辞書型の基本操作"
   ]
  },
  {
   "cell_type": "markdown",
   "metadata": {},
   "source": [
    "### 値の取り出し\n",
    "上で見たように，辞書 `x` に対して，`x[キー]` の形でキーに対応付けられた値を取り出せる："
   ]
  },
  {
   "cell_type": "code",
   "execution_count": 2,
   "metadata": {},
   "outputs": [
    {
     "data": {
      "text/plain": [
       "18"
      ]
     },
     "execution_count": 2,
     "metadata": {},
     "output_type": "execute_result"
    }
   ],
   "source": [
    "age[\"太郎\"]"
   ]
  },
  {
   "cell_type": "markdown",
   "metadata": {},
   "source": [
    "辞書に存在しないキーの値を添え字として指定するとエラー（正確には「例外」）が発生する．\n",
    "\n",
    "下のセルを実行して，エラーになることを確認しなさい："
   ]
  },
  {
   "cell_type": "code",
   "execution_count": 4,
   "metadata": {},
   "outputs": [],
   "source": [
    "#age[\"タマ\"]"
   ]
  },
  {
   "cell_type": "markdown",
   "metadata": {},
   "source": [
    "エラーになることを確認したら，後で \"Run All Cells\" するときに止まらないように上のセルの中身を `#` でコメントアウトしなさい．"
   ]
  },
  {
   "cell_type": "markdown",
   "metadata": {},
   "source": [
    "### キーの存在チェック\n",
    "ある辞書 `d` に，キーとして `k` が存在するかどうかは `k in d` という式（in 演算子）で調べることができる．\n",
    "\n",
    "すなわち，辞書 `d` にキー `k` が存在すれば `k in d` は `True`，存在しなければ `False` となる．\n",
    "\n",
    "下のセルを実行して，`in` 演算子の返り値を見てみなさい："
   ]
  },
  {
   "cell_type": "code",
   "execution_count": 5,
   "metadata": {},
   "outputs": [
    {
     "data": {
      "text/plain": [
       "True"
      ]
     },
     "execution_count": 5,
     "metadata": {},
     "output_type": "execute_result"
    }
   ],
   "source": [
    "\"太郎\" in age"
   ]
  },
  {
   "cell_type": "code",
   "execution_count": 6,
   "metadata": {},
   "outputs": [
    {
     "data": {
      "text/plain": [
       "False"
      ]
     },
     "execution_count": 6,
     "metadata": {},
     "output_type": "execute_result"
    }
   ],
   "source": [
    "\"タマ\" in age"
   ]
  },
  {
   "cell_type": "markdown",
   "metadata": {},
   "source": [
    "辞書 `age` は `{\"太郎\": 18, \"次郎\": 16, \"花子\": 15, \"ミケ\": 5}` という内容だった．\n",
    "\n",
    "従って，`\"太郎\" in age` は `True` となり，`\"タマ\" in age` は `False` となる．"
   ]
  },
  {
   "cell_type": "markdown",
   "metadata": {},
   "source": [
    "この `キー in 辞書` の式と if 文を組み合わせれば，ある値が辞書に存在するかどうかによって処理を分けることができる．\n",
    "\n",
    "以下は，入力として辞書 `age` に存在するキーが与えられたときは対応する値を表示し，存在しない場合はその旨を表示する関数である："
   ]
  },
  {
   "cell_type": "code",
   "execution_count": 7,
   "metadata": {},
   "outputs": [],
   "source": [
    "def find_age(name):\n",
    "    if name in age:\n",
    "        print(name, \"は\", age[name], \"才です\")\n",
    "    else:\n",
    "        print(name, \"は登録されていません\")"
   ]
  },
  {
   "cell_type": "markdown",
   "metadata": {},
   "source": [
    "下のセルを実行して `find_age` 関数の動作を確認しなさい："
   ]
  },
  {
   "cell_type": "code",
   "execution_count": 8,
   "metadata": {},
   "outputs": [
    {
     "name": "stdout",
     "output_type": "stream",
     "text": [
      "次郎 は 16 才です\n",
      "ジョン は登録されていません\n"
     ]
    }
   ],
   "source": [
    "find_age(\"次郎\")\n",
    "find_age(\"ジョン\")"
   ]
  },
  {
   "cell_type": "markdown",
   "metadata": {},
   "source": [
    "### キーと値の登録・値のアップデート\n",
    "辞書に，新しいキーとその値を登録するには，`x[新しいキー]` に値を代入すればよい．\n",
    "\n",
    "以下は，辞書 `age` に新しいキー`\"三郎\"` と値 `25` を登録する例である："
   ]
  },
  {
   "cell_type": "code",
   "execution_count": 9,
   "metadata": {},
   "outputs": [],
   "source": [
    "age[\"三郎\"] = 25"
   ]
  },
  {
   "cell_type": "markdown",
   "metadata": {},
   "source": [
    "上のセルを実行した後で，新しいキー `\"三郎\"` が辞書に存在することを `in` で確かめ，さらに値を取り出しなさい："
   ]
  },
  {
   "cell_type": "code",
   "execution_count": 10,
   "metadata": {},
   "outputs": [
    {
     "data": {
      "text/plain": [
       "True"
      ]
     },
     "execution_count": 10,
     "metadata": {},
     "output_type": "execute_result"
    }
   ],
   "source": [
    "\"三郎\" in age"
   ]
  },
  {
   "cell_type": "code",
   "execution_count": 11,
   "metadata": {},
   "outputs": [
    {
     "data": {
      "text/plain": [
       "25"
      ]
     },
     "execution_count": 11,
     "metadata": {},
     "output_type": "execute_result"
    }
   ],
   "source": [
    "age[\"三郎\"]"
   ]
  },
  {
   "cell_type": "markdown",
   "metadata": {},
   "source": [
    "辞書にすでに存在するキーを指定して `x[キー] = ...` の形で代入した場合は，すでに存在するキーに対応する値が上書きされる．\n",
    "\n",
    "以下は，辞書 `age` でキー `太郎` に対応付けられた値を `100` で上書きする:"
   ]
  },
  {
   "cell_type": "code",
   "execution_count": 12,
   "metadata": {},
   "outputs": [],
   "source": [
    "age[\"太郎\"] = 100"
   ]
  },
  {
   "cell_type": "markdown",
   "metadata": {},
   "source": [
    "上のセルを実行した後で `age[\"太郎\"]` で値を取り出せばもちろん 100 が返ってくるが，辞書全体を print することでも更新後のキーと値の対応を見ることができる："
   ]
  },
  {
   "cell_type": "code",
   "execution_count": 13,
   "metadata": {},
   "outputs": [
    {
     "name": "stdout",
     "output_type": "stream",
     "text": [
      "{'太郎': 100, '次郎': 16, '花子': 15, 'ミケ': 5, '三郎': 25}\n"
     ]
    }
   ],
   "source": [
    "print(age)"
   ]
  },
  {
   "cell_type": "markdown",
   "metadata": {},
   "source": [
    "また，`x[キー] = x[キー] + 1` のようにすれば，（すでに存在する）キーに対応する値を 1 増やすことができる．\n",
    "同じことは， `+=` 演算子を使って `x[キー] += 1` とも書ける．\n",
    "\n",
    "下のセルを実行すると，キー \"次郎\" と \"花子\" に対応付けられた値がそれぞれ 1 増やされる： "
   ]
  },
  {
   "cell_type": "code",
   "execution_count": 14,
   "metadata": {},
   "outputs": [
    {
     "name": "stdout",
     "output_type": "stream",
     "text": [
      "変更前\n",
      "{'太郎': 100, '次郎': 16, '花子': 15, 'ミケ': 5, '三郎': 25}\n",
      "変更後\n",
      "{'太郎': 100, '次郎': 17, '花子': 16, 'ミケ': 5, '三郎': 25}\n"
     ]
    }
   ],
   "source": [
    "print(\"変更前\")\n",
    "print(age)\n",
    "\n",
    "age[\"次郎\"] = age[\"次郎\"] + 1 # 意味は += 1 と同じ\n",
    "age[\"花子\"] += 1\n",
    "\n",
    "print(\"変更後\")\n",
    "print(age)"
   ]
  },
  {
   "cell_type": "markdown",
   "metadata": {},
   "source": [
    "#### キーは一意\n",
    "以上から分かるように，ひとつの辞書の中で，あるキーは対応する値をひとつしか持てない．\n",
    "言い換えると，ひとつの辞書には同じキーは一つしか登録できない．"
   ]
  },
  {
   "cell_type": "markdown",
   "metadata": {},
   "source": [
    "### キーの削除\n",
    "いったん辞書に登録したキーを，（対応する値とともに）削除したくなることがある．\n",
    "これは `del` 演算子を用いてできる．\n",
    "\n",
    "下のセルを実行すると，辞書 `age` からキー `太郎` が削除される："
   ]
  },
  {
   "cell_type": "code",
   "execution_count": 15,
   "metadata": {},
   "outputs": [],
   "source": [
    "del age[\"太郎\"]"
   ]
  },
  {
   "cell_type": "markdown",
   "metadata": {},
   "source": [
    "辞書 `age` を print して，キー \"太郎\" が無くなったことを確認しなさい："
   ]
  },
  {
   "cell_type": "code",
   "execution_count": 16,
   "metadata": {},
   "outputs": [
    {
     "name": "stdout",
     "output_type": "stream",
     "text": [
      "{'次郎': 17, '花子': 16, 'ミケ': 5, '三郎': 25}\n"
     ]
    }
   ],
   "source": [
    "print(age)"
   ]
  },
  {
   "cell_type": "markdown",
   "metadata": {},
   "source": [
    "### キーについてのループ\n",
    "辞書中の全てのキーについて何かの処理をしたいことがよくある．\n",
    "\n",
    "辞書 `d` の中のキーをひとつづつ取り出して，そのつど変数 `k` にセットするループ処理は\n",
    "```python\n",
    "for k in d.keys():\n",
    "    ... k を使った処理 ...\n",
    "```\n",
    "\n",
    "と書ける．\n",
    "\n",
    "以下は，辞書 `age` の中のキーを一つずつ取り出して表示するプログラムである．実行して結果を確かめなさい："
   ]
  },
  {
   "cell_type": "code",
   "execution_count": 17,
   "metadata": {},
   "outputs": [
    {
     "name": "stdout",
     "output_type": "stream",
     "text": [
      "次郎\n",
      "花子\n",
      "ミケ\n",
      "三郎\n"
     ]
    }
   ],
   "source": [
    "for name in age.keys():\n",
    "    print(name)"
   ]
  },
  {
   "cell_type": "markdown",
   "metadata": {},
   "source": [
    "### 値についてのループ\n",
    "キーではなく，辞書 `d` の中の値のほうをひとつづつ取り出すループは `values` メソッドを使って以下のように書ける：\n",
    "```python\n",
    "for v in d.values():\n",
    "    ... v を使った処理 ...\n",
    "```\n",
    "\n",
    "辞書中で，異なるキーに対して同じ値が登録されている場合は，同じ値が何回か（辞書に現れる回数だけ）ループ変数 `v` にセットされる．\n",
    "\n",
    "以下は，名前 → 好物 の対応を記録した辞書から，値（好物）だけを取り出して表示するプログラムである．実行して結果を確かめなさい："
   ]
  },
  {
   "cell_type": "code",
   "execution_count": 20,
   "metadata": {},
   "outputs": [
    {
     "name": "stdout",
     "output_type": "stream",
     "text": [
      "どら焼き\n",
      "チョコ\n",
      "プリン\n",
      "プリン\n"
     ]
    }
   ],
   "source": [
    "like = {\"太郎\": \"どら焼き\", \"次郎\": \"チョコ\", \"花子\": \"プリン\", \"ミケ\": \"プリン\"}\n",
    "\n",
    "for v in like.values():\n",
    "    print(v)"
   ]
  },
  {
   "cell_type": "markdown",
   "metadata": {},
   "source": [
    "### キーと値についてのループ\n",
    "辞書中のそれぞれのキーについて，対応する値も一緒に取り出してループ処理したいことも多い．\n",
    "\n",
    "この場合，辞書 `d` の全体に対して，対応するキー `k` と値 `v` のペアをひとつづつ処理するためのループ処理は\n",
    "```python\n",
    "for k, v in d.items():\n",
    "    ... k と v を使った処理 ...\n",
    "```\n",
    "と書ける．\n",
    "\n",
    "以下は，辞書 `age` の中のキーと値の組を一つずつ取り出して表示するプログラムである．実行して結果を確かめなさい："
   ]
  },
  {
   "cell_type": "code",
   "execution_count": 21,
   "metadata": {},
   "outputs": [
    {
     "name": "stdout",
     "output_type": "stream",
     "text": [
      "次郎 は 17才\n",
      "花子 は 16才\n",
      "ミケ は 5才\n",
      "三郎 は 25才\n"
     ]
    }
   ],
   "source": [
    "for name, nenrei in age.items():\n",
    "    print(\"{} は {}才\".format(name, nenrei))"
   ]
  },
  {
   "cell_type": "markdown",
   "metadata": {},
   "source": [
    "## 2. 辞書を使った処理の練習"
   ]
  },
  {
   "cell_type": "markdown",
   "metadata": {},
   "source": [
    "### 練習5.1: 数式翻訳\n",
    "例えば \"1 + 1 = 2\" → \"いちたすいちはに\" のように，入力された1桁の数についての数式の読み方を教えてくれるプログラムを作りたい．\n",
    "\n",
    "まず以下のセルの辞書 `math_dict` の定義に \"3\", ..., \"9\" の読みを追加せよ．（キーである \"3\", ..., \"9\" は数値ではなく文字列としての数字であることに注意せよ）"
   ]
  },
  {
   "cell_type": "code",
   "execution_count": 22,
   "metadata": {},
   "outputs": [],
   "source": [
    "math_dict = {\n",
    "    \"0\": \"ぜろ\",\n",
    "    \"1\": \"いち\", \n",
    "    \"2\": \"に\",\n",
    "    # \"3\" ... \"9\" を埋める\n",
    "    \"3\": \"さん\",\n",
    "    \"4\": \"よん\",\n",
    "    \"5\": \"ご\",\n",
    "    \"6\": \"ろく\",\n",
    "    \"7\": \"なな\",\n",
    "    \"8\": \"はち\",\n",
    "    \"9\": \"きゅう\",\n",
    "    \"+\": \"たす\",\n",
    "    \"-\": \"ひく\",\n",
    "    \"*\": \"かける\",\n",
    "    \"/\": \"わる\",\n",
    "    \"=\": \"は\"\n",
    "}"
   ]
  },
  {
   "cell_type": "markdown",
   "metadata": {},
   "source": [
    "次に，数式を表す文字列 `expr` を受け取り，`math_dict` を使って，`expr` の読み方をひらがなの文字列として返す関数 `math_translate(expr)` の実装を完成させよ．\n",
    "\n",
    "入力 `expr` は1桁の整数と `+-*/=` だけを含み，数と記号の間にはスペースが一つ入っていると仮定してよい．\n",
    "\n",
    "実行例：\n",
    "```python\n",
    "math_translate(\"1 + 1 = 2\") --> \"いちたすいちはに\"\n",
    "math_translate(\"3 / 3 + 2 = 3\") --> \"さんわるさんたすにはさん\"\n",
    "```"
   ]
  },
  {
   "cell_type": "markdown",
   "metadata": {},
   "source": [
    "ヒント（ダブルクリックで表示）\n",
    "<!--\n",
    "入力された数式 expr を expr.split(\" \") とすると空白で区切られた部分のリストが返される\n",
    "（そこまでは以下のセルに書いてある）\n",
    "\n",
    "例えば expr = \"1 + 1 = 2\" のときは，expr.split(\" \") の結果は\n",
    "\n",
    "[\"1\", \"+\", \"1\", \"=\", \"2\"]\n",
    "\n",
    "というリストになる．このリスト（下のセルでは words という変数に代入される）から\n",
    "記号と整数をひとつづつ取り出すには\n",
    "\n",
    "for w in words:\n",
    "   ...\n",
    "\n",
    "という形のループを用いればよい．\n",
    "\n",
    "ループごとに取り出された記号 w の読みを math_dict[w] によって取り出し，\n",
    "文字列 s に結合して，最後に s を return すればよい．\n",
    "-->"
   ]
  },
  {
   "cell_type": "code",
   "execution_count": 27,
   "metadata": {},
   "outputs": [],
   "source": [
    "def math_translate(expr):\n",
    "    # 空白で区切って記号と整数（を表す文字列）のリストにする\n",
    "    words = expr.split(\" \") # 例：\"1 + 1 = 2\" -> [\"1\", \"+\", \"1\", \"=\", \"2\"]\n",
    "    \n",
    "    s = \"\"\n",
    "    # *** 実装しなさい ***\n",
    "    # リスト words の中の数字と記号を，\n",
    "    # math_dict を使ってひらがな列に置き換え，文字列 s に結合する\n",
    "    for i in range (0,len(words)):\n",
    "        s+=math_dict[words[i]]\n",
    "    return s    "
   ]
  },
  {
   "cell_type": "markdown",
   "metadata": {},
   "source": [
    "実装できたらテストしましょう："
   ]
  },
  {
   "cell_type": "code",
   "execution_count": 28,
   "metadata": {},
   "outputs": [
    {
     "name": "stdout",
     "output_type": "stream",
     "text": [
      "1 + 1 = 2 -> いちたすいちはに ... テスト成功\n",
      "2 * 3 = 6 -> にかけるさんはろく ... テスト成功\n",
      "5 = 6 - 1 -> ごはろくひくいち ... テスト成功\n",
      "2 = 2 = 2 -> にはにはに ... テスト成功\n",
      "3 / 3 + 2 = 3 -> さんわるさんたすにはさん ... テスト成功\n"
     ]
    }
   ],
   "source": [
    "def test_math_translate(expr, yomi):\n",
    "    trans = math_translate(expr)\n",
    "    if trans == yomi:\n",
    "        result = \"テスト成功\"\n",
    "    else:\n",
    "        result = \"テスト失敗\"\n",
    "    print(expr, \"->\", yomi, \"...\", result)\n",
    "    \n",
    "test_math_translate(\"1 + 1 = 2\", \"いちたすいちはに\")\n",
    "test_math_translate(\"2 * 3 = 6\", \"にかけるさんはろく\")\n",
    "test_math_translate(\"5 = 6 - 1\", \"ごはろくひくいち\")\n",
    "test_math_translate(\"2 = 2 = 2\", \"にはにはに\")\n",
    "test_math_translate(\"3 / 3 + 2 = 3\", \"さんわるさんたすにはさん\")"
   ]
  },
  {
   "cell_type": "markdown",
   "metadata": {},
   "source": [
    "---\n",
    "### 練習5.2: リストの要素を数える\n",
    "入力として与えられたリストの中で，どの要素が何回出てきたかを数え，要素をキー，出現回数を値とする辞書の形で返す関数 `count_elem(xs)` を実装しなさい．\n",
    "\n",
    "実行例1（文字列のリストを与えた場合）：\n",
    "```python\n",
    "count_elem([\"みかん\", \"りんご\", \"りんご\", \"キウイ\"])\n",
    "→ {\"みかん\": 1, \"りんご\": 2, \"キウイ\": 1}\n",
    "```\n",
    "\n",
    "実行例2（整数のリストを与えた場合）：\n",
    "```python\n",
    "count_elem([1, 1, 1, 2, 3, 2, 2])\n",
    "→ {1: 2, 2: 3, 3: 1} # 1が3回，2が3回，3が1回出現した\n",
    "```\n",
    "\n",
    "ヒント：\n",
    "* 要素 `x` の出現回数を記録する辞書 `count` を空の辞書 `{}` で初期化し，要素 `x` を見つけるたびに回数 `count[x]` を増やしていけばよい\n",
    "* リスト `xs` の要素をひとつづつ取り出すループは `for x in xs: ...` と書けるのだった\n",
    "* リストから取り出した要素 `x` が，初めて出現した値か，そうでないかに応じて，処理を以下のように切り替える必要がある：\n",
    "  * 初めて出現した要素 `x` → `count[x]` に 1 をセットする\n",
    "  * 2回目以降の要素 `x` → `count[x]` を 1 増やす\n",
    "* `x` が初めて出現した要素かどうかは，`if x in count` で調べて場合分けすればよい"
   ]
  },
  {
   "cell_type": "markdown",
   "metadata": {},
   "source": [
    "さらにヒント（ダブルクリックで表示）\n",
    "<!--\n",
    "count_elem の全体は次のような構造になるはずである\n",
    "\n",
    "def count_elem(xs):\n",
    "    count = {} # count を {} で初期化する\n",
    "    リスト xs の中の要素 x のそれぞれについて\n",
    "       もし x が count の中にあれば\n",
    "          count[x] を 1 増やす\n",
    "       そうでなければ\n",
    "          count[x] に 1 をセットする\n",
    "    count を return する\n",
    "-->"
   ]
  },
  {
   "cell_type": "code",
   "execution_count": 39,
   "metadata": {},
   "outputs": [],
   "source": [
    "def count_elem(xs):\n",
    "    # *** 実装しなさい ***\n",
    "    r={}\n",
    "    c=len(xs)\n",
    "    for i in xs:\n",
    "        if i in r:\n",
    "            r[i] += 1\n",
    "        else:\n",
    "            r[i] = 1\n",
    "    return r"
   ]
  },
  {
   "cell_type": "markdown",
   "metadata": {},
   "source": [
    "実装できたらテストしましょう："
   ]
  },
  {
   "cell_type": "code",
   "execution_count": 40,
   "metadata": {},
   "outputs": [
    {
     "name": "stdout",
     "output_type": "stream",
     "text": [
      "True\n",
      "True\n"
     ]
    }
   ],
   "source": [
    "print(count_elem([1, 1, 2, 3, 1]) == {1: 3, 2: 1, 3: 1})\n",
    "print(count_elem([\"ねこ\", \"ねこ\", \"パンダ\", \"ねこ\", \"パンダ\"]) == {\"ねこ\": 3, \"パンダ\": 2})"
   ]
  },
  {
   "cell_type": "markdown",
   "metadata": {},
   "source": [
    "### 練習5.3: 支出の集計\n",
    "例えば\n",
    "\n",
    "    卵 → 食費\n",
    "    パン → 食費\n",
    "    靴下 → 衣服費\n",
    "    映画代 → 娯楽費\n",
    "    \n",
    "のような**品目 → 分類**の対応を記録した辞書 `bunrui` と，\n",
    "\n",
    "    卵 → 20\n",
    "    パン → 200\n",
    "    靴下 → 500\n",
    "    映画代 → 1800\n",
    "    \n",
    "のような**品目 → 単価**の対応を記録した辞書 `tanka` および\n",
    "```python\n",
    "[[\"卵\", 10], [\"パン\", 1], [\"靴下\", 4], [\"映画代\", 1]]\n",
    "```    \n",
    "のように \\[品目, 購入個数\\] を並べた2重リスト `kosuu` を受け取り，\n",
    "\n",
    "    食費 → 400\n",
    "    衣服費 → 2000\n",
    "    娯楽費 → 1800\n",
    "\n",
    "のような**分類 → 支出総額**の対応を記録した辞書を返す関数 `shukei(bunrui, tanka, kosuu)` を実装しなさい．購入個数のリスト `kosuu` の中にある品目（例えば \"卵\"）は，辞書 `bunrui` および `tanka` のキーとして必ず存在すると仮定してよい："
   ]
  },
  {
   "cell_type": "markdown",
   "metadata": {},
   "source": [
    "ヒント（ダブルクリックで表示）\n",
    "<!--\n",
    "まだ処理のイメージがつかめない人は説明中のデータに対して\n",
    "\n",
    "* 食費 → 400\n",
    "* 衣服費 → 2000\n",
    "* 娯楽費 → 1800\n",
    "\n",
    "の支出総額の計算式を書いてみなさい．例えば食費は\n",
    "   食費 = 卵 x 10個 + パン x 1個 = 20 x 10 + 200 x 1 = 400\n",
    "となる．\n",
    "-->"
   ]
  },
  {
   "cell_type": "markdown",
   "metadata": {},
   "source": [
    "さらにヒント（ダブルクリックで表示）\n",
    "<!--\n",
    "shukei の実装はだいたい以下の構造になるだろう\n",
    "\n",
    "def shukei(bunrui, tanka, kosuu):\n",
    "    summary を {} で初期化する\n",
    "    kosuu の要素 item_num のそれぞれについて # -> item_num には [\"卵\", 100] のような長さ2のリストが順にセットされる\n",
    "        item_num[0] を item という変数にセットする # わかりやすさのため\n",
    "        item_num[1] を num という変数にセットする  # わかりやすさのため\n",
    "        bunrui の辞書から item の分類を取り出し b という変数にセットする\n",
    "        tanka  の辞書から item の単価を取り出し t という変数にセットする\n",
    "        もし b が summary に既に登録されていたら\n",
    "           summary[b] に 個数 * 単価 を加える\n",
    "        そうでなければ\n",
    "           summary[b] に 個数 * 単価 をセットする\n",
    "-->"
   ]
  },
  {
   "cell_type": "code",
   "execution_count": 49,
   "metadata": {},
   "outputs": [],
   "source": [
    "def shukei(bunrui, tanka, kosuu):\n",
    "    # *** 実装しなさい ***\n",
    "    summary={}\n",
    "    for i in range (len(kosuu)):\n",
    "        item=kosuu[i][0]\n",
    "        num=kosuu[i][1]\n",
    "        b=bunrui[item]\n",
    "        t=tanka[item]\n",
    "        if b in summary:\n",
    "            summary[b]+=num*t\n",
    "        else:\n",
    "            summary[b]=num*t\n",
    "    return summary"
   ]
  },
  {
   "cell_type": "markdown",
   "metadata": {},
   "source": [
    "実装できたらテストしなさい："
   ]
  },
  {
   "cell_type": "code",
   "execution_count": 50,
   "metadata": {},
   "outputs": [
    {
     "name": "stdout",
     "output_type": "stream",
     "text": [
      "True\n",
      "True\n"
     ]
    }
   ],
   "source": [
    "bunrui = {\"卵\": \"食費\", \"パン\": \"食費\", \"米\": \"食費\", \"玉ねぎ\": \"食費\",\n",
    "          \"靴下\": \"衣服費\", \"シャツ\": \"衣服費\", \"ハンカチ\": \"衣服費\",\n",
    "          \"映画代\": \"娯楽費\", \"カラオケ\": \"娯楽費\",\n",
    "          \"ノート\": \"日用品\", \"石鹸\": \"日用品\", \"シャンプー\": \"日用品\"}\n",
    "\n",
    "tanka = {\"卵\": 30, \"パン\": 200, \"米\": 1000, \"玉ねぎ\": 50,\n",
    "         \"靴下\": 500, \"シャツ\": 5000, \"ハンカチ\": 500,\n",
    "         \"映画代\": 1800, \"カラオケ\": 400,\n",
    "         \"ノート\": 200, \"石鹸\": 100, \"シャンプー\": 500}\n",
    "\n",
    "print(shukei(bunrui, tanka, [[\"卵\", 10], [\"玉ねぎ\", 4], [\"靴下\", 5], [\"シャツ\", 2], [\"シャンプー\", 1], [\"パン\", 4]]) ==\n",
    "      {'食費': 1300, '衣服費': 12500, '日用品': 500})\n",
    "\n",
    "print(shukei(bunrui, tanka, [[\"パン\", 10], [\"パン\", 10], [\"パン\", 10], [\"カラオケ\", 2], [\"カラオケ\", 2]]) ==\n",
    "      {\"食費\": 6000, \"娯楽費\": 1600})"
   ]
  },
  {
   "cell_type": "markdown",
   "metadata": {},
   "source": [
    "### 練習5.4: 成績データの集計\n",
    "リスト処理の練習で，行列を\n",
    "```python\n",
    "[ [1, 2],\n",
    "  [3, 4] ]\n",
    "```\n",
    "のような2重のリストで表した．\n",
    "\n",
    "同様に，辞書中でそれぞれのキーに対応する値がふたたび辞書になっている2重の辞書が作れる．\n",
    "\n",
    "例えば，以下の辞書 `scores` は学生番号 1001 ～ 1004 の学生について，各学生が履修した科目とその成績（100点満点）を記録した2重の辞書である．実行して，`scores` の定義を有効にしなさい："
   ]
  },
  {
   "cell_type": "code",
   "execution_count": 55,
   "metadata": {},
   "outputs": [],
   "source": [
    "scores = {\n",
    "    1001: { \"線形代数\": 80,\n",
    "            \"微積分\": 70,\n",
    "            \"英語\": 50,\n",
    "            \"物理\": 80 },\n",
    "    1002: { \"線形代数\": 90,\n",
    "            \"微積分\": 80,\n",
    "            \"英語\": 60,\n",
    "            \"生物\": 50 },\n",
    "    1003: { \"フランス語\": 60,\n",
    "            \"生物\": 50 },\n",
    "    1004: { \"線形代数\": 100,\n",
    "            \"微積分\": 60,\n",
    "            \"物理\": 70}\n",
    "}"
   ]
  },
  {
   "cell_type": "markdown",
   "metadata": {},
   "source": [
    "もしも番号 1003 の学生がフランス語を履修していることを**あらかじめ知っていれば**，添え字演算子を2度使い `scores[1003][\"フランス語\"]` とすることで成績 `60` が取り出せる："
   ]
  },
  {
   "cell_type": "code",
   "execution_count": 56,
   "metadata": {},
   "outputs": [
    {
     "data": {
      "text/plain": [
       "60"
      ]
     },
     "execution_count": 56,
     "metadata": {},
     "output_type": "execute_result"
    }
   ],
   "source": [
    "scores[1003][\"フランス語\"]"
   ]
  },
  {
   "cell_type": "markdown",
   "metadata": {},
   "source": [
    "この動作は，`(scores[1003])[\"フランス語\"]` のようにカッコを入れてみると分かりやすいかもしれない．\n",
    "\n",
    "つまり，まず `scores[1003]` によって，学生番号をキーとする外側の辞書からキー 1003 に対応する値である内側の辞書 `{\"フランス語\": 60, \"生物\": 50 }` が取り出される："
   ]
  },
  {
   "cell_type": "code",
   "execution_count": 57,
   "metadata": {},
   "outputs": [
    {
     "data": {
      "text/plain": [
       "{'フランス語': 60, '生物': 50}"
      ]
     },
     "execution_count": 57,
     "metadata": {},
     "output_type": "execute_result"
    }
   ],
   "source": [
    "scores[1003]"
   ]
  },
  {
   "cell_type": "markdown",
   "metadata": {},
   "source": [
    "この内側の辞書に対して添え字演算子 `[\"フランス語\"]` を適用することによって値 `60` が取り出せる．この2段階の「辞書引き」をひとつにまとめたのが `scores[1003][\"フランス語\"]` のように添字演算子 `[1003]` と `[\"フランス語\"]` を連続させる書き方である．\n",
    "\n",
    "<!--\n",
    "実際，`{キー: 値, ...}` の書き方で辞書を直接プログラムに記述し，その後に添え字演算子 `[キー]` を続けることでも値が取り出せる（本当にそのような書き方をする必要はめったにないが）:\n",
    "\n",
    "{\"フランス語\": 60, \"生物\": 50 }[\"フランス語\"]\n",
    "-->"
   ]
  },
  {
   "cell_type": "markdown",
   "metadata": {},
   "source": [
    "このように添字演算子 `[...]` を使うやり方は便利だが，**辞書にキーが存在することが確実でないと使えない**ことに注意する必要がある．\n",
    "このノートブックのはじめの方で確かめたように，辞書に存在しないキーを添字演算子で指定するとエラーになる．\n",
    "\n",
    "一方，もしも\n",
    "* どの学生番号が登録されているか\n",
    "* どの学生が何の科目を履修しているか\n",
    "\n",
    "が分からない場合でも，2重辞書に対して2重のループを用いることで色々な処理が行える．\n",
    "\n",
    "以下は，`scores` の（外側の辞書の）それぞれのキーに対して，その値である辞書の中身である（科目，成績）を適当に整形して表示する例である．実行して，どうしてそのような結果になるのかを理解しなさい："
   ]
  },
  {
   "cell_type": "code",
   "execution_count": 58,
   "metadata": {},
   "outputs": [
    {
     "name": "stdout",
     "output_type": "stream",
     "text": [
      "学生番号: 1001\n",
      "  線形代数 ... 80点\n",
      "  微積分 ... 70点\n",
      "  英語 ... 50点\n",
      "  物理 ... 80点\n",
      "学生番号: 1002\n",
      "  線形代数 ... 90点\n",
      "  微積分 ... 80点\n",
      "  英語 ... 60点\n",
      "  生物 ... 50点\n",
      "学生番号: 1003\n",
      "  フランス語 ... 60点\n",
      "  生物 ... 50点\n",
      "学生番号: 1004\n",
      "  線形代数 ... 100点\n",
      "  微積分 ... 60点\n",
      "  物理 ... 70点\n"
     ]
    }
   ],
   "source": [
    "for number, subjects in scores.items(): # 各学生番号 number とその成績 subjects に対し\n",
    "    print(\"学生番号: {}\".format(number)) # 学生番号を表示\n",
    "    for subj, score in subjects.items():  # 各科目 subj とその成績 score に対し\n",
    "        print(\"  {} ... {}点\".format(subj, score)) # 科目ごとの成績を表示"
   ]
  },
  {
   "cell_type": "markdown",
   "metadata": {},
   "source": [
    "---\n",
    "**練習１**：上の `scores` の形式の2重の辞書を受けとって，各科目の平均点を計算して以下の例のように表示する関数 `average` を実装しなさい（科目の順番はどうでもよい）．\n",
    "\n",
    "実行例：\n",
    "```\n",
    "線形代数: 90.0点\n",
    "微積分: 70.0点\n",
    "英語: 55.0点\n",
    "物理: 75.0点\n",
    "生物: 50.0点\n",
    "フランス語: 60.0点\n",
    "```"
   ]
  },
  {
   "cell_type": "markdown",
   "metadata": {},
   "source": [
    "ヒント（ダブルクリックで表示）\n",
    "<!--\n",
    "average の処理手順はだいたい以下のようになるだろう\n",
    "\n",
    "def average(scores):\n",
    "    科目ごとに受講者の得点の合計を記録する辞書 score_sums を {} で初期化する\n",
    "    科目ごとに受講者の人数を記録する辞書 num_students を {} で初期化する\n",
    "\n",
    "    上のセルの例のように，\n",
    "      外側の辞書に対するループ\n",
    "        　内側の辞書に対するループ\n",
    "    という２重の for ループを作る．\n",
    "    それぞれ items() メソッドを使って，キーと値を両方取り出す形のループにすればよい．\n",
    "\n",
    "    内側のループの中では，各受講者の科目と得点に対し\n",
    "       score_sum の中の科目の得点合計に加算する\n",
    "       num_students の科目の受講者人数を 1 増やす\n",
    "\n",
    "    最後に scores_sum の中の 科目，得点合計 に対するループを作り\n",
    "       平均点つまり 得点合計 / 受講者人数 を表示する\n",
    "       （受講者人数は num_students の辞書から得られる）\n",
    "-->"
   ]
  },
  {
   "cell_type": "markdown",
   "metadata": {},
   "source": [
    "さらにヒント（ダブルクリックで表示）\n",
    "<!--\n",
    "より詳しく書けば average の処理手順は以下のようになるだろう\n",
    "\n",
    "def average(scores):\n",
    "    score_sums = {}   # 科目ごとの得点の合計を空の辞書で初期化\n",
    "    num_students = {} # 科目ごとの人数を空の辞書で初期化\n",
    "    \n",
    "    for subjects in scores.values(): # scores の値（各学生の科目-得点の辞書）それぞれについて\n",
    "        for subj, score in subjects.items(): # 科目と得点それぞれについて\n",
    "            科目 subj の得点合計を score だけ増やして score_sums に記録\n",
    "            科目 subj の受講者数を 1 増やして num_students に記録\n",
    "    \n",
    "    for subj, num in num_students.items():\n",
    "        科目 subj の平均点を score_sums[subj] と num から計算して\n",
    "        科目名: 平均点\n",
    "        の形式で表示する            \n",
    "-->"
   ]
  },
  {
   "cell_type": "code",
   "execution_count": null,
   "metadata": {},
   "outputs": [],
   "source": [
    "def average(scores):\n",
    "    # *** 実装しなさい ***\n"
   ]
  },
  {
   "cell_type": "markdown",
   "metadata": {},
   "source": [
    "実装できたら，テストしなさい．結果は（科目の順番を除き）上の実行例と一致するはずである："
   ]
  },
  {
   "cell_type": "code",
   "execution_count": null,
   "metadata": {},
   "outputs": [],
   "source": [
    "average(scores)"
   ]
  },
  {
   "cell_type": "markdown",
   "metadata": {},
   "source": [
    "**練習2**: 上の `scores` の形式の2重の辞書を受け取って，各科目の最高点と最低点を以下の例のように表示する関数 `maxmin` を実装しなさい．\n",
    "\n",
    "実行例：\n",
    "```\n",
    "線形代数: 最高=100点, 最低=80点\n",
    "微積分: 最高=80点, 最低=60点\n",
    "英語: 最高=60点, 最低=50点\n",
    "物理: 最高=80点, 最低=70点\n",
    "生物: 最高=50点, 最低=50点\n",
    "フランス語: 最高=60点, 最低=60点\n",
    "```"
   ]
  },
  {
   "cell_type": "markdown",
   "metadata": {},
   "source": [
    "ヒント（ダブルクリックで表示）\n",
    "<!--\n",
    "プログラムの大きな流れは上の average と同様になる．\n",
    "ただし最初に\n",
    "* 科目名をキー，最低点を値とする辞書\n",
    "* 科目名をキー，最高点を値とする辞書\n",
    "をそれぞれ空の辞書で初期化する．\n",
    "\n",
    "２重ループの中では，各学生，各科目の得点に対し（科目と得点を表すループ変数をそれぞれ subj と score とするとき）\n",
    "\n",
    "* 科目 subj が最低点の辞書に存在しなければ，\n",
    "  キー subj に対応する値として得点 score をセットする\n",
    "    \n",
    "* 科目 subj が最低点の辞書に存在し，かつ score が辞書に記録されている得点よりも低ければ\n",
    "  キー subj に対応する値を score で更新する\n",
    "    \n",
    "とすればよい（最高点の辞書についても同様）\n",
    "\n",
    "最後に，最低点の辞書のキーを keys() で一つずつ取り出し，\n",
    "    科目名: 最高=XX点, 最低=YY点\n",
    "のフォーマットで表示する．\n",
    "-->"
   ]
  },
  {
   "cell_type": "code",
   "execution_count": null,
   "metadata": {},
   "outputs": [],
   "source": [
    "def maxmin(scores):\n",
    "    # *** 実装しなさい ***\n"
   ]
  },
  {
   "cell_type": "markdown",
   "metadata": {},
   "source": [
    "実装できたら，テストしなさい．結果は（科目の順番を除き）上の実行例と一致するはずである："
   ]
  },
  {
   "cell_type": "code",
   "execution_count": null,
   "metadata": {},
   "outputs": [],
   "source": [
    "maxmin(scores)"
   ]
  },
  {
   "cell_type": "markdown",
   "metadata": {},
   "source": [
    "**練習3**: 上の`scores`の形式の2重の辞書を受け取って，各科目について最高点の学生の番号を（複数いればすべて）以下のように表示する関数 `best_students` を実装しなさい．\n",
    "\n",
    "実行例：\n",
    "```\n",
    "線形代数: [1004]\n",
    "微積分: [1002]\n",
    "英語: [1002]\n",
    "物理: [1001]\n",
    "生物: [1002, 1003]\n",
    "フランス語: [1003]\n",
    "```\n",
    "\n",
    "ヒント１：辞書の値としてリストをセットすることができる．さらに，キー `x` に対する値 `d[x]` がリストの場合には，`d[x].append(y)` でリスト `d[x]` に値 `y` を追加できる．\n",
    "\n",
    "ヒント２：学生番号のリスト `xs` が例えば値 `[1002, 1003]` を持つ場合，単に `print(\"英語: {}\".format(xs))` と `format` メソッドの引数としてリストを渡せば `\"英語: [1002, 1003]\"` のように表示される．\n"
   ]
  },
  {
   "cell_type": "code",
   "execution_count": null,
   "metadata": {},
   "outputs": [],
   "source": [
    "def best_students(scores):\n",
    "    # *** 実装しなさい ***\n"
   ]
  },
  {
   "cell_type": "markdown",
   "metadata": {},
   "source": [
    "実装できたらテストしなさい．結果は上の実行例と（科目および最高点の学生が複数いる場合の順番を除き）一致するはずである："
   ]
  },
  {
   "cell_type": "code",
   "execution_count": null,
   "metadata": {},
   "outputs": [],
   "source": [
    "best_students(scores)"
   ]
  },
  {
   "cell_type": "markdown",
   "metadata": {},
   "source": [
    "---\n",
    "お疲れ様でした．以上で今回の必須課題は終わりです．\n",
    "\n",
    "## 課題提出の前の注意\n",
    "かならず実行してください：\n",
    "1. 最初に，この「課題提出の前の注意」のセルをクリックしてください．\n",
    "2. 次にメニューの \"Run\" から \"<font color=\"red\">Run All Above Selected Cells</font>\" （←<font color=\"red\">いつもと違います</font>）を選択し，ここから上の全てのセルが正しく実行されることを確認してください．\n",
    "   * これまでのように \"Run All Cells\" を実行すると，以下の「チャレンジ課題」が未完成の場合にエラーになります\n",
    "3. \"Run All Above Selected Cells\" を実行したら，各セルの実行結果が表示されている状態で保存のボタンを押してノートブックを保存すること\n",
    "4. 上記のようにして，実行結果まで含めて保存してからノートブックを提出すること．\n",
    "\n",
    "\n",
    "---\n",
    "\n",
    "以下の「チャレンジ課題」は必須課題ではありません．セルを正しく実装して提出すれば加点します．\n",
    "\n",
    "必須課題ではありませんが，「辞書を使うべきところでリストを使ったために，プログラムが異常に遅い」という<font color=\"red\">非常によくある間違い</font>をしないように，「辞書の代わりにリストを使うとどんなにひどいことになるか」を実際に確かめる課題です．ぜひやってみてください．"
   ]
  },
  {
   "cell_type": "markdown",
   "metadata": {},
   "source": [
    "## チャレンジ課題5.5: in 演算の速さ\n",
    "\n",
    "辞書に対する `in` 演算子は，`k in d` の形式で，辞書 `d` の中にキー `k` が存在するかどうかを真偽値（True または False）で返すのだった．\n",
    "\n",
    "実は，リストに対しても `in` 演算子が使える．`x in xs` は，リスト `xs` が値 `x` を含むときに True, 含まないときに False を返す:"
   ]
  },
  {
   "cell_type": "code",
   "execution_count": null,
   "metadata": {},
   "outputs": [],
   "source": [
    "print(10 in [5, 10, 20])\n",
    "print(8 in [5, 10, 20])"
   ]
  },
  {
   "cell_type": "markdown",
   "metadata": {},
   "source": [
    "この課題では，辞書に対する `in` 演算の速さと，リストに対する `in` 演算の速さを比較してみよう．\n",
    "\n",
    "### Step 1: 辞書の in 演算の速さ\n",
    "最初に，大きさの異なる辞書，すなわち登録されているキーの数が異なるいくつかの辞書に対して，`in` 演算子の速さがどれくらい違うかを調べる．\n",
    "\n",
    "具体的には，以下のセルは，最初に $1000, 2000, \\dots, 20000$ を要素とするリスト `sizes` を作成し，次に、`sizes` の要素 $k = 1000, 2000, ..., 20000$ のそれぞれについて，\n",
    "\n",
    "* まず、1 から $k$ までの整数 `n` をキー，`n+1` を値とする辞書 `d` を作成する（つまり大きさ $k$ の辞書を作る）\n",
    "* 次に、ランダムに発生させた整数が `d` に含まれるかどうかを `in` 演算子でチェックすることを1000回繰り返し，その平均計算時間を調べる\n",
    "\n",
    "ということを行うプログラムである．\n",
    "\n",
    "セルを実行すると，リスト `dict_in_times` に，それぞれの $k$ の値に対する `in` 演算の平均計算時間が記録される．\n",
    "\n",
    "セルを実行して，平均計算時間を計測しなさい．"
   ]
  },
  {
   "cell_type": "code",
   "execution_count": null,
   "metadata": {},
   "outputs": [],
   "source": [
    "import random\n",
    "\n",
    "# 1000 から 20000 まで、1000刻みのリスト\n",
    "sizes = list(range(1000, 20000+1, 1000))\n",
    "\n",
    "dict_in_times = []\n",
    "\n",
    "for k in sizes:\n",
    "    # 大きさ k の辞書を作る: 以下の書き方について知りたい人は「python 辞書内包表記」で WEB 検索せよ\n",
    "    d = {x: x+1 for x in range(1, k+1)} # --> d = {1: 2, 2: 3, ..., k: k+1} となる\n",
    "    \n",
    "    # 1 から k の範囲の乱数を random.randint(1, k) で発生させ、\n",
    "    # 乱数 in d の計算時間を記録することを 100 * 100 = 10000 回繰り返す\n",
    "    t = %timeit -r 100 -n 100 -o random.randint(1, k) in d\n",
    "\n",
    "    # 10000回の実行の平均計算時間を記録する\n",
    "    dict_in_times.append(t.average)"
   ]
  },
  {
   "cell_type": "markdown",
   "metadata": {},
   "source": [
    "横軸に辞書の大きさ $k$、縦軸に平均計算時間をとってプロットしてみよう："
   ]
  },
  {
   "cell_type": "code",
   "execution_count": null,
   "metadata": {},
   "outputs": [],
   "source": [
    "import matplotlib.pyplot as plt\n",
    "\n",
    "plt.plot(sizes, dict_in_times);"
   ]
  },
  {
   "cell_type": "markdown",
   "metadata": {},
   "source": [
    "縦軸の時間の単位は秒である．バラツキはあるものの，辞書の大きさにそれほど関係なく、平均的に数マイクロ秒（𝜇秒=$10^{−6}$秒）程度で1回の in 演算が実行されていることが分かる．"
   ]
  },
  {
   "cell_type": "markdown",
   "metadata": {},
   "source": [
    "### Step 2: リストの in 演算の速さ\n",
    "\n",
    "今度は $k = 1000, 2000, ..., 20000$ のそれぞれについて，長さ $k$ のリストに対する `in` 演算子の速さを調べよう．\n",
    "\n",
    "具体的には，上で作成した辞書のキー（1, 2, ..., k）と同じ要素を含むリストを作成し、同様に `in` 演算の平均計算時間を計測する．上では辞書に値も入れたが，ここではリストにキーだけを入れる．\n",
    "* 辞書に対する in の計算時間を調べた上のセルからプログラムをコピーして，下のセルに貼り付け，必要なところを書き換えなさい\n",
    "* あとで辞書に対する計算時間と比べるために，平均計算時間は別の名前のリスト `list_in_times` に記録しなさい\n",
    "* 1, 2, ..., k を要素とするリストは `list(range(1, k+1))` あるいは `[x for x in range(1, k+1)]` で作れる（後者はリスト内包記法という）．"
   ]
  },
  {
   "cell_type": "code",
   "execution_count": null,
   "metadata": {},
   "outputs": [],
   "source": [
    "# 辞書に対する in の計算時間を調べた上のセルからプログラムをコピーして\n",
    "# このセルに貼り付け、必要なところを書き換えて実行しなさい\n",
    "#\n",
    "# 変更すべき点は\n",
    "# * 辞書の代わりに，長さ k のリスト [1, 2, ..., k] を作る\n",
    "# \n",
    "# * t = %timeit ... の行で random.randint(1, k) in d のところを\n",
    "#      random.randint(1, k) in 作ったリスト\n",
    "#   に書き換える（リストの名前を d にすれば変更の必要はない\n",
    "#\n",
    "# * dict_in_times の代わりに list_in_times というリストに結果を記録する\n",
    "#\n",
    "\n",
    "list_in_times = []\n",
    "\n"
   ]
  },
  {
   "cell_type": "markdown",
   "metadata": {},
   "source": [
    "list と辞書に対する平均計算時間を重ねてプロットしてみよう："
   ]
  },
  {
   "cell_type": "code",
   "execution_count": null,
   "metadata": {},
   "outputs": [],
   "source": [
    "plt.plot(sizes, list_in_times,\n",
    "         sizes, dict_in_times)\n",
    "plt.legend([\"list\", \"dict\"]);"
   ]
  },
  {
   "cell_type": "markdown",
   "metadata": {},
   "source": [
    "### Step 3: 要素が存在しない場合の計算時間 \n",
    "\n",
    "ここまでの計算時間の計測では、1 から $k$ までの整数をキーとする辞書や，それらを要素とするリストに対して，1 から $k$ の範囲の乱数を含むかどうかを `in` でチェックしていた．よって、`in` 演算は常に `True` を返していた．\n",
    "\n",
    "今度は、辞書やリストに対して，それらに含まれないような範囲（たとえば $k+1, k+2, \\dots, 2k$）の乱数を発生させ、これまでと同様に `乱数 in 辞書` や `乱数 in リスト` の平均計算時間を調べなさい．\n",
    "\n",
    "$A \\le n \\le B$ の範囲の乱数 $n$ は `random.randint(A, B)` で生成できる．\n",
    "\n",
    "あとで比較するため，上で使った `list_in_times`、`dict_in_times` とは違う名前の変数に結果を記録しましょう．\n",
    "\n",
    "（Step 1, Step 2 に比べだいぶ実行時間がかかります）"
   ]
  },
  {
   "cell_type": "code",
   "execution_count": null,
   "metadata": {},
   "outputs": [],
   "source": [
    "# 上のセルからコピペして適当に書き換え、\n",
    "# 「（含まれない数) in 辞書」「（含まれない数) in リスト」の平均計算時間を \n",
    "# k = 1000, 2000, ..., 20000 について計測しなさい\n",
    "\n",
    "# 辞書に対する False を返す in の平均計算時間\n",
    "dict_in_fail_times = [] \n",
    "\n",
    "# リストに対する False を返す in の平均計算時間\n",
    "list_in_fail_times = [] \n",
    "\n"
   ]
  },
  {
   "cell_type": "markdown",
   "metadata": {},
   "source": [
    "計測できたら、\n",
    "* x が要素として含まれる場合の `x in リスト` の平均計算時間\n",
    "* x が要素として含まれる場合の `x in 辞書` の平均計算時間\n",
    "* x が要素として含まれない場合の `x in リスト` の平均計算時間\n",
    "* x が要素として含まれない場合の `x in 辞書` の平均計算時間\n",
    "の4通りを重ねてプロットしてみよう．\n",
    "\n",
    "以下のセルでは，含まれない要素に対する `x in リスト` の平均計算時間のデータを\n",
    "`list_in_fail_times`，含まれないキーに対する `x in 辞書` の平均計算時間のデータを\n",
    "`dict_in_fail_times` という名前の変数に格納しているものとしている．\n",
    "\n",
    "自分で作ったプログラムの変数名に従って適当に変更してから実行しなさい："
   ]
  },
  {
   "cell_type": "code",
   "execution_count": null,
   "metadata": {},
   "outputs": [],
   "source": [
    "plt.plot(#--- 含まれない要素に対する x in リスト のデータ ---\n",
    "         sizes, list_in_fail_times,\n",
    "         #--- 含まれる要素に対する x in リスト のデータ ---\n",
    "         sizes, list_in_times,\n",
    "         #--- 含まれないキーに対する x in 辞書 のデータ ---\n",
    "         sizes, dict_in_fail_times,\n",
    "         #--- 含まれるキーに対する x in 辞書のデータ ---\n",
    "         sizes, dict_in_times)\n",
    "\n",
    "# plot の引数と対応する順番で legend (凡例）を指定する\n",
    "plt.legend([\"list-miss\", \"list-hit\", \"dict-miss\", \"dict-hit\"]);"
   ]
  },
  {
   "cell_type": "markdown",
   "metadata": {},
   "source": [
    "### Step 4: 考察\n",
    "\n",
    "どうして上のようなグラフになるのか、考えたり調べたりしなさい．考えたことや分かったことは，この下に Markdown セルを作ってまとめてもよいし，考えるだけでもよい．\n",
    "\n",
    "---"
   ]
  },
  {
   "cell_type": "markdown",
   "metadata": {},
   "source": [
    "答えの一例（ダブルクリックで表示）：\n",
    "<!--\n",
    "* Python の list の実装は（動的）配列．\n",
    "  リスト xs = [1, 2, ..., n] に対する x in xs という演算の平均計算量は\n",
    "  x が 1, 2, ..., n の値をとる一様乱数ならば\n",
    "  見つかる要素を探すとき n/2（平均するとリストの真ん中で x が見つかるため）、\n",
    "  見つからない要素を探すとき n に比例する（リストの要素を全て調べて見つからないことを確かめるため）．\n",
    "\n",
    "* Python の辞書の実装はハッシュ表．\n",
    "  x in xs の平均計算量は要素数には依存しない（O(1))．\n",
    "-->"
   ]
  },
  {
   "cell_type": "markdown",
   "metadata": {},
   "source": [
    "## 課題提出の前の注意\n",
    "* かならずメニューの \"Run\" から \"Run All Cells\" を選択し，全てのセルが正しく実行されることを確認すること\n",
    "* \"Run All Cells\" を実行したら，各セルの実行結果が表示されている状態で保存のボタンを押してノートブックを保存すること\n",
    "* 上記のようにして，実行結果まで含めて保存してからノートブックを提出すること．<font color=\"red\">特に，チャレンジ課題をやった人はグラフが３つ出力されている状態で保存すること</font>．"
   ]
  },
  {
   "cell_type": "markdown",
   "metadata": {},
   "source": [
    "**入門編５: おわり**"
   ]
  }
 ],
 "metadata": {
  "kernelspec": {
   "display_name": "Python [conda env:base] *",
   "language": "python",
   "name": "conda-base-py"
  },
  "language_info": {
   "codemirror_mode": {
    "name": "ipython",
    "version": 3
   },
   "file_extension": ".py",
   "mimetype": "text/x-python",
   "name": "python",
   "nbconvert_exporter": "python",
   "pygments_lexer": "ipython3",
   "version": "3.12.7"
  }
 },
 "nbformat": 4,
 "nbformat_minor": 4
}
