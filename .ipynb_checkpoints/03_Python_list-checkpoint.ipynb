{
 "cells": [
  {
   "cell_type": "markdown",
   "metadata": {},
   "source": [
    "# Python 入門編３：リスト型\n",
    "\n",
    "## 目次\n",
    " * [標準関数・ライブラリ関数についての注意](#標準関数・ライブラリ関数についての注意)\n",
    " * [リストの定義](#リストの定義)\n",
    " * [添え字による要素へのアクセス](#添え字による要素へのアクセス)\n",
    "  * [注意：「n 番目」の要素について](#注意：「n-番目」の要素について)\n",
    " * [リストの長さ・for ループでの操作](#リストの長さ・for-ループでの操作)\n",
    " * [練習3.1: 平均値を計算する関数](#練習3.1:-平均値を計算する関数)\n",
    " * [練習3.2: 分散を計算する関数](#練習3.2:-分散を計算する関数)\n",
    " * [練習3.3: 共分散を計算する関数](#練習3.3:-共分散を計算する関数)\n",
    "  * [計算の回数に関する注意](#計算の回数に関する注意)\n",
    " * [練習3.4: 最大値・最小値を探す関数](#練習3.4:-最大値・最小値を探す関数)\n",
    " * [リストへの要素の追加](#リストへの要素の追加)\n",
    " * [リストからの要素の削除](#リストからの要素の削除)\n",
    " * [練習3.5: ベクトルの和・差・スカラー倍](#練習3.5:-ベクトルの和・差・スカラー倍)\n",
    " * [練習3.6: ベクトルの内積とノルム](#練習3.6:-ベクトルの内積とノルム)\n",
    " * [入れ子になったリスト](#入れ子になったリスト)\n",
    "  * [例: ループを使った２重リストの作成](#例:-ループを使った２重リストの作成)\n",
    " * [練習3.7: 行列の和と差](#練習3.7:-行列の和と差)\n",
    " * [練習3.8: ゼロ行列・単位行列の作成](#練習3.8:-ゼロ行列・単位行列の作成)\n",
    " * [<font color=\"red\">**落とし穴**</font>](#<font-color=\"red\">**落とし穴**</font>)\n",
    " * [練習3.9: 行列の積](#練習3.9:-行列の積)\n",
    " * [タプル](#タプル)\n",
    "* [課題提出の前の注意](#課題提出の前の注意)\n",
    " * [チャレンジ課題：掃き出し法で逆行列を求める](#チャレンジ課題：掃き出し法で逆行列を求める)\n",
    "\n",
    "---\n",
    "このノートブックでは，値の列を表すデータ型である**リスト型**の操作を練習する．\n",
    "\n",
    "リスト型はC言語の配列に似ているが，後から要素を追加して必要なだけ長いリストにできる点で，より便利になっている．\n",
    "\n",
    "### 標準関数・ライブラリ関数についての注意\n",
    "今回の練習問題では標準関数 `min` `max` や numpy ライブラリの関数と同様の機能を実装するものがあるが，練習なのでこれらは使わず実装すること．"
   ]
  },
  {
   "cell_type": "markdown",
   "metadata": {},
   "source": [
    "### リストの定義\n",
    "リストをプログラム上で直接定義するには，カンマで区切った値の列を `[` と `]` で囲めばよい．\n",
    "\n",
    "値は整数でも，小数でも，文字列でも，bool型でもよい（つまり何でもよい）．また，異なる型の値が混じっていてもよい．\n",
    "\n",
    "以下のセルを実行して，整数のリスト `ns` を定義しなさい："
   ]
  },
  {
   "cell_type": "code",
   "execution_count": 5,
   "metadata": {},
   "outputs": [],
   "source": [
    "ns = [1, 3, 5, 7, 9]"
   ]
  },
  {
   "cell_type": "markdown",
   "metadata": {},
   "source": [
    "### 添え字による要素へのアクセス\n",
    "リスト `a` の `i` 番目の値を `a[i]` で取り出すことができる（これを「添え字（そえじ）で指定する」という）．添え字は **1 からではなく，0 から始まる**："
   ]
  },
  {
   "cell_type": "code",
   "execution_count": 6,
   "metadata": {},
   "outputs": [
    {
     "name": "stdout",
     "output_type": "stream",
     "text": [
      "1\n"
     ]
    }
   ],
   "source": [
    "print(ns[0])"
   ]
  },
  {
   "cell_type": "code",
   "execution_count": 7,
   "metadata": {},
   "outputs": [
    {
     "name": "stdout",
     "output_type": "stream",
     "text": [
      "3\n"
     ]
    }
   ],
   "source": [
    "print(ns[1])"
   ]
  },
  {
   "cell_type": "code",
   "execution_count": 8,
   "metadata": {},
   "outputs": [
    {
     "name": "stdout",
     "output_type": "stream",
     "text": [
      "5\n"
     ]
    }
   ],
   "source": [
    "print(ns[2])"
   ]
  },
  {
   "cell_type": "markdown",
   "metadata": {},
   "source": [
    "添え字で指定して値を取りだすだけでなく，添え字で指定した要素に値を**セットする**こともできる："
   ]
  },
  {
   "cell_type": "code",
   "execution_count": 9,
   "metadata": {},
   "outputs": [
    {
     "name": "stdout",
     "output_type": "stream",
     "text": [
      "BEFORE: [1, 'one', 2, 'two', 3, 'three']\n",
      "AFTER : [1, 'いち', 2, 'two', 3, 'three']\n"
     ]
    }
   ],
   "source": [
    "# 整数と文字列が混じったリスト\n",
    "xs = [1, \"one\", 2, \"two\", 3, \"three\"]\n",
    "\n",
    "# 値をセットする前のリストを表示\n",
    "print(\"BEFORE:\", xs)\n",
    "\n",
    "# \"one\" だった要素に \"いち\" をセット\n",
    "xs[1] = \"いち\"\n",
    "\n",
    "# 値をセットした後のリストを表示\n",
    "print(\"AFTER :\", xs)"
   ]
  },
  {
   "cell_type": "markdown",
   "metadata": {},
   "source": [
    "#### 注意：「n 番目」の要素について\n",
    "ふつうの日本語では，1列に並んだものの最初の要素を「1番目」，その次を「2番目」...と呼ぶ．\n",
    "\n",
    "しかし，Python のリストの添字は 0 から始まるため，\n",
    "プログラムで `a[n]` と書いた場合に普通の日本語では「リスト a の n+1 番目の要素」ということになり，\n",
    "大変紛らわしい．\n",
    "\n",
    "そこで，このノートブックでは\n",
    "* 最初の要素を「0番目」\n",
    "* つぎの要素を「1番目」\n",
    "* ...\n",
    "\n",
    "と呼ぶことにする．"
   ]
  },
  {
   "cell_type": "markdown",
   "metadata": {},
   "source": [
    "### リストの長さ・for ループでの操作\n",
    "リストの長さ（要素の数）は関数 `len` で調べられる："
   ]
  },
  {
   "cell_type": "code",
   "execution_count": 10,
   "metadata": {},
   "outputs": [
    {
     "name": "stdout",
     "output_type": "stream",
     "text": [
      "リスト [1, 3, 5, 7, 9] の長さは\n"
     ]
    },
    {
     "data": {
      "text/plain": [
       "5"
      ]
     },
     "execution_count": 10,
     "metadata": {},
     "output_type": "execute_result"
    }
   ],
   "source": [
    "print(\"リスト\", ns, \"の長さは\")\n",
    "\n",
    "len(ns)"
   ]
  },
  {
   "cell_type": "markdown",
   "metadata": {},
   "source": [
    "`len` と for 文を組み合わせると，リストの要素に順にアクセスすることができる．\n",
    "\n",
    "例：要素をひとつづつ出力する"
   ]
  },
  {
   "cell_type": "code",
   "execution_count": 11,
   "metadata": {},
   "outputs": [
    {
     "name": "stdout",
     "output_type": "stream",
     "text": [
      "1\n",
      "3\n",
      "5\n",
      "7\n",
      "9\n"
     ]
    }
   ],
   "source": [
    "for i in range(0, len(ns)):\n",
    "    print(ns[i])"
   ]
  },
  {
   "cell_type": "markdown",
   "metadata": {},
   "source": [
    "`for i in range(a, b):` の形の for 文では，ループ変数 `i` の値は `a, a+1, ..., b-1` と変化するのだった．\n",
    "\n",
    "リストの長さを $m$ とすると，添え字は 0 から $m-1$ までなので，リスト全体を処理するとき，for 文の `in` の後は `range(0, len(ns))` となる．"
   ]
  },
  {
   "cell_type": "markdown",
   "metadata": {},
   "source": [
    "例：数のリストを受け取って，要素の総和を返す関数"
   ]
  },
  {
   "cell_type": "code",
   "execution_count": 12,
   "metadata": {},
   "outputs": [],
   "source": [
    "def summation(ns):\n",
    "    s = 0 # 総和をゼロで初期化\n",
    "    for i in range(0, len(ns)):\n",
    "        s += ns[i]\n",
    "    return s"
   ]
  },
  {
   "cell_type": "markdown",
   "metadata": {},
   "source": [
    "つまり，数列ふうに書けば，$[n_0, n_1, n_2, \\dots, n_{m-1}]$ を受け取って $\\sum_{i=0}^{m-1} n_i$ を返す関数である．\n",
    "\n",
    "テストしてみよう："
   ]
  },
  {
   "cell_type": "code",
   "execution_count": 13,
   "metadata": {},
   "outputs": [
    {
     "data": {
      "text/plain": [
       "21"
      ]
     },
     "execution_count": 13,
     "metadata": {},
     "output_type": "execute_result"
    }
   ],
   "source": [
    "summation([1,2,3,4,5,6])"
   ]
  },
  {
   "cell_type": "markdown",
   "metadata": {},
   "source": [
    "### 練習3.1: 平均値を計算する関数\n",
    "数のリストを受け取って，要素の平均値を返す関数 `average(ns)` を定義しなさい："
   ]
  },
  {
   "cell_type": "markdown",
   "metadata": {},
   "source": [
    "ヒント（ダブルクリックで表示）\n",
    "<!--\n",
    "入力されたリスト ns の要素を合計して，リストの長さ len(ns) で割れば平均値が得られる．\n",
    "上で定義した summation を使って要素の合計を計算すれば1行で実装できる（使っても使わなくてもよい）\n",
    "-->"
   ]
  },
  {
   "cell_type": "code",
   "execution_count": 14,
   "metadata": {},
   "outputs": [],
   "source": [
    "def average(ns):\n",
    "    # *** 実装しなさい ***\n",
    "    s = 0\n",
    "    for i in range(0, len(ns)):\n",
    "        s += ns[i]\n",
    "    a=s/len(ns)\n",
    "    return a"
   ]
  },
  {
   "cell_type": "markdown",
   "metadata": {},
   "source": [
    "下のセルを実行してテストしなさい（全て True が表示されればOK）："
   ]
  },
  {
   "cell_type": "code",
   "execution_count": 15,
   "metadata": {},
   "outputs": [
    {
     "name": "stdout",
     "output_type": "stream",
     "text": [
      "True\n",
      "True\n",
      "True\n",
      "True\n"
     ]
    }
   ],
   "source": [
    "print(average([1,2,3,4]) == 2.5)\n",
    "print(average([0,0,0,0,10]) == 2.0)\n",
    "print(average([3,3,3]) == 3.0)\n",
    "print(average([5]) == 5.0)"
   ]
  },
  {
   "cell_type": "markdown",
   "metadata": {},
   "source": [
    "### 練習3.2: 分散を計算する関数\n",
    "$x_1, x_2, \\dots, x_N$ の分散 $V$ は，それらの平均を ${\\bar x}$ とするとき\n",
    "$$\n",
    "V = \\frac{1}{N}\\sum_{i=1}^{N} (x_i - {\\bar x})^2\n",
    "$$\n",
    "と定義される．\n",
    "\n",
    "数のリストを受け取って，定義どおりに要素の分散を計算して返す関数 `variance(ns)` を定義しなさい．上で定義した `average` を使うとよい．"
   ]
  },
  {
   "cell_type": "code",
   "execution_count": 16,
   "metadata": {},
   "outputs": [],
   "source": [
    "def variance(ns):\n",
    "    # *** 実装しなさい ***\n",
    "    p=0\n",
    "    ave=average(ns)\n",
    "    for i in range (0,len(ns)):\n",
    "        p+=(ns[i]-ave)**2\n",
    "    return p/len(ns)"
   ]
  },
  {
   "cell_type": "markdown",
   "metadata": {},
   "source": [
    "下のセルを実行してテストしなさい："
   ]
  },
  {
   "cell_type": "code",
   "execution_count": 17,
   "metadata": {},
   "outputs": [
    {
     "name": "stdout",
     "output_type": "stream",
     "text": [
      "True\n",
      "True\n",
      "True\n",
      "True\n"
     ]
    }
   ],
   "source": [
    "print(variance([1,2,3,4]) == 1.25)\n",
    "print(variance([1,1,1,3,3,3]) == 1)\n",
    "print(variance([0,0,0]) == 0)\n",
    "print(variance([2,2,2]) == 0)"
   ]
  },
  {
   "cell_type": "markdown",
   "metadata": {},
   "source": [
    "### 練習3.3: 共分散を計算する関数\n",
    "値の組 $(x_1, y_1), (x_2, y_2) \\dots, (x_N, y_N)$ の共分散 $C$ は，\n",
    "$$\n",
    "C = \\frac{1}{N}\\sum_{i=1}^N (x_i - {\\bar x})(y_i - {\\bar y})\n",
    "$$\n",
    "と定義される．ただしここで ${\\bar x}$ は $x_1, x_2, \\dots, x_N$ の平均値，${\\bar y}$ は $y_1, y_2, \\dots, y_N$ の平均値である．\n",
    "\n",
    "同じ長さの数のリスト $xs = [x_1, x_2, \\dots, x_N]$ および $ys = [y_1, y_2, \\dots, y_N]$ を受け取り，$(x_1, y_1), \\dots, (x_N, y_N)$ の共分散を返す関数 `covariance(xs, ys)` を定義しなさい："
   ]
  },
  {
   "cell_type": "markdown",
   "metadata": {},
   "source": [
    "ヒント（ダブルクリックで表示）\n",
    "<!--\n",
    "何かを合計して，最後に全データ数で割る，という点では平均・分散と同様に計算できる．\n",
    "\n",
    "入力のリスト xs と ys の長さは同じと仮定してよい．よって合計を計算するループは\n",
    "\n",
    "for i in range(0, len(xs)):\n",
    "    (xs[i] - (xs の平均値)) * (ys[i] - (ys の平均値)) を合計に足しこむ\n",
    "\n",
    "という形で書ける\n",
    "-->"
   ]
  },
  {
   "cell_type": "code",
   "execution_count": 18,
   "metadata": {},
   "outputs": [],
   "source": [
    "def covariance(xs, ys):\n",
    "    # *** 実装しなさい ***\n",
    "    p=0\n",
    "    avex=average(xs)\n",
    "    avey=average(ys)\n",
    "    for i in range (0,len(xs)):\n",
    "        p+=(xs[i]-avex)*(ys[i]-avey)\n",
    "    return p/len(ns)"
   ]
  },
  {
   "cell_type": "markdown",
   "metadata": {},
   "source": [
    "下のセルを実行してテストしなさい："
   ]
  },
  {
   "cell_type": "code",
   "execution_count": 19,
   "metadata": {},
   "outputs": [
    {
     "name": "stdout",
     "output_type": "stream",
     "text": [
      "True\n",
      "True\n",
      "True\n",
      "True\n",
      "True\n"
     ]
    }
   ],
   "source": [
    "xs = [50, 50, 80, 70, 90]\n",
    "ys = [50, 70, 60, 90, 100]\n",
    "print(covariance(xs, ys) == 188)\n",
    "print(covariance(ys, xs) == 188)\n",
    "print(covariance(xs, xs) == variance(xs))\n",
    "\n",
    "xs1 = [50, 50]\n",
    "ys1 = [70, 70]\n",
    "print(covariance(xs1, ys1) == 0)\n",
    "\n",
    "xs2 = [50]\n",
    "ys2 = [70]\n",
    "print(covariance(xs2, ys2) == 0)"
   ]
  },
  {
   "cell_type": "markdown",
   "metadata": {},
   "source": [
    "#### 計算の回数に関する注意\n",
    "分散を計算する関数 variance で $\\displaystyle \\sum_{i=1}^{N} (x_i - {\\bar x})^2$ を計算するためのループを\n",
    "```python\n",
    "s = 0\n",
    "for i in range(0, len(ns)):\n",
    "    s += (ns[i] - average(ns)) ** 2\n",
    "```\n",
    "のように書いた人がいるかもしれない．\n",
    "\n",
    "このように書いた場合，ループのたびに同じ値 `average(ns)` が繰り返し計算されることになり，非常に無駄が多い．\n",
    "\n",
    "例えば `ns` の長さが10万のとき，`average(ns)` をループのたびに実行すると `ns` の要素を合計するための足し算が\n",
    "```\n",
    "(ループの回数) x (nsを合計する足し算の回数) = 10万 x 10万 = 100億回\n",
    "```\n",
    "行われることになるが，ほとんど（99.999%）が無駄になっている．\n",
    "\n",
    "これを防ぐにはループの開始前に一度だけ平均を計算して変数にセットし，ループの中ではそれを用いればよい：\n",
    "```python\n",
    "avg = average(ns) # avarage(ns) を事前に計算して結果を保存\n",
    "s = 0\n",
    "for i in range(0, len(ns)):\n",
    "    s += (ns[i] - avg) ** 2  # 事前に計算した avg を用いる\n",
    "```\n",
    "\n",
    "ループの中で毎回 `avarage(ns)` を計算するように実装した人は，以下のセルを実行するといつまでも終わらないはずである．\n",
    "その場合は上のように `variance` と `covariance` のプログラムを修正し，下のセルが瞬時に実行できることを確認すること．\n",
    "\n",
    "（修正せずに実行して止まらないことを確かめるとよい．止めるときは上の \\[■\\] のボタンを押す）"
   ]
  },
  {
   "cell_type": "code",
   "execution_count": 20,
   "metadata": {},
   "outputs": [
    {
     "name": "stdout",
     "output_type": "stream",
     "text": [
      "計算開始\n"
     ]
    },
    {
     "data": {
      "text/plain": [
       "0.0"
      ]
     },
     "execution_count": 20,
     "metadata": {},
     "output_type": "execute_result"
    }
   ],
   "source": [
    "# [1, 1, 1, ..., 1] という長さ10万のリストを作る\n",
    "ns = []\n",
    "for i in range(100000):\n",
    "    ns.append(1)\n",
    "    \n",
    "# flush=True はすぐに print することを指定\n",
    "print(\"計算開始\", flush=True)\n",
    "\n",
    "variance(ns)"
   ]
  },
  {
   "cell_type": "markdown",
   "metadata": {},
   "source": [
    "### 練習3.4: 最大値・最小値を探す関数\n",
    "数のリストを受け取って，要素の最大値を返す関数 `maximum(ns)` および要素の最小値を返す関数 `minimum(ns)` を定義しなさい．\n",
    "\n",
    "標準関数 `min` `max` は**使わずに**実装すること．"
   ]
  },
  {
   "cell_type": "markdown",
   "metadata": {},
   "source": [
    "ヒント（ここをダブルクリックすると表示される）\n",
    "\n",
    "<!--\n",
    "----------------\n",
    "maximum のヒント\n",
    "----------------\n",
    "次の手順でやればできる\n",
    "1. 変数 m にリストの 0 番目の要素の値をセットする\n",
    "2. リストの 1 番目の要素が m より大きければ，m をその値で置き換える\n",
    "3. リストの 2 番目の要素が m より大きければ，m をその値で置き換える\n",
    ":\n",
    "以下，リストの最後の値まで同様に繰り返したあとで m を return する\n",
    "-->"
   ]
  },
  {
   "cell_type": "code",
   "execution_count": 21,
   "metadata": {},
   "outputs": [],
   "source": [
    "def maximum(ns):\n",
    "    # *** 実装しなさい ***\n",
    "    biggest=ns[0]\n",
    "    for i in range (0,len(ns)):\n",
    "        if ns[i]>biggest:\n",
    "            biggest=ns[i]\n",
    "    return biggest\n",
    "def minimum(ns):\n",
    "    # *** 実装しなさい ***\n",
    "    smallest=ns[0]\n",
    "    for i in range (0,len(ns)):\n",
    "        if ns[i]<smallest:\n",
    "            smallest=ns[i]\n",
    "    return smallest"
   ]
  },
  {
   "cell_type": "markdown",
   "metadata": {},
   "source": [
    "下のセルを実行してテストしなさい"
   ]
  },
  {
   "cell_type": "code",
   "execution_count": 22,
   "metadata": {},
   "outputs": [
    {
     "name": "stdout",
     "output_type": "stream",
     "text": [
      "True\n",
      "True\n",
      "True\n",
      "True\n",
      "True\n",
      "True\n",
      "True\n",
      "True\n",
      "True\n",
      "True\n"
     ]
    }
   ],
   "source": [
    "print(maximum([1,2,10,-1,9]) == 10)\n",
    "print(maximum([10, 1, 2, 3]) == 10)\n",
    "print(maximum([1, 2, 3, 10]) == 10)\n",
    "print(maximum([10, 10, 10]) == 10)\n",
    "print(maximum([3]) == 3)\n",
    "\n",
    "print(minimum([1,2,-3,-1,9]) == -3)\n",
    "print(minimum([-3, 1, 2, 3]) == -3)\n",
    "print(minimum([1, 2, 3, 0]) == 0)\n",
    "print(minimum([-1, -1, -1]) == -1)\n",
    "print(minimum([3]) == 3)"
   ]
  },
  {
   "cell_type": "markdown",
   "metadata": {},
   "source": [
    "### リストへの要素の追加\n",
    "Python のリストはC言語の配列と似ているが，要素の追加（リストが長くなる）や削除（リストが短くなる）が自由にできる点で異なる．\n",
    "\n",
    "リスト `xs` の末尾に値 `y` を追加するには，リスト型のもつ**メソッド** `append` を使って `xs.append(y)` とすればよい．\n",
    "\n",
    "メソッドは関数とよく似ているが，`変数.メソッド名(引数, ...)` の形式で呼び出し，変数にセットされたオブジェクト（今回の課題ではリスト）の内容を変更したり，オブジェクト内容と与えた引数の両方を用いて計算したりする．\n",
    "\n",
    "以下のセルを実行して，`append` の動作を確認しなさい："
   ]
  },
  {
   "cell_type": "code",
   "execution_count": 23,
   "metadata": {},
   "outputs": [
    {
     "name": "stdout",
     "output_type": "stream",
     "text": [
      "[1, 2, 3, 4]\n"
     ]
    }
   ],
   "source": [
    "xs = [1, 2, 3]\n",
    "xs.append(4)\n",
    "print(xs) # [1,2,3] に 4 が追加されたリストが表示される"
   ]
  },
  {
   "cell_type": "markdown",
   "metadata": {},
   "source": [
    "空のリスト `[]` に次々に値を `append` してリストを組み立てることができる："
   ]
  },
  {
   "cell_type": "code",
   "execution_count": 24,
   "metadata": {},
   "outputs": [
    {
     "name": "stdout",
     "output_type": "stream",
     "text": [
      "[10, 20, 30]\n"
     ]
    }
   ],
   "source": [
    "ys = []\n",
    "ys.append(10)\n",
    "ys.append(20)\n",
    "ys.append(30)\n",
    "print(ys)"
   ]
  },
  {
   "cell_type": "markdown",
   "metadata": {},
   "source": [
    "リストに要素を一つだけ追加するのではなく，別のリストを**連結**するには，メソッド `extend` を使う："
   ]
  },
  {
   "cell_type": "code",
   "execution_count": 25,
   "metadata": {},
   "outputs": [
    {
     "name": "stdout",
     "output_type": "stream",
     "text": [
      "[1, 2, 3, 4, 5]\n"
     ]
    }
   ],
   "source": [
    "zs = [1, 2, 3]\n",
    "ws = [4, 5]\n",
    "zs.extend(ws)\n",
    "print(zs)"
   ]
  },
  {
   "cell_type": "markdown",
   "metadata": {},
   "source": [
    "`extend` の引数とされたほうのリスト（上の例では `ws`）は何も変更を受けない（空になったりはしない）："
   ]
  },
  {
   "cell_type": "code",
   "execution_count": 26,
   "metadata": {},
   "outputs": [
    {
     "name": "stdout",
     "output_type": "stream",
     "text": [
      "[4, 5]\n"
     ]
    }
   ],
   "source": [
    "print(ws)"
   ]
  },
  {
   "cell_type": "markdown",
   "metadata": {},
   "source": [
    "リストの連結は `+` 演算子を使ってもできる："
   ]
  },
  {
   "cell_type": "code",
   "execution_count": 27,
   "metadata": {},
   "outputs": [
    {
     "name": "stdout",
     "output_type": "stream",
     "text": [
      "[1, 2, 3, 4, 5]\n"
     ]
    }
   ],
   "source": [
    "xs = [1, 2, 3] + [4, 5]\n",
    "print(xs)"
   ]
  },
  {
   "cell_type": "markdown",
   "metadata": {},
   "source": [
    "また，`extend` メソッドと同じことが `+=` 演算子を使ってもできる："
   ]
  },
  {
   "cell_type": "code",
   "execution_count": 28,
   "metadata": {},
   "outputs": [
    {
     "name": "stdout",
     "output_type": "stream",
     "text": [
      "[1, 2, 3, 4, 5]\n"
     ]
    }
   ],
   "source": [
    "xs = [1, 2, 3]\n",
    "xs += [4, 5]\n",
    "print(xs)"
   ]
  },
  {
   "cell_type": "markdown",
   "metadata": {},
   "source": [
    "**クイズ**：以下は `[1, 2, 3]` を値とするリスト `xs` に値 `4` を追加し，リスト `[1, 2, 3, 4]` を作って表示するつもりのプログラムだが，間違いが1か所あるために実行するとエラーになる．間違いを修正して `[1, 2, 3, 4]` が表示されるようにせよ．"
   ]
  },
  {
   "cell_type": "code",
   "execution_count": 29,
   "metadata": {},
   "outputs": [
    {
     "name": "stdout",
     "output_type": "stream",
     "text": [
      "[1, 2, 3, 4]\n"
     ]
    }
   ],
   "source": [
    "xs = [1, 2, 3]\n",
    "xs += [4]\n",
    "print(xs)"
   ]
  },
  {
   "cell_type": "markdown",
   "metadata": {},
   "source": [
    "ヒント（ダブルクリックで表示）\n",
    "<!--\n",
    "+ または += 演算子でリストにリストを結合することはできるが，\n",
    "リストに要素（下の例では 4）を加える操作は xs + 4 や xs += 4 とは書けない．\n",
    "\n",
    "append を使うか，長さ 1 のリスト [4] を結合すればよい．\n",
    "-->"
   ]
  },
  {
   "cell_type": "markdown",
   "metadata": {},
   "source": [
    "### リストからの要素の削除"
   ]
  },
  {
   "cell_type": "markdown",
   "metadata": {},
   "source": [
    "メソッド `pop` を使って `xs.pop(i)` とすると，リスト `xs` から `i` 番目の要素が削除される．削除した要素がメソッドの返り値となる:"
   ]
  },
  {
   "cell_type": "code",
   "execution_count": 30,
   "metadata": {},
   "outputs": [
    {
     "name": "stdout",
     "output_type": "stream",
     "text": [
      "xs = ['one', 'three']\n",
      "deleted = two\n"
     ]
    }
   ],
   "source": [
    "xs = [\"one\", \"two\", \"three\"]\n",
    "deleted = xs.pop(1)\n",
    "print(\"xs =\", xs)\n",
    "print(\"deleted =\", deleted)"
   ]
  },
  {
   "cell_type": "markdown",
   "metadata": {},
   "source": [
    "引数なしで `xs.pop()` のように呼び出すと，リストの末尾の要素が削除される："
   ]
  },
  {
   "cell_type": "code",
   "execution_count": 31,
   "metadata": {},
   "outputs": [
    {
     "name": "stdout",
     "output_type": "stream",
     "text": [
      "pop する前の xs = ['one', 'two', 'three']\n",
      "最初に pop された要素 = three\n",
      "つぎに pop された要素 = two\n",
      "現在の xs =  ['one']\n"
     ]
    }
   ],
   "source": [
    "xs = [\"one\", \"two\", \"three\"]\n",
    "\n",
    "print(\"pop する前の xs =\", xs) # pop する前の xs\n",
    "\n",
    "deleted1 = xs.pop() # \"three\" が削除され返されて deleted1 にセットされる\n",
    "deleted2 = xs.pop() # \"two\"   が削除され返されて deleted2 にセットされる\n",
    "\n",
    "print(\"最初に pop された要素 =\", deleted1)\n",
    "print(\"つぎに pop された要素 =\", deleted2)\n",
    "print(\"現在の xs = \", xs)"
   ]
  },
  {
   "cell_type": "markdown",
   "metadata": {},
   "source": [
    "### 練習3.5: ベクトルの和・差・スカラー倍\n",
    "ここからしばらく，数のリストでベクトルを表すことにする．つまり，長さ $N$ の数のリスト $[x_1, x_2, \\dots, x_N]$ を $N$ 次元のベクトルとみなす．\n",
    "\n",
    "行ベクトルなのか列ベクトルなのかは気にしないことにする．\n",
    "\n",
    "以下の3つの関数を実装しなさい．\n",
    "1. 同じ長さの2つの数のリスト $x = [x_1, \\dots, x_N]$，$y = [y_1, \\dots, y_N]$ を受け取り，ベクトルとしての和 $[x_1+y_1, \\dots, x_N+y_N]$ を返す関数 `vec_plus(x, y)`\n",
    "2. 同じ長さの2つの数のリスト $x = [x_1, \\dots, x_N]$，$y = [y_1, \\dots, y_N]$ を受け取り，ベクトルとしての差 $[x_1-y_1, \\dots, x_N-y_N]$ を返す関数 `vec_minus(x, y)`\n",
    "3. 数 $a$ と，数のリスト $x = [x_1, \\dots, x_N]$ を受け取り，スカラー倍を表すリスト $[ax_1, \\dots, ax_N]$ を返す関数 `scalar_prod(a, x)`"
   ]
  },
  {
   "cell_type": "markdown",
   "metadata": {},
   "source": [
    "ヒント（ダブルクリックで表示）\n",
    "<!--\n",
    "vec_plus, vec_minus, scalar_prod はいずれも同じパターンで実装できる：\n",
    "1. 最初に空のリスト z = [] を用意する\n",
    "2．vec_plus  ならば x[0] + y[0], x[1] + y[1], ... を順に z に append する\n",
    "   vec_minus ならば x[0] - y[0], x[1] - y[1], ... を順に z に append する\n",
    "   scalar_prod ならば a * x[0], a * x[1], ... を順に z に append する\n",
    "3. 最後に z を return する\n",
    "-->"
   ]
  },
  {
   "cell_type": "code",
   "execution_count": 32,
   "metadata": {},
   "outputs": [],
   "source": [
    "# 入力:\n",
    "#   x, y : ベクトルを表すリスト\n",
    "#   x と y は同じ長さと仮定してよい\n",
    "# 出力:\n",
    "#   ベクトルの和 x + y\n",
    "def vec_plus(x, y):\n",
    "    # *** 実装しなさい ***\n",
    "    z=[]\n",
    "    n=len(x)\n",
    "    for i in range (0,n):\n",
    "        z.append(x[i]+y[i])\n",
    "    return z\n",
    "    \n",
    "# 入力:\n",
    "#   x, y : ベクトルを表すリスト\n",
    "#   x と y は同じ長さと仮定してよい\n",
    "# 出力:\n",
    "#   ベクトルの差 x - y\n",
    "def vec_minus(x, y):\n",
    "    # *** 実装しなさい ***\n",
    "    z=[]\n",
    "    n=len(x)\n",
    "    for i in range (0,n):\n",
    "        z.append(x[i]-y[i])\n",
    "    return z\n",
    "    \n",
    "# 入力:\n",
    "#   a : 数値（スカラー）\n",
    "#   x : ベクトルを表すリスト\n",
    "# 出力:\n",
    "#   スカラー倍 ax\n",
    "def scalar_prod(a, x):\n",
    "    # *** 実装しなさい ***\n",
    "    z=[]\n",
    "    n=len(x)\n",
    "    for i in range (0,n):\n",
    "        z.append(a*x[i])\n",
    "    return z"
   ]
  },
  {
   "cell_type": "markdown",
   "metadata": {},
   "source": [
    "全て実装できたら，下のセルをクリックしてテストしてみましょう："
   ]
  },
  {
   "cell_type": "code",
   "execution_count": 33,
   "metadata": {},
   "outputs": [
    {
     "name": "stdout",
     "output_type": "stream",
     "text": [
      "True\n",
      "True\n",
      "True\n",
      "True\n",
      "True\n",
      "True\n"
     ]
    }
   ],
   "source": [
    "print(vec_plus([1, 2, 3], [10, 20, 30]) == [11, 22, 33])\n",
    "print(vec_plus([1], [0]) == [1]) # 1次元ベクトルの和\n",
    "\n",
    "print(vec_minus([10, 20, 30], [0, 10, 20]) == [10, 10, 10])\n",
    "print(vec_minus([1, 2, 3], [1, 2, 3]) == [0, 0, 0])\n",
    "\n",
    "print(scalar_prod(3, [1, 2, 3]) == [3, 6, 9])\n",
    "print(scalar_prod(0, [1, 2]) == [0, 0])"
   ]
  },
  {
   "cell_type": "markdown",
   "metadata": {},
   "source": [
    "### 練習3.6: ベクトルの内積とノルム\n",
    "同じ長さの数のリスト $x = [x_1, x_2, \\dots, x_N]$ と $y = [y_1, y_2, \\dots, y_N]$ を受け取って，実ベクトルどうしの内積 $x\\cdot y = \\sum_{i=1}^N x_i y_i$ を返す関数 `inner_prod(x, y)` を実装しなさい．\n",
    "\n",
    "さらに，`inner_prod` を利用して，ベクトル $x = [x_1, x_2, \\dots, x_N]$ のノルム（長さ） $||x|| = \\sqrt{\\sum_{i=1}^N x_i^2}$ を返す関数 `norm(x)` を実装しなさい．"
   ]
  },
  {
   "cell_type": "code",
   "execution_count": 34,
   "metadata": {},
   "outputs": [],
   "source": [
    "# 入力:\n",
    "#   x, y : ベクトルを表すリスト\n",
    "#   x と y は同じ長さと仮定してよい\n",
    "# 出力:\n",
    "#   x と y の内積\n",
    "def inner_prod(x, y):\n",
    "    # *** 実装しなさい ***\n",
    "    s=0\n",
    "    n=len(x)\n",
    "    for i in range (0,n):\n",
    "        s+=x[i]*y[i]\n",
    "    return s\n",
    "# 入力:\n",
    "#   x : ベクトルを表すリスト\n",
    "# 出力:\n",
    "#   x のノルム\n",
    "def norm(x):\n",
    "    # *** 実装しなさい ***\n",
    "    # inner_prod を利用すれば 1 行で書ける\n",
    "    return (inner_prod(x,x))**0.5"
   ]
  },
  {
   "cell_type": "markdown",
   "metadata": {},
   "source": [
    "実装できたらテストしましょう："
   ]
  },
  {
   "cell_type": "code",
   "execution_count": 35,
   "metadata": {},
   "outputs": [
    {
     "name": "stdout",
     "output_type": "stream",
     "text": [
      "True\n",
      "True\n",
      "True\n",
      "True\n"
     ]
    }
   ],
   "source": [
    "print(inner_prod([1, 2, 3], [0, 1, 2]) == 8)\n",
    "print(inner_prod([1, -1], [1, 1]) == 0)\n",
    "print(norm([3, 4]) == 5)\n",
    "print(norm([0, 0, 5]) == 5)"
   ]
  },
  {
   "cell_type": "markdown",
   "metadata": {},
   "source": [
    "### 入れ子になったリスト\n",
    "リストを要素とするリストが作れる．例えば\n",
    "```python\n",
    "m = [[1, 2], [3, 4]]\n",
    "```\n",
    "とすると，\n",
    "* `m[0]` は，`m` の0番目の要素なので `[1, 2]`\n",
    "* `m[1]` は，`m` の1番目の要素なので `[3, 4]`\n",
    "\n",
    "であり，\n",
    "* `m[0][0]` は，`m` の0番目の要素 `[1, 2]` の0番目の要素なので `1`\n",
    "* `m[0][1]` は，`m` の0番目の要素 `[1, 2]` の1番目の要素なので `2`\n",
    "* `m[1][0]` は，`m` の1番目の要素 `[3, 4]` の0番目の要素なので `3`\n",
    "* `m[1][1]` は，`m` の1番目の要素 `[3, 4]` の1番目の要素なので `4`\n",
    "\n",
    "となる．\n",
    "\n",
    "ここからいくつかの練習問題では，2重のリストで行列を表すことにする．\n",
    "2行2列の行列の場合は，プログラム上での\n",
    "```python\n",
    "m = [[1, 2],\n",
    "     [3, 4]]\n",
    "```\n",
    "という形と，数学での\n",
    "$\n",
    "\\left[ \\begin{array}{cc}\n",
    "1 & 2 \\\\\n",
    "3 & 4\n",
    "\\end{array}\\right]\n",
    "$\n",
    "という表記をそのまま対応させて，`m[0][0]` が数学でいう 1,1 成分，`m[0][1]` が数学でいう 1,2 成分，...　と考える．このとき `m[0]` は数学でいう1行目の行ベクトルということになる．\n",
    "\n",
    "行列が何行何列でも（正方行列でなくても）同様に考える．\n",
    "\n",
    "このとき，行列 `m` の行の数は `len(m)`，列の数は `len(m[0])` で調べることができる．\n"
   ]
  },
  {
   "cell_type": "markdown",
   "metadata": {},
   "source": [
    "#### 例: ループを使った２重リストの作成\n",
    "ループを使って２重リストを作るには，以下のように内側のリスト（行列の「行」）をひとつずつ作って外側のリストに append していけばよい．．\n",
    "```python\n",
    "m = [] # 空のリスト\n",
    "for i in range(n): # 外側のリスト（行列全体）を作るループ\n",
    "    r = []         # i 番目の行を空のリストで初期化\n",
    "    for j in range(n): # 行を作るループ\n",
    "        r に要素を append で追加していく\n",
    "    m.append(r) # 外側のリストに i 行目を追加する        \n",
    "```\n",
    "\n",
    "例えば引数として整数 $n$ を受け取り，ループを使って以下のような $n \\times n$ 行列を表す２重リストを作りたいとする：\n",
    "```python\n",
    "[[1, 1, 1, 1, 1],\n",
    " [2, 2, 2, 2, 2],\n",
    " [3, 3, 3, 3, 3],\n",
    " [4, 4, 4, 4, 4],\n",
    " [5, 5, 5, 5, 5]]\n",
    "```\n",
    "これは以下のように実装できる："
   ]
  },
  {
   "cell_type": "code",
   "execution_count": 36,
   "metadata": {},
   "outputs": [
    {
     "data": {
      "text/plain": [
       "[[1, 1, 1, 1, 1],\n",
       " [2, 2, 2, 2, 2],\n",
       " [3, 3, 3, 3, 3],\n",
       " [4, 4, 4, 4, 4],\n",
       " [5, 5, 5, 5, 5]]"
      ]
     },
     "execution_count": 36,
     "metadata": {},
     "output_type": "execute_result"
    }
   ],
   "source": [
    "def rank1_matrix(n):\n",
    "    m = [] # 空のリストを作る\n",
    "    for i in range(n): # 外側のリストを作るループ\n",
    "        r = []         # i 番目の行を空のリストで初期化\n",
    "        for j in range(n):\n",
    "            r.append(i + 1) # i 行目の要素は全て i + 1\n",
    "        m.append(r)\n",
    "    return m\n",
    "\n",
    "# テスト\n",
    "rank1_matrix(5)"
   ]
  },
  {
   "cell_type": "markdown",
   "metadata": {},
   "source": [
    "### 練習3.7: 行列の和と差\n",
    "1. 同じ型（行数・列数がそれぞれ同じ）の2つの行列 $p$ と $q$ を表す，2つの2重リストを受け取って，その行列としての和 $p + q$ を表す2重リストを返す関数 `mat_plus(p, q)` を実装せよ\n",
    "2. 同じ型の2つの行列 $p$ と $q$ を表す，2つの2重リストを受け取って，その行列としての差 $p - q$ を表す2重リストを返す関数 `mat_minus(p, q)` を実装せよ\n",
    "3. 数値（スカラー） $a$ と行列を表す2重リスト $p$ を受け取って，行列のスカラー倍 $ap$ を表す2重リストを返す関数 `mat_scalar_prod(a, p)` を実装せよ\n",
    "\n",
    "ヒント：行ベクトルどうしの和・差を `vec_plus`，`vec_minus` で計算し，結果を空のリストに `append` していけばよい．スカラー倍も同様．\n",
    "\n",
    "<font color=\"red\">注意</font>: 引数として渡される $p$ や $q$ は正方行列**とは限らない**ことに注意せよ"
   ]
  },
  {
   "cell_type": "code",
   "execution_count": 37,
   "metadata": {},
   "outputs": [],
   "source": [
    "# 入力:\n",
    "#   p, q : 行列を表す2重リスト\n",
    "#   p と q は同じ型と仮定してよい\n",
    "# 出力:\n",
    "#   行列の和 p + q\n",
    "def mat_plus(p, q):\n",
    "    nx=len(p)\n",
    "    ny=len(p[0])\n",
    "    wa=[]\n",
    "    for i in range(0,nx):\n",
    "        r=[]\n",
    "        for j in range(0,ny):\n",
    "            r.append(p[i][j]+q[i][j])\n",
    "        wa.append(r)\n",
    "    return wa\n",
    "    # *** 実装しなさい ***\n",
    "\n",
    "# 入力:\n",
    "#   p, q : 行列を表す2重リスト\n",
    "#   p と q は同じ型と仮定してよい\n",
    "# 出力:\n",
    "#   行列の差 p - q\n",
    "def mat_minus(p, q):\n",
    "    nx=len(p)\n",
    "    ny=len(p[0])\n",
    "    sa=[]\n",
    "    for i in range(0,nx):\n",
    "        r=[]\n",
    "        for j in range(0,ny):\n",
    "            r.append(p[i][j]-q[i][j])\n",
    "        sa.append(r)\n",
    "    return sa\n",
    "    # *** 実装しなさい ***\n",
    "    \n",
    "# 入力:\n",
    "#   a : 数値（スカラー）\n",
    "#   p : 行列を表す2重リスト\n",
    "# 出力:\n",
    "#   スカラー倍 ap\n",
    "def mat_scalar_prod(a, p):\n",
    "    # *** 実装しなさい ***\n",
    "    z=[]\n",
    "    nx=len(p)\n",
    "    ny=len(p[0])\n",
    "    for i in range (0,nx):\n",
    "        r=[]\n",
    "        for j in range (0,ny):\n",
    "            r.append(a*p[i][j])\n",
    "        z.append(r)\n",
    "    return z\n"
   ]
  },
  {
   "cell_type": "markdown",
   "metadata": {},
   "source": [
    "実装できたらテストしてみなさい："
   ]
  },
  {
   "cell_type": "code",
   "execution_count": 38,
   "metadata": {},
   "outputs": [
    {
     "name": "stdout",
     "output_type": "stream",
     "text": [
      "[[6, 8], [10, 12]]\n",
      "[[-4, -4], [-4, -4]]\n",
      "[[3, 6], [9, 12]]\n"
     ]
    }
   ],
   "source": [
    "print(mat_plus([[1, 2],\n",
    "                [3, 4]],\n",
    "               [[5, 6],\n",
    "                [7, 8]]))\n",
    "\n",
    "print(mat_minus([[1, 2],\n",
    "                 [3, 4]],\n",
    "                [[5, 6],\n",
    "                 [7, 8]]))\n",
    "\n",
    "print(mat_scalar_prod(3, [[1, 2],\n",
    "                          [3, 4]]))"
   ]
  },
  {
   "cell_type": "markdown",
   "metadata": {},
   "source": [
    "2重リストを単に `print` すると，横一列に表示されて行列に見えない．そこでもう少し行列らしく表示する関数 `mat_print` を定義する．\n",
    "このために numpy というライブラリの機能を利用するが，この講義では numpy の詳細について理解する必要はない．\n",
    "<!--\n",
    "# m : 行列を表す2重リスト\n",
    "def mat_print(m):\n",
    "    # 各要素を文字列に変換\n",
    "    sm = [[str(e) for e in row] for row in m]\n",
    "    \n",
    "    # 各列の要素の最大表示幅\n",
    "    column_width = [max(len(sm[i][j]) for i in range(len(sm))) \n",
    "                    for j in range(len(sm[0]))]\n",
    "            \n",
    "    # フォーマット文字列\n",
    "    f = \"[{:>\" + \"s}, {:>\".join(map(str, column_width)) + \"s}]\"\n",
    "    \n",
    "    # 各行をフォーマットして表示\n",
    "    for i in range(0, len(m)):\n",
    "        pre = \"[\" if i == 0 else \" \"\n",
    "        pos = \",\" if i != len(m)-1 else \"]\"\n",
    "        print(pre + f.format(*sm[i]) + pos)   \n",
    "-->"
   ]
  },
  {
   "cell_type": "code",
   "execution_count": 39,
   "metadata": {},
   "outputs": [],
   "source": [
    "import numpy as np\n",
    "def mat_print(m):\n",
    "    print(np.array(m))"
   ]
  },
  {
   "cell_type": "markdown",
   "metadata": {},
   "source": [
    "さきほどと同じテスト結果を `mat_print` で表示してみよ："
   ]
  },
  {
   "cell_type": "code",
   "execution_count": 40,
   "metadata": {},
   "outputs": [
    {
     "name": "stdout",
     "output_type": "stream",
     "text": [
      "[[ 6  8]\n",
      " [10 12]]\n",
      "\n",
      "[[-4 -4]\n",
      " [-4 -4]]\n",
      "\n",
      "[[ 3  6]\n",
      " [ 9 12]]\n"
     ]
    }
   ],
   "source": [
    "mat_print(mat_plus([[1, 2],\n",
    "                    [3, 4]],\n",
    "                   [[5, 6],\n",
    "                    [7, 8]]))\n",
    "print() # 空行をいれる\n",
    "mat_print(mat_minus([[1, 2],\n",
    "                     [3, 4]],\n",
    "                    [[5, 6],\n",
    "                     [7, 8]]))\n",
    "print() # 空行をいれる\n",
    "mat_print(mat_scalar_prod(3, [[1, 2],\n",
    "                              [3, 4]]))"
   ]
  },
  {
   "cell_type": "markdown",
   "metadata": {},
   "source": [
    "### 練習3.8: ゼロ行列・単位行列の作成\n",
    "1. 2つの正の整数 $m$, $n$ を受け取り，$m$行$n$列のゼロ行列を表す2重リストを返す関数 `zero_mat(m, n)` を実装せよ．\n",
    "2. 正の整数 $n$ を受け取り，$n$ 次の単位行列を表す2重リストを返す関数 `identity_mat(n)` を実装せよ．"
   ]
  },
  {
   "cell_type": "markdown",
   "metadata": {},
   "source": [
    "ヒント（ダブルクリックで表示）\n",
    "\n",
    "<!--\n",
    "--------------\n",
    "ゼロ行列の作成\n",
    "--------------\n",
    "1. ゼロ行列を表すリスト z を空リスト [] で初期化する\n",
    "2. 要素が全てゼロの行ベクトルを表すリスト zrow を [] で初期化する\n",
    "3. zrow に n 回 0 を append する\n",
    "4. zrow を z に append する\n",
    "5. z が m 行になるまで 2. から 4. を繰り返す\n",
    "--------------\n",
    "単位行列の作成\n",
    "--------------\n",
    "1. n 行 n 列のゼロ行列を作る\n",
    "2. 対角成分に 1 をセットする\n",
    "-->"
   ]
  },
  {
   "cell_type": "code",
   "execution_count": 41,
   "metadata": {},
   "outputs": [],
   "source": [
    "# 入力:\n",
    "#  m, n : 正の整数\n",
    "# 出力:\n",
    "#  m行n列で要素が全てゼロの行列\n",
    "def zero_mat(m, n):\n",
    "    x=[]\n",
    "    for i in range (0,m):\n",
    "        y=[]\n",
    "        for j in range (0,n):\n",
    "            y.append(0)\n",
    "        x.append(y)\n",
    "    return x\n",
    "    # *** 実装しなさい ***\n",
    "    \n",
    "# 入力:\n",
    "#  n : 正の整数\n",
    "# 出力:\n",
    "#  n 次の単位行列\n",
    "def identity_mat(n):\n",
    "    x=[]\n",
    "    for i in range (0,n):\n",
    "        y=[]\n",
    "        for j in range (0,n):\n",
    "            if i==j:\n",
    "                y.append(1)\n",
    "            else:\n",
    "                y.append(0)\n",
    "        x.append(y)\n",
    "    return x\n",
    "    # *** 実装しなさい ***\n"
   ]
  },
  {
   "cell_type": "markdown",
   "metadata": {},
   "source": [
    "できたらテストしてみましょう："
   ]
  },
  {
   "cell_type": "code",
   "execution_count": 42,
   "metadata": {},
   "outputs": [
    {
     "name": "stdout",
     "output_type": "stream",
     "text": [
      "[[0 0 0 0 0]\n",
      " [0 0 0 0 0]\n",
      " [0 0 0 0 0]]\n",
      "\n",
      "[[1 0 0 0]\n",
      " [0 1 0 0]\n",
      " [0 0 1 0]\n",
      " [0 0 0 1]]\n"
     ]
    }
   ],
   "source": [
    "# 3行5列で全てゼロの行列\n",
    "mat_print(zero_mat(3, 5))\n",
    "\n",
    "print() # 空行\n",
    "\n",
    "# 4次の単位行列\n",
    "mat_print(identity_mat(4))"
   ]
  },
  {
   "cell_type": "markdown",
   "metadata": {},
   "source": [
    "### <font color=\"red\">**落とし穴**</font>\n",
    "$m$行$n$列のゼロ行列を返す関数を以下のように定義すると，おそらく意図と異なる動きをする："
   ]
  },
  {
   "cell_type": "code",
   "execution_count": 43,
   "metadata": {},
   "outputs": [],
   "source": [
    "def bad_zero_mat(m, n):\n",
    "    # n 次の（行）ゼロベクトルを作る\n",
    "    zrow = []\n",
    "    for i in range(0, n):\n",
    "        zrow.append(0)\n",
    "        \n",
    "    # 行列の第1行〜第m行に zrow をセットする\n",
    "    zmat = []\n",
    "    for j in range(0, m):\n",
    "        zmat.append(zrow)\n",
    "        \n",
    "    return zmat"
   ]
  },
  {
   "cell_type": "markdown",
   "metadata": {},
   "source": [
    "例えば `bad_zero_mat` で2行2列のゼロ行列 z を作ってみよう："
   ]
  },
  {
   "cell_type": "code",
   "execution_count": 44,
   "metadata": {},
   "outputs": [
    {
     "name": "stdout",
     "output_type": "stream",
     "text": [
      "[[0 0]\n",
      " [0 0]]\n"
     ]
    }
   ],
   "source": [
    "z = bad_zero_mat(2, 2)\n",
    "mat_print(z)"
   ]
  },
  {
   "cell_type": "markdown",
   "metadata": {},
   "source": [
    "みたところ問題なさそうだが，`z` の(1, 1)成分に 1，(2, 2)成分に 2 をセットしてみよう："
   ]
  },
  {
   "cell_type": "code",
   "execution_count": 45,
   "metadata": {},
   "outputs": [],
   "source": [
    "z[0][0] = 1 # (1, 1) 成分に 1 をセット（のつもり）\n",
    "z[1][1] = 2 # (2, 2) 成分に 2 をセット（のつもり）"
   ]
  },
  {
   "cell_type": "markdown",
   "metadata": {},
   "source": [
    "`z` は対角行列\n",
    "$\n",
    "\\left[\n",
    "\\begin{array}{cc}\n",
    "1 & 0 \\\\\n",
    "0 & 2\n",
    "\\end{array}\n",
    "\\right]\n",
    "$\n",
    "になったと期待するでしょう．しかし表示してみるとそうなっていないことが分かる："
   ]
  },
  {
   "cell_type": "code",
   "execution_count": 46,
   "metadata": {},
   "outputs": [
    {
     "name": "stdout",
     "output_type": "stream",
     "text": [
      "[[1 2]\n",
      " [1 2]]\n"
     ]
    }
   ],
   "source": [
    "mat_print(z)"
   ]
  },
  {
   "cell_type": "markdown",
   "metadata": {},
   "source": [
    "こうなってしまうのは，上の `bad_zero_mat` では `z` の各行として**同一のオブジェクト** `zrow` をセットしたためである．\n",
    "つまり，`z` の第1行目から第$m$行目までは全て同一のオブジェクト（メモリの同じ場所にある，実体として同一のリスト）を指す．\n",
    "\n",
    "そのため，\n",
    "* `z[0][0]` に 1 をセットすると，`z[1][0]` も同時に値が 1 になる\n",
    "* `z[1][1]` に 2 をセットすると，`z[0][1]` も同時に値が 2 になる\n",
    "\n",
    "この結果，対角要素にだけ値をセットしたつもりでも，上で見た全ての要素がゼロでない行列になる．\n",
    "\n",
    "この意図しない結果を避けるためには，`zero_mat` のような関数では作成するゼロ行列の各行を**行ごとに新しく作る**必要がある．\n",
    "\n",
    "具体的には\n",
    "```python\n",
    "z = [] # ゼロ行列を表すリスト\n",
    "for i in range(0, m): # 各行を作るループ\n",
    "    zrow = [] # i行目の行ベクトル\n",
    "    for j in range(0, n):\n",
    "        zrow.append(0) # ゼロ行ベクトルを作る\n",
    "        \n",
    "    z.append(zrow) # 作った行ベクトルを追加する \n",
    "```\n",
    "のように，行ごとに `zrow` を初期化して要素をセットすれば良い．"
   ]
  },
  {
   "cell_type": "markdown",
   "metadata": {},
   "source": [
    "### 練習3.9: 行列の積\n",
    "行列を表す2つの2重リスト `m` と `n` を受け取り，行列 `m` と `n` の積を表す2重リストを返す関数 `mat_prod(m, n)` を実装せよ．\n",
    "\n",
    "`m` の列数と `n` の行数は同じだと仮定してよいが，`m` および `n` は正方行列**とは限らない**ことに注意せよ．"
   ]
  },
  {
   "cell_type": "markdown",
   "metadata": {},
   "source": [
    "ヒント（ダブルクリックで表示）\n",
    "<!--\n",
    "* 結果を表す z をまずゼロ行列で初期化する．\n",
    "\n",
    "* 行列積の定義から各成分 z[i][j] は（q = len(n) として）\n",
    "\n",
    "      z[i][j] = m[i][0] * n[0][j] + m[i][1] * n[1][j] + ... + m[i][q-1] * n[q-1][j]\n",
    "\n",
    "  なので，k = 0, 1, .., q-1 について \n",
    "  \n",
    "      m[i][k] * n[k][j]\n",
    "\n",
    "  を z[i][j] に足し込んでいけばよい\n",
    "\n",
    "* 関数全体としては以下のような構造になる\n",
    "  q = len(n)\n",
    "  z = q x q のゼロ行列\n",
    " \n",
    "  i = 0, 1, ..., q-1 について\n",
    "    j = 0, 1, ..., q-1 について\n",
    "      z[i][j] を計算する\n",
    "\n",
    "  z を return する\n",
    "-->"
   ]
  },
  {
   "cell_type": "code",
   "execution_count": 51,
   "metadata": {},
   "outputs": [],
   "source": [
    "def mat_prod(m, n):\n",
    "    p=len(m)\n",
    "    q=len(n)\n",
    "    z=zero_mat(q, q)\n",
    "    for i in range (0,p):\n",
    "        for j in range (0,q):\n",
    "            for k in range (0,q):\n",
    "                z[i][j]+=m[i][k]*n[k][j]\n",
    "    return z"
   ]
  },
  {
   "cell_type": "markdown",
   "metadata": {},
   "source": [
    "実装できたらテストしましょう："
   ]
  },
  {
   "cell_type": "code",
   "execution_count": 52,
   "metadata": {},
   "outputs": [
    {
     "name": "stdout",
     "output_type": "stream",
     "text": [
      "[[11 17]\n",
      " [23 37]]\n",
      "\n",
      "[[ 1.00000000e+00 -1.11022302e-16]\n",
      " [ 1.11022302e-16  1.00000000e+00]]\n"
     ]
    }
   ],
   "source": [
    "# [[11, 17], \n",
    "#  [23, 37]] になるはず\n",
    "m = mat_prod([[1, 2],\n",
    "              [3, 4]],\n",
    "             [[1, 3],\n",
    "              [5, 7]])\n",
    "mat_print(m)\n",
    "print()\n",
    "\n",
    "# 120°回転の行列\n",
    "#\n",
    "# [[cos(2π/3) -sin(2π/3)],\n",
    "#  [sin(2π/3)  cos(2π/3)]]\n",
    "#\n",
    "r = [[-1/2,     -(3**0.5/2)],\n",
    "     [3**0.5/2, -1/2]]\n",
    "\n",
    "# 120°回転を3回＝ほぼ単位行列になるはず\n",
    "# (誤差のため非対角成分はゼロにはならないが非常に小さい値になる)\n",
    "r3 = mat_prod(r, mat_prod(r, r))\n",
    "\n",
    "mat_print(r3)"
   ]
  },
  {
   "cell_type": "markdown",
   "metadata": {},
   "source": [
    "---"
   ]
  },
  {
   "cell_type": "markdown",
   "metadata": {},
   "source": [
    "### タプル\n",
    "タプルはリストとよく似たデータ構造である．\n",
    "\n",
    "タプルをプログラム上で定義するには，丸カッコ `(` ... `)` でカンマ区切りの値の列を挟む："
   ]
  },
  {
   "cell_type": "code",
   "execution_count": 205,
   "metadata": {},
   "outputs": [
    {
     "name": "stdout",
     "output_type": "stream",
     "text": [
      "(10, 11, 12)\n"
     ]
    }
   ],
   "source": [
    "t = (10, 11, 12)\n",
    "print(t)"
   ]
  },
  {
   "cell_type": "markdown",
   "metadata": {},
   "source": [
    "リストと同じく，タプルの `i` 番目の要素を取り出すには添字を使って `t[i]` とすればよい："
   ]
  },
  {
   "cell_type": "code",
   "execution_count": 206,
   "metadata": {},
   "outputs": [
    {
     "name": "stdout",
     "output_type": "stream",
     "text": [
      "11\n"
     ]
    }
   ],
   "source": [
    "print(t[1])"
   ]
  },
  {
   "cell_type": "markdown",
   "metadata": {},
   "source": [
    "リストと異なり，一度作成したタプルの要素に後から値を代入したり，`append` や `+=` で新たな要素を付け加えたりすることはできない．\n",
    "すなわち上で作成した `t` の第１要素を 0 に書き換えるつもりで\n",
    "```python\n",
    "t[1] = 0\n",
    "```"
   ]
  },
  {
   "cell_type": "markdown",
   "metadata": {},
   "source": [
    "を実行するとエラーが起きる．セルを自分で作ってやってみよ．ただし後で全てのセルを再実行できるように，エラーになることを確かめたらセルを削除（dキーを二回押す）あるいは `t[1] = 0` の行をコメントアウトしておきなさい．\n",
    "\n",
    "さて，そうするとタプルは単に「不便なリスト」のように思うだろうが，一度作ったら変更不可能という性質が重要になる場合がある．具体的にはしばらくあとで学習する「辞書データ構造」でこの性質を利用する．\n",
    "\n",
    "「辞書データ構造」と無関係な場合でも，「値が後から変更されない」と分かっている（あるいはそのことを示したい）場合にリストの代わりにタプルを使うのは良い習慣だと言える．"
   ]
  },
  {
   "cell_type": "markdown",
   "metadata": {},
   "source": [
    "t[1]=0"
   ]
  },
  {
   "cell_type": "markdown",
   "metadata": {},
   "source": [
    "以上で今回の必須課題は終わりです．\n",
    "\n",
    "## 課題提出の前の注意\n",
    "* かならずメニューの \"Run\" から \"Run All Cells\" を選択し，全てのセルが正しく実行されることを確認すること\n",
    "\n",
    "* \"Run All Cells\" を実行したら，**各セルの実行結果が表示されている状態で保存のボタン**を押してノートブックを保存すること\n",
    "* 上記のように実行結果まで含めて保存してからノートブックを提出すること．"
   ]
  },
  {
   "cell_type": "markdown",
   "metadata": {
    "jp-MarkdownHeadingCollapsed": true
   },
   "source": [
    "---\n",
    "以下の「チャレンジ課題」は余力がある人のための課題です．セルを正しく実装して提出すれば加点します．\n",
    "\n",
    "### チャレンジ課題：掃き出し法で逆行列を求める\n",
    "掃き出し法で逆行列を求めたい．\n",
    "\n",
    "逆行列を求めたい行列 $A$ と単位行列 $I$ を $[A | I]$ のように横に並べ，$A$ の部分が単位行列になるように行基本変形を繰り返すと最後に $[I | A^{-1}]$ という形になることから逆行列 $A^{-1}$ が求められるのだった．\n",
    "\n",
    "また，$j$ 列目まで掃き出しが終わったとき，$j+1$ 列目の $j+1$ 行目以降が全てゼロになった場合（すなわち，それ以上，掃き出しを進められない場合）は，$A$ は逆行列を持たない（正則でない）ことが分かるのだった．\n",
    "\n",
    "行基本変形とは\n",
    "* ある行を $a$ 倍する\n",
    "* ある行の $a$ 倍を別の行に足す\n",
    "* ある行と別の行を交換する\n",
    "\n",
    "の3種類の変形のことだった．"
   ]
  },
  {
   "cell_type": "markdown",
   "metadata": {},
   "source": [
    "例）\n",
    "$$\n",
    "\\begin{align*}\n",
    "& &\n",
    "\\left[\n",
    "  \\begin{array}{ccc|ccc}\n",
    "    1 & 2 & 3 & 1 & 0 & 0 \\\\\n",
    "    2 & 4 & 9 & 0 & 1 & 0 \\\\\n",
    "    1 & 3 & 5 & 0 & 0 & 1\n",
    "  \\end{array}\n",
    "\\right]\n",
    "\\\\\n",
    "&\n",
    "\\xrightarrow{\\begin{array}{l}\n",
    "                2行目 - 1行目 \\times 2 \\\\\n",
    "                3行目 - 1行目\n",
    "                \\end{array}}\n",
    "&\n",
    "\\left[\n",
    "  \\begin{array}{ccc|ccc}\n",
    "    1 & 2 & 3 & 1 & 0 & 0 \\\\\n",
    "    0 & 0 & 3 & -2 & 1 & 0 \\\\\n",
    "    0 & 1 & 2 & -1 & 0 & 1\n",
    "  \\end{array}\n",
    "\\right]\n",
    "\\\\\n",
    "&\n",
    "\\xrightarrow{2行目と3行目を交換}\n",
    "&\n",
    "\\left[\n",
    "  \\begin{array}{ccc|ccc}\n",
    "    1 & 2 & 3 & 1 & 0 & 0 \\\\\n",
    "    0 & 1 & 2 & -1 & 0 & 1 \\\\\n",
    "    0 & 0 & 3 & -2 & 1 & 0\n",
    "  \\end{array}\n",
    "\\right]\n",
    "\\\\\n",
    "&\n",
    "\\xrightarrow{1行目 - 2行目 \\times 2}\n",
    "&\n",
    "\\left[\n",
    "  \\begin{array}{ccc|ccc}\n",
    "    1 & 0 & -1 & 3 & 0 & -2 \\\\\n",
    "    0 & 1 & 2 & -1 & 0 & 1 \\\\\n",
    "    0 & 0 & 3 & -2 & 1 & 0\n",
    "  \\end{array}\n",
    "\\right]\n",
    "\\\\\n",
    "&\n",
    "\\xrightarrow{3行目 \\times 1/3}\n",
    "&\n",
    "\\left[\n",
    "  \\begin{array}{ccc|ccc}\n",
    "    1 & 0 & -1 & 3 & 0 & -2 \\\\\n",
    "    0 & 1 & 2 & -1 & 0 & 1 \\\\\n",
    "    0 & 0 & 1 & -2/3 & 1/3 & 0\n",
    "  \\end{array}\n",
    "\\right]\n",
    "\\\\\n",
    "&\n",
    "\\xrightarrow{\\begin{array}{l}\n",
    "                1行目 + 3行目 \\\\\n",
    "                2行目 - 3行目 \\times 2\n",
    "                \\end{array}}\n",
    "&\n",
    "\\left[\n",
    "  \\begin{array}{ccc|ccc}\n",
    "    1 & 0 & 0 & 7/3 & 1/3 & -2 \\\\\n",
    "    0 & 1 & 0 & 1/3 & -2/3 & 1 \\\\\n",
    "    0 & 0 & 1 & -2/3 & 1/3 & 0\n",
    "  \\end{array}\n",
    "\\right]\n",
    "\\end{align*}\n",
    "$$"
   ]
  },
  {
   "cell_type": "markdown",
   "metadata": {},
   "source": [
    "この掃き出し法によって，入力された正方行列 $m$ に逆行列が存在する場合はそれを計算して返し，逆行列が存在しない場合は False を返す関数 `inverse_mat(m)` を実装せよ．入力 $m$ が何次であっても（正方行列なら）対応できるよう実装すること．\n",
    "\n",
    "ヒント：\n",
    "* 3種類の行基本変形をそれぞれ関数として実装すると全体が見通しよく実装できる．\n",
    "* 入力された行列 $m$ に対して掃き出し法をそのまま実行すると，呼び出し元での $m$ の値が変化してしまう．これを防ぐため，以下のセルに実装してある `copy_mat(m)` を使って行列 $m$ のコピーを作ってから掃き出しを始めるとよい．コピー元の $m$ は不要なので，`m = copy_mat(m)` と置き換えてしまえばよい．\n",
    "* 小数の計算時の誤差によって，本来ゼロになるべき要素が，絶対値は小さいがゼロではない値になることがある．そのような要素を掃き出しのピボット要素に選ばないように，「ゼロかどうか」の判定は「絶対値がある程度以上の大きさか（例えば $10^{-8}$ 以上か）」という判定に置き換える必要がある．（これによって，もともと非常に要素の値が小さい行列の逆行列は求められなくなるが，しかたない）\n",
    "* 要素 `m[i][j]` の絶対値は標準関数 `abs` を用いて `abs(m[i][j])` のように計算できる\n",
    "* ここまでで作成したベクトル・行列を操作する関数を活用するとよい．"
   ]
  },
  {
   "cell_type": "markdown",
   "metadata": {},
   "source": [
    "さらにヒント（ダブルクリックで表示）\n",
    "<!--\n",
    "* まずは，3つの基本変形を以下のような関数として実装するとよい：\n",
    "  * row_swap(m, i, j) ... 行列 m の i 行と j 行を交換する\n",
    "  * row_mult_add(m, a, i, j) ... 行列 m の i 行の a 倍を j 行に加える\n",
    "  * row_scalar_mult(m, a, i) ... 行列 m の i 行を a 倍する\n",
    "\n",
    "* さらに，ピボット要素を探す処理も以下のような関数にしておくとよい：\n",
    "  * find_pivot_row(m, j) ... 行列 m の第 j 列の j 行目以降の要素から\n",
    "    非ゼロ（正確には，例えば 10^-8 以上）の要素を探してその行番号を返す．\n",
    "    そのような要素がなければ -1 を返す\n",
    "  * ピボット要素そのものではなく，その行番号を返すのは，この処理のあとで\n",
    "    ピボット要素を含む行を j 行目と交換する必要があるため\n",
    "\n",
    "* 逆行列を見つける関数 inverse_mat(m) は，おおまかには次のようになるだろう：\n",
    "  * m を copy_mat でコピーして，コピーで m を置き換える： m = copy_mat(m)\n",
    "  * m と同じ次元の単位行列を作成する．以下それを e と書く．\n",
    "  * m の 0 列目, 1 列目, ..., len(m)-1 列目の順に以下を行う\n",
    "    * j 列目の処理では，find_pivot_row(m, j) で j 列目のピボット行を見つける．\n",
    "      それを p 行目とする\n",
    "    * もし p == -1 なら m は正則でないので False を返して終了\n",
    "    * (j != p なら）m と e それぞれの j 行目と p 行目を交換する\n",
    "    * ピボット要素を 1 にするために，m と e それぞれの j 行目を\n",
    "      ピボット要素の値 m[j][j] で割る\n",
    "    * m と e それぞれの 0, 1, .., j-1, j+1, .., len(m)-1 行目から，\n",
    "      適当なスカラーを掛けて m の j 行目を引く\n",
    "  * 以上の処理後に e を返す\n",
    "-->"
   ]
  },
  {
   "cell_type": "code",
   "execution_count": 207,
   "metadata": {},
   "outputs": [],
   "source": [
    "# 入力:\n",
    "#   m : 行列\n",
    "# 出力\n",
    "#   m のコピー\n",
    "def copy_mat(m):\n",
    "    n = zero_mat(len(m), len(m[0]))\n",
    "    for i in range(0, len(m)):\n",
    "        for j in range(0, len(m[0])):\n",
    "            n[i][j] = m[i][j]\n",
    "    return n\n",
    "# 入力：\n",
    "#  m : 正方行列\n",
    "# 出力:\n",
    "#  m が正則のとき m の逆行列\n",
    "#  それ以外の時 False\n",
    "def inverse_mat(m):\n",
    "    # m を壊さないようにコピーを作ってから\n",
    "    # 処理を始める\n",
    "    m = copy_mat(m)\n",
    "    # *** 以降を実装しなさい ***\n"
   ]
  },
  {
   "cell_type": "markdown",
   "metadata": {},
   "source": [
    "実装できたらテストしてみましょう："
   ]
  },
  {
   "cell_type": "code",
   "execution_count": 208,
   "metadata": {},
   "outputs": [
    {
     "name": "stdout",
     "output_type": "stream",
     "text": [
      "None\n",
      "\n",
      "a * a_inv:\n"
     ]
    },
    {
     "ename": "TypeError",
     "evalue": "object of type 'NoneType' has no len()",
     "output_type": "error",
     "traceback": [
      "\u001b[0;31m---------------------------------------------------------------------------\u001b[0m",
      "\u001b[0;31mTypeError\u001b[0m                                 Traceback (most recent call last)",
      "Cell \u001b[0;32mIn[208], line 11\u001b[0m\n\u001b[1;32m      8\u001b[0m \u001b[38;5;28mprint\u001b[39m()\n\u001b[1;32m     10\u001b[0m \u001b[38;5;28mprint\u001b[39m(\u001b[38;5;124m\"\u001b[39m\u001b[38;5;124ma * a_inv:\u001b[39m\u001b[38;5;124m\"\u001b[39m)\n\u001b[0;32m---> 11\u001b[0m mat_print(mat_prod(a, a_inv))\n\u001b[1;32m     12\u001b[0m \u001b[38;5;28mprint\u001b[39m()\n\u001b[1;32m     14\u001b[0m \u001b[38;5;28mprint\u001b[39m(\u001b[38;5;124m\"\u001b[39m\u001b[38;5;124ma_inv * a:\u001b[39m\u001b[38;5;124m\"\u001b[39m)\n",
      "Cell \u001b[0;32mIn[203], line 3\u001b[0m, in \u001b[0;36mmat_prod\u001b[0;34m(m, n)\u001b[0m\n\u001b[1;32m      1\u001b[0m \u001b[38;5;28;01mdef\u001b[39;00m \u001b[38;5;21mmat_prod\u001b[39m(m, n):\n\u001b[1;32m      2\u001b[0m     p\u001b[38;5;241m=\u001b[39m\u001b[38;5;28mlen\u001b[39m(m)\n\u001b[0;32m----> 3\u001b[0m     q\u001b[38;5;241m=\u001b[39m\u001b[38;5;28mlen\u001b[39m(n)\n\u001b[1;32m      4\u001b[0m     r\u001b[38;5;241m=\u001b[39m\u001b[38;5;28mlen\u001b[39m(m[\u001b[38;5;241m0\u001b[39m])\n\u001b[1;32m      5\u001b[0m     z\u001b[38;5;241m=\u001b[39mzero_mat(q, q)\n",
      "\u001b[0;31mTypeError\u001b[0m: object of type 'NoneType' has no len()"
     ]
    }
   ],
   "source": [
    "a = [[1, 2, 3],\n",
    "     [2, 4, 9],\n",
    "     [1, 3, 5]]\n",
    "\n",
    "a_inv = inverse_mat(a)\n",
    "\n",
    "mat_print(a_inv)\n",
    "print()\n",
    "\n",
    "print(\"a * a_inv:\")\n",
    "mat_print(mat_prod(a, a_inv))\n",
    "print()\n",
    "\n",
    "print(\"a_inv * a:\")\n",
    "mat_print(mat_prod(a_inv, a))"
   ]
  },
  {
   "cell_type": "markdown",
   "metadata": {},
   "source": [
    "正則でない場合もテストしましょう："
   ]
  },
  {
   "cell_type": "code",
   "execution_count": null,
   "metadata": {},
   "outputs": [],
   "source": [
    "m = [[1, 2, 3],\n",
    "     [9, 8, 7],\n",
    "     [1, 1, 1]]\n",
    "inverse_mat(m)"
   ]
  },
  {
   "cell_type": "markdown",
   "metadata": {},
   "source": [
    "**入門編３：おわり**"
   ]
  }
 ],
 "metadata": {
  "kernelspec": {
   "display_name": "Python [conda env:base] *",
   "language": "python",
   "name": "conda-base-py"
  },
  "language_info": {
   "codemirror_mode": {
    "name": "ipython",
    "version": 3
   },
   "file_extension": ".py",
   "mimetype": "text/x-python",
   "name": "python",
   "nbconvert_exporter": "python",
   "pygments_lexer": "ipython3",
   "version": "3.12.7"
  }
 },
 "nbformat": 4,
 "nbformat_minor": 4
}
