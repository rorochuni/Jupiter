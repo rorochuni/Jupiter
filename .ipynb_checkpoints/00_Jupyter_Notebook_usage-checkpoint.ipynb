{
 "cells": [
  {
   "cell_type": "markdown",
   "metadata": {},
   "source": [
    "# 準備編：Jupyter notebook の使い方\n",
    "## 目次\n",
    " * [はじめに](#はじめに)\n",
    " * [セル](#セル)\n",
    " * [セルの作成と削除](#セルの作成と削除)\n",
    " * [セルのタイプの切り替え](#セルのタイプの切り替え)\n",
    " * [変数や関数の有効範囲](#変数や関数の有効範囲)\n",
    " * [プログラムの中断](#プログラムの中断)\n",
    " * [セルをまとめて実行する](#セルをまとめて実行する)\n",
    " * [ノートブックの再起動](#ノートブックの再起動)\n",
    " * [その他](#その他)\n",
    "\n",
    "---\n",
    "\n",
    "### はじめに\n",
    "この授業では Jupyter notebook を使って演習を行う．\n",
    "\n",
    "Jupyter notebook は，Python（および R などいくつかの言語）のプログラムを作成・実行する道具のひとつで，\n",
    "* 課題の説明やヒントと，プログラムの部品を，ひと続きのページ上に交互に書ける\n",
    "* 書き加えたり改造したりしたプログラムや自分で書いたメモの文章は（ある程度）自動的に保存される\n",
    "* 画像や表を含めた実行結果が画面上に自動的に表示され，それらも自動的に保存される\n",
    "\n",
    "といった特徴がある．\n",
    "\n",
    "このノートブックでは Jupyter notebook の基本的な使い方を練習する．\n",
    "\n",
    "### セル\n",
    "Jupyter notebook (今見ている画面）は「セル」が並んでできている．\n",
    "\n",
    "「セル」には「コードセル」と「マークダウンセル」の2種類がある．\n",
    "\n",
    "**コードセル** には Python プログラムを書く．書いたプログラムはセルをクリックして Shift + Enter (Shift と Enter を同時に押す）または Control + Enter を押すと実行される．\n",
    "\n",
    "下には最初からプログラムが記入してあるコードセルがある．実行してみなさい．"
   ]
  },
  {
   "cell_type": "code",
   "execution_count": null,
   "metadata": {},
   "outputs": [],
   "source": [
    "x = 3\n",
    "y = 2\n",
    "print(x + y)"
   ]
  },
  {
   "cell_type": "markdown",
   "metadata": {},
   "source": [
    "上のセルでは，変数 `x` に値 3 をセットし，変数 `y` に値 2 をセットした後で，`x + y` の値を `print` 関数を用いて表示している．\n",
    "\n",
    "表示したい値がひとつだけの時は，`print` 関数を使わなくても，セルの最後に式あるいは変数を書くことでその値を表示できる．\n",
    "\n",
    "下のセルを実行すると何が表示されるでしょうか．予想してから実行して確かめなさい："
   ]
  },
  {
   "cell_type": "code",
   "execution_count": null,
   "metadata": {},
   "outputs": [],
   "source": [
    "x = 3\n",
    "y = 2\n",
    "x * y"
   ]
  },
  {
   "cell_type": "markdown",
   "metadata": {},
   "source": [
    "**マークダウンセル**には，文章を書く．\n",
    "\n",
    "今あなたが読んでいるこの部分がマークダウンセルである．\n",
    "\n",
    "マークダウンセルをダブルクリックすると，内容が書き換えられるようになる．\n",
    "\n",
    "書き換え終わったら Shift + Enter または Control + Enter を押すと通常の表示に戻る．\n",
    "\n",
    "**このセル**をダブルクリックし，適当に書き換えてから Shift + Enter または Control + Enter を押して，通常の表示に戻しなさい．"
   ]
  },
  {
   "cell_type": "markdown",
   "metadata": {},
   "source": [
    "マークダウンセルでは，**太字**による強調や\n",
    "* 箇条書きを\n",
    "* 使った\n",
    "* リストや\n",
    "\n",
    "\n",
    "1. 番号や記号を\n",
    "   1. 振った\n",
    "   2. 複雑な\n",
    "       1. 箇条書きリスト\n",
    "       \n",
    "       \n",
    "|見出しを|持つ|表|\n",
    "|--|--|--|\n",
    "|などを|書くことが|できる|\n",
    "|1000|2000|3000|\n",
    "\n",
    "強調や箇条書き・表を書くときは **markdown** 記法という文法を使う．\n",
    "\n",
    "markdown 記法の実例はこのセルをダブルクリックすれば見ることができる．\n",
    "\n",
    "markdown 記法の簡単な説明は[ここ](https://qiita.com/tbpgr/items/989c6badefff69377da7)や[ここ](https://jupyter-notebook.readthedocs.io/en/stable/examples/Notebook/Working%20With%20Markdown%20Cells.html)にある．"
   ]
  },
  {
   "cell_type": "markdown",
   "metadata": {},
   "source": [
    "### セルの作成と削除"
   ]
  },
  {
   "cell_type": "markdown",
   "metadata": {},
   "source": [
    "マークダウンセルのどれかをクリック（ダブル**ではなく**シングルクリック）し，\n",
    "\n",
    "A キーを押すと、上に空のコードセルができる（A は Above の A）\n",
    "\n",
    "B キーを押すと、下に空のコードセルができる（B は Below の B）\n",
    "\n",
    "このマークダウンセルをクリックしてから A または B キーを押して，コードセルを作り，そこに適当なプログラムを書いて，実行しなさい．"
   ]
  },
  {
   "cell_type": "markdown",
   "metadata": {},
   "source": [
    "セルの作成は，選択中のセルの右側にある四角の上または下に + のマークがあるボタンを押してもできる．"
   ]
  },
  {
   "cell_type": "markdown",
   "metadata": {},
   "source": [
    "不要になったコードセルやマークダウンセルは，クリックしてから Esc を押し，さらに dd （d を2度続けて押す）で削除できる．\n",
    "\n",
    "先ほど作ったコードセルを削除しなさい．"
   ]
  },
  {
   "cell_type": "markdown",
   "metadata": {},
   "source": [
    "### セルのタイプの切り替え"
   ]
  },
  {
   "cell_type": "markdown",
   "metadata": {},
   "source": [
    "A キーや B キーで新しく作成したセルは，コードセルになっている．\n",
    "\n",
    "これをマークダウンセルに切り替えるには\n",
    "* セルをクリックしてから Esc キーを押し，さらに m キーを押す\n",
    "* 画面の上の方にある \"Code\" と表示されているメニューから \"Markdown\" を選択する\n",
    "\n",
    "のどちらかでできる．\n",
    "\n",
    "逆に，うっかりマークダウンセルに変更してしまったセルをコードセルに戻すには\n",
    "* セルをクリックしてから y キーを押す\n",
    "* 画面の上の方にある \"Markdown\" と表示されているメニューから \"Code\" を選択する\n",
    "\n",
    "のどちらか．\n",
    "\n",
    "\"Code\" も \"Markdown\" も標示されていない人は右上の \"...\" のマークを押すと出てくる．\n",
    "\n",
    "下のセルはマークダウンセルになっているはずである．\n",
    "これをコードセルに変更してから実行しなさい："
   ]
  },
  {
   "cell_type": "markdown",
   "metadata": {},
   "source": [
    "x = 3\n",
    "y = 10\n",
    "print(x ** 10)"
   ]
  },
  {
   "cell_type": "markdown",
   "metadata": {},
   "source": [
    "### 変数や関数の有効範囲\n",
    "あるセルで定義した変数や関数は，他のセルからも使える．\n",
    "\n",
    "最初に下のセルを実行して，変数 `x` と関数 `f` を定義しなさい．"
   ]
  },
  {
   "cell_type": "code",
   "execution_count": null,
   "metadata": {},
   "outputs": [],
   "source": [
    "x = \"これは変数 x の値です\"\n",
    "\n",
    "def f(a): # 引数に1を加えて返す関数\n",
    "    return a + 1"
   ]
  },
  {
   "cell_type": "markdown",
   "metadata": {},
   "source": [
    "次に，この下のセルに `print(x)` や `print(f(3))` などの簡単な式を入力して実行し，上のセルの定義が有効であることを確認しなさい．"
   ]
  },
  {
   "cell_type": "code",
   "execution_count": null,
   "metadata": {},
   "outputs": [],
   "source": [
    "# ここに x や f() を使うプログラムを書いて実行してみなさい"
   ]
  },
  {
   "cell_type": "markdown",
   "metadata": {},
   "source": [
    "### プログラムの中断\n",
    "無限ループや，非常に長い時間がかかるプログラムをセルで実行してしまった時は上のメニューの「Kernel」から「Interrupt Kernel」を選ぶか，黒い四角■が書いてあるボタンを押すと中断できる．\n",
    "\n",
    "下のセル（無限ループします）を実行し、「Kernel」→「Interrupt Kernel」で中断してみなさい。"
   ]
  },
  {
   "cell_type": "code",
   "execution_count": null,
   "metadata": {},
   "outputs": [],
   "source": [
    "n = 0\n",
    "while True:\n",
    "    n += 1"
   ]
  },
  {
   "cell_type": "markdown",
   "metadata": {},
   "source": [
    "### セルをまとめて実行する"
   ]
  },
  {
   "cell_type": "markdown",
   "metadata": {},
   "source": [
    "コードセルに書いた変数や関数の定義は，Shift + Enter や Control + Enter で実行するまでは有効にならない．\n",
    "\n",
    "特に，いったん閉じたノートブックを（例えば家で続きをやるために）もう一度開いた場合，作成の途中だったプログラムに必要な定義はもう一度全て実行しなおす必要がある．\n",
    "\n",
    "ノートブック中のセルをまとめて実行する場合は\n",
    "* 全てのセルを続けて実行する：画面の上の方のメニューの \"Run\" から \"Run All Cells\" を選択する\n",
    "* あるセルの手前までのセルを全て実行する：画面の上の方のメニューの \"Run\" から \"Run All Above Selected Cell\" を選択する\n",
    "* あるセルから下のセルを全て実行する：画面の上の方のメニューの \"Run\" から \"Run Selected Cell and All Below\" を選択する\n",
    "などの方法がある．\n",
    "\n",
    "このノートブックで \"Run\" → \"Run All Cells\" を行うと上の無限ループのセルまでが実行されて，そこで無限ループに入るはずである．\n",
    "\n",
    "\"Run\" → \"Run All Cells\" をやってみて，上のセルの左に実行中を表す In \\[*\\] のマークが付くことを確かめてから，メニューの黒い■のボタンで実行を止めなさい．"
   ]
  },
  {
   "cell_type": "markdown",
   "metadata": {},
   "source": [
    "### ノートブックの再起動\n",
    "セルは Shift + Enter などで実行した順にその結果が蓄積する．また，同じセルを何度も実行した場合もその結果は蓄積する．\n",
    "\n",
    "例えば，まず下のセルを実行しなさい："
   ]
  },
  {
   "cell_type": "code",
   "execution_count": null,
   "metadata": {},
   "outputs": [],
   "source": [
    "x = 0"
   ]
  },
  {
   "cell_type": "markdown",
   "metadata": {},
   "source": [
    "次に，この下のセルを何度か実行し，表示結果が変化していくことを確かめなさい："
   ]
  },
  {
   "cell_type": "code",
   "execution_count": null,
   "metadata": {},
   "outputs": [],
   "source": [
    "x += 1\n",
    "print(x)"
   ]
  },
  {
   "cell_type": "markdown",
   "metadata": {},
   "source": [
    "いろいろな場所のセルを，中身を書き換えながら何度も実行していると，現在の変数のなかみがよく把握できなくなってくることがある．\n",
    "\n",
    "そのような場合には，メニューの \"Kernel\" から \"Restart\" を選択し，「Restart kernel?」というダイアログ（小さいウィンドウ）で「Restart」のボタンを押すと，何も実行されていない「まっさら」な状態からやり直すことができる．\n",
    "\n",
    "このとき，そこまで書いたプログラムやマークダウンは消えたりしない．\n",
    "なので，どうも変だな（バグではないのに）と思ったら \"Kernel\" → \"Restart\" で再起動してみるとよい．\n",
    "\n",
    "**練習**: \"Kernel\" → \"Restart\" でこのノートブックを再起動してから，「**ノートブックの再起動**」という見出しが書いてあるセルをクリックし，さらにメニューから \"Run\" → \"Run Selected Cell and All Below\" を選択して，このセルの一つ上のセルの実行結果が \"1\" に戻ることを確かめなさい．"
   ]
  },
  {
   "cell_type": "markdown",
   "metadata": {},
   "source": [
    "---\n",
    "### その他\n",
    "* 間違えて削除してしまったセルを復活させたいときは，メニューの「Edit」から「Undo Cell Operation」を選ぶ．\n",
    "* 他にも色々な機能やショートカットがある．知りたい人は後で「Help」→ 「Show Keyboard Shortcuts」，あるいはWEBなどで調べてください．"
   ]
  }
 ],
 "metadata": {
  "kernelspec": {
   "display_name": "Python [conda env:base] *",
   "language": "python",
   "name": "conda-base-py"
  },
  "language_info": {
   "codemirror_mode": {
    "name": "ipython",
    "version": 3
   },
   "file_extension": ".py",
   "mimetype": "text/x-python",
   "name": "python",
   "nbconvert_exporter": "python",
   "pygments_lexer": "ipython3",
   "version": "3.13.5"
  }
 },
 "nbformat": 4,
 "nbformat_minor": 4
}