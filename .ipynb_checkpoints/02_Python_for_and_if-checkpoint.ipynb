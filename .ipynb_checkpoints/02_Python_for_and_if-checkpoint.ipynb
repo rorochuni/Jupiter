{
 "cells": [
  {
   "cell_type": "markdown",
   "metadata": {},
   "source": [
    "# Python入門編２：for 文と if 文\n",
    "## 目次\n",
    "* [for 文](#for-文)\n",
    "  * [「0 から $n-1$ まで $n$ 回繰り返す」パターン：](#「0-から-$n-1$-まで-$n$-回繰り返す」パターン：)\n",
    "  * [「1 から $n$ まで $n$ 回繰り返す」パターン：](#「1-から-$n$-まで-$n$-回繰り返す」パターン：)\n",
    " * [練習2.1: 2乗の和](#練習2.1:-2乗の和)\n",
    " * [練習2.2: 自然対数の底](#練習2.2:-自然対数の底)\n",
    " * [練習2.3: ライプニッツの公式](#練習2.3:-ライプニッツの公式)\n",
    " * [練習2.4: ウォリスの公式](#練習2.4:-ウォリスの公式)\n",
    " * [練習2.5: バーゼル問題の公式](#練習2.5:-バーゼル問題の公式)\n",
    " * [練習2.6: ゼータ関数](#練習2.6:-ゼータ関数)\n",
    " * [練習2.7: ガウス・ルジャンドルのアルゴリズム](#練習2.7:-ガウス・ルジャンドルのアルゴリズム)\n",
    "* [if 文](#if-文)\n",
    "* [論理演算子](#論理演算子)\n",
    " * [練習2.8: FizzBuzz問題](#練習2.8:-FizzBuzz問題)\n",
    "* [if 文, for 文 と return](#if-文,-for-文-と-return)\n",
    " * [練習2.9: 素数判定](#練習2.9:-素数判定)\n",
    " * [練習2.10: 素数の数を数える](#練習2.10:-素数の数を数える)\n",
    "* [ネストしたループ（多重 for 文）](#ネストしたループ（多重-for-文）)\n",
    " * [練習2.11: 2重 for 文](#練習2.11:-2重-for-文)\n",
    " * [例題: 正方形](#例題:-正方形)\n",
    " * [練習2.12: 直角二等辺三角形](#練習2.12:-直角二等辺三角形)\n",
    " * [練習2.13: 九九表](#練習2.13:-九九表)\n",
    "* [課題提出の前の注意](#課題提出の前の注意)\n",
    " * [エクストラ課題2.14: 数字で模様を描く](#エクストラ課題2.14:-数字で模様を描く)\n",
    "\n",
    "---"
   ]
  },
  {
   "cell_type": "markdown",
   "metadata": {},
   "source": [
    "# for 文\n",
    "Python プログラムにおける繰り返し処理で最も頻繁に使うのは for 文です．\n",
    "\n",
    "for 文の使い方にはたくさんのパターンがありますが，まずは「番号 0 から $n-1$ まで $n$ 回繰り返す」または「番号 1 から $n$ まで $n$ 回繰り返す」という最も基本的なパターンを使いこなせるようになりましょう．\n",
    "\n",
    "---\n",
    "\n",
    "#### 「0 から $n-1$ まで $n$ 回繰り返す」パターン：\n",
    "```python\n",
    "for 変数 in range(0, n):\n",
    "    繰り返す処理\n",
    "```\n",
    "---\n",
    "`range(0, n)` の `n` は\n",
    "* 整数そのもの\n",
    "* 整数がセットされた変数\n",
    "\n",
    "のどちらでもOK．\n",
    "\n",
    "`for 変数 in range(0, n): ...` というパターンの場合，`for` の後に書いた変数（ループ変数）には，繰り返しごとに値 0, 1, 2, ..., n-1 がセットされます．最初の値は 1 ではなく 0 で，最後の値は n ではなく **n-1** であることに注意してください．"
   ]
  },
  {
   "cell_type": "markdown",
   "metadata": {},
   "source": [
    "例1: 以下のセルを実行すると何が表示されるか，予想してから実行して確かめなさい："
   ]
  },
  {
   "cell_type": "code",
   "execution_count": 51,
   "metadata": {},
   "outputs": [
    {
     "name": "stdout",
     "output_type": "stream",
     "text": [
      "0\n",
      "1\n",
      "2\n",
      "3\n",
      "4\n",
      "5\n",
      "6\n",
      "7\n",
      "8\n",
      "9\n"
     ]
    }
   ],
   "source": [
    "for i in range(0, 10):\n",
    "    print(i)"
   ]
  },
  {
   "cell_type": "markdown",
   "metadata": {},
   "source": [
    "---\n",
    "#### 「1 から $n$ まで $n$ 回繰り返す」パターン：\n",
    "```python\n",
    "for 変数 in range(1, n+1):\n",
    "    繰り返す処理\n",
    "```\n",
    "----\n",
    "\n",
    "この場合，`for` の後に書いたループ変数には，繰り返しごとに値 1, 2, ..., n がセットされます．\n",
    "ループ変数の最後の値を `n` とするためには，`range(1, n+1)` の第2引数は `n` ではなく `n+1` とすることに注意してください．\n",
    "\n",
    "一般に `for 変数 in range(a, b):` の場合，ループ変数には，繰り返しごとに値 a, a+1, a+2, ..., b-1 がセットされます．\n",
    "\n",
    "ただし実際にプログラムを書いていると，ほとんどの場合は「0 から n-1 まで」のループを使っていて，たまに「1 から n まで」を使うくらいであることに気がつくでしょう．"
   ]
  },
  {
   "cell_type": "markdown",
   "metadata": {},
   "source": [
    "例2：1 から $n$ までの和を求める関数"
   ]
  },
  {
   "cell_type": "code",
   "execution_count": 52,
   "metadata": {},
   "outputs": [],
   "source": [
    "def sum_upto(n):\n",
    "    s = 0 # 和をゼロで初期化\n",
    "    for k in range(1, n+1):\n",
    "        s += k\n",
    "    return s"
   ]
  },
  {
   "cell_type": "markdown",
   "metadata": {},
   "source": [
    "上のセルは $1 + 2 + \\cdots + n$ を求める関数です．`sum_upto(10)` と呼び出すと，以下と同じことが起きることになります：\n",
    "```python\n",
    "s = 0  # 初期化\n",
    "\n",
    "k = 1  # ループ変数の初期値は 1\n",
    "s += k # s = 0 + 1 = 1 になる\n",
    "\n",
    "k += 1 # ループ変数の値が 1 増えて k=2 となる\n",
    "s += k # s = 1 + 2 = 3 になる\n",
    ":\n",
    ":\n",
    "k += 1 # ループ変数の値が 1 増えて k=10 となる\n",
    "s += k # s = 1 + 2 + ... + 10 になる\n",
    "\n",
    "# ループ変数の値の上限 10 に達したのでここで繰り返しが終了\n",
    "\n",
    "return s\n",
    "```\n",
    "\n",
    "`sum_upto` の定義のセルを実行して定義を有効にし，下のセルを実行して，$1 + 2 + \\cdots + 100$ を計算してみましょう．"
   ]
  },
  {
   "cell_type": "code",
   "execution_count": 53,
   "metadata": {},
   "outputs": [
    {
     "data": {
      "text/plain": [
       "5050"
      ]
     },
     "execution_count": 53,
     "metadata": {},
     "output_type": "execute_result"
    }
   ],
   "source": [
    "sum_upto(100)"
   ]
  },
  {
   "cell_type": "markdown",
   "metadata": {},
   "source": [
    "答えが正しいかどうか，公式\n",
    "$$\n",
    "1 + 2 + \\cdots + n = \\frac{n(n+1)}{2}\n",
    "$$\n",
    "を使って検算してみましょう："
   ]
  },
  {
   "cell_type": "code",
   "execution_count": 54,
   "metadata": {},
   "outputs": [
    {
     "data": {
      "text/plain": [
       "5050"
      ]
     },
     "execution_count": 54,
     "metadata": {},
     "output_type": "execute_result"
    }
   ],
   "source": [
    "100 * (100 + 1) // 2"
   ]
  },
  {
   "cell_type": "markdown",
   "metadata": {},
   "source": [
    "### 練習2.1: 2乗の和\n",
    "for 文を使って $1^2 + 2^2 + \\cdots + n^2$ を計算する関数 `square_sum_upto(n)` を定義し，公式 $1^2 + 2^2 + \\cdots + n^2 = \\frac{n(n+1)(2n+1)}{6}$ の結果と比べて検算しなさい．"
   ]
  },
  {
   "cell_type": "code",
   "execution_count": 55,
   "metadata": {},
   "outputs": [],
   "source": [
    "def square_sum_upto(n):\n",
    "    # *** 実装しなさい ***\n",
    "    s=0\n",
    "    for i in range(1,n+1):\n",
    "        s+=i*i\n",
    "    return s"
   ]
  },
  {
   "cell_type": "code",
   "execution_count": 56,
   "metadata": {},
   "outputs": [
    {
     "data": {
      "text/plain": [
       "338350"
      ]
     },
     "execution_count": 56,
     "metadata": {},
     "output_type": "execute_result"
    }
   ],
   "source": [
    "square_sum_upto(100)"
   ]
  },
  {
   "cell_type": "code",
   "execution_count": 57,
   "metadata": {},
   "outputs": [
    {
     "data": {
      "text/plain": [
       "338350"
      ]
     },
     "execution_count": 57,
     "metadata": {},
     "output_type": "execute_result"
    }
   ],
   "source": [
    "n = 100\n",
    "n * (n + 1) * (2 * n + 1) // 6"
   ]
  },
  {
   "cell_type": "markdown",
   "metadata": {},
   "source": [
    "### 練習2.2: 自然対数の底\n",
    "指数関数 $e^x$ のマクローリン展開から得られる\n",
    "<!--\n",
    "$$\n",
    "e^x = 1 + \\frac{1}{1!}x + \\frac{1}{2!}x^2 + \\frac{1}{3!}x^3 + \\cdots + \\frac{1}{n!}x^n + \\cdots\n",
    "$$\n",
    "に $x = 1$ を代入した\n",
    "-->\n",
    "$$\n",
    "e = 1 + \\frac{1}{1!} + \\frac{1}{2!} + \\frac{1}{3!} + \\cdots + \\frac{1}{n!} + \\cdots\n",
    "$$\n",
    "\n",
    "を第$(n+1)$項まで計算する関数 `napier(n)` を実装しなさい．\n",
    "\n",
    "ヒント1：級数の和を 1 で初期化しておいて，for 文では第$2$項目の $\\dfrac{1}{1!}$ から第$(n+1)$項目の $\\dfrac{1}{n!}$ までを順番に足し込んでいくと簡単．\n",
    "\n",
    "ヒント2：「階乗を計算する関数」を定義してもよいが，$k\\ge 2$ に対しては第$k$項目 = 第$(k-1)$項目 ÷ $(k-1)$ を使えばもっと簡単．\n",
    "\n",
    "ヒント3：よく分からなくなったら紙と鉛筆を出して以下を書き出してみなさい\n",
    "* ループ変数を `k` として，`k` をどの範囲で動かせばいいか\n",
    "* その範囲で `k` を動かすには，`for k in range(a, b):` の `a, b` をどうすればいいか\n",
    "* `k` のそれぞれの値に対して，どういう計算をすればいいか"
   ]
  },
  {
   "cell_type": "code",
   "execution_count": 58,
   "metadata": {},
   "outputs": [],
   "source": [
    "# 1 + 1/1! + 1/2! + ... + 1/n! を計算する\n",
    "def napier(n):\n",
    "    # *** 実装しなさい ***\n",
    "    a=1\n",
    "    f=1\n",
    "    for i in range (1,n+1):\n",
    "        f=f*i\n",
    "        a+=1/f\n",
    "    return a"
   ]
  },
  {
   "cell_type": "markdown",
   "metadata": {},
   "source": [
    "さらにヒント（ダブルクリックで表示）\n",
    "<!--\n",
    "\n",
    "n = 3 の場合にすべき計算をループを使わずに書けば以下のようになる．\n",
    "これを for ループを使って書き直し，どんな n でも動くようにすれば良い．\n",
    "---\n",
    "f = 1.0 # 第k項の値を k=1 の場合の値つまり 1 で初期化\n",
    "s = f   # 第k項までの和を k=1 の場合の値で初期化\n",
    "\n",
    "# 以下，k = 2, 3, 4 (= n+1) に対して第k項目の値を s に足し込む\n",
    "\n",
    "k = 2        # ループ変数を初期化\n",
    "f /= (k - 1) # 第 k 項目 = 第(k-1)項目/(k-1)\n",
    "s += f       # 和に第 k 項目を足す\n",
    "\n",
    "k += 1       # ループ変数を 1 増やす（for 文を使えば自動的にそうなる）\n",
    "f /= (k - 1) # 第 k 項目 = 第(k-1)項目/(k-1)\n",
    "s += f       # 和に第 k 項目を足す\n",
    "\n",
    "k += 1       # ループ変数を 1 増やす（for 文を使えば自動的にそうなる）\n",
    "f /= (k - 1) # 第 k 項目 = 第(k-1)項目/(k-1)\n",
    "s += f       # 和に第 k 項目を足す\n",
    "\n",
    "# k が上限 n+1(=4) に達したのでここで繰り返し終了\n",
    "\n",
    "return s     # 結果を返す\n",
    "-->"
   ]
  },
  {
   "cell_type": "markdown",
   "metadata": {},
   "source": [
    "少しテストしましょう（何も表示されなければ OK；誤っている場合はエラーメッセージが表示される）"
   ]
  },
  {
   "cell_type": "code",
   "execution_count": 59,
   "metadata": {},
   "outputs": [],
   "source": [
    "assert napier(0) == 1\n",
    "assert napier(1) == 2\n",
    "assert napier(2) == 2.5"
   ]
  },
  {
   "cell_type": "markdown",
   "metadata": {},
   "source": [
    "`napier` を用いて，$n = 1, 10, 100, \\dots, 10^6$ のそれぞれについて自然対数の底 $e$ の近似値 `napier(n)` を求めてみましょう："
   ]
  },
  {
   "cell_type": "code",
   "execution_count": 60,
   "metadata": {},
   "outputs": [
    {
     "name": "stdout",
     "output_type": "stream",
     "text": [
      "2.0\n",
      "2.7182818011463845\n",
      "2.7182818284590455\n",
      "2.7182818284590455\n",
      "2.7182818284590455\n",
      "2.7182818284590455\n"
     ]
    }
   ],
   "source": [
    "for n in range (0,6):\n",
    "    w=10**n\n",
    "    print(napier(w)) ## n = 10 ** e"
   ]
  },
  {
   "cell_type": "markdown",
   "metadata": {},
   "source": [
    "$e = 2.7182818284590452353\\cdots$ なので，前回の練習で計算した $\\displaystyle e = \\lim_{n\\rightarrow\\infty}\\left(1+\\frac{1}{n}\\right)$ にもとづく方法よりも大分はやく収束していることが分かる．"
   ]
  },
  {
   "cell_type": "markdown",
   "metadata": {},
   "source": [
    "### 練習2.3: ライプニッツの公式\n",
    "ライプニッツの公式\n",
    "$$\n",
    "\\frac{\\pi}{4} = 1 - \\frac{1}{3} + \\frac{1}{5} - \\frac{1}{7} + \\cdots\n",
    "$$\n",
    "\n",
    "を用いて右辺の第 $n$ 項までの和を用いて円周率 $\\pi = 3.14159 26535 89793 23846\\cdots$ の近似値を計算する関数 `leibniz(n)` を実装しなさい．"
   ]
  },
  {
   "cell_type": "markdown",
   "metadata": {},
   "source": [
    "符号についてヒント（ダブルクリックで開く）\n",
    "<!--\n",
    "ループ１回ごとに項の符号を\n",
    "\n",
    "　　+1 -> -1 -> +1 -> -1 -> ...\n",
    "\n",
    "と切り替えるには，ループの外（for文の前）で符号を表す変数 sign を\n",
    "\n",
    "　　sign = 1\n",
    "\n",
    "と初期化し，ループの中で\n",
    "\n",
    "　　sign *= -1\n",
    "\n",
    "とすればよい．\n",
    "\n",
    "和をセットする変数に\n",
    "\n",
    "   和 += sign * 1 / 奇数\n",
    "\n",
    "の形で項の値を足し込んでいく場合は，足し込んだ「後で」\n",
    "\n",
    "   sign *= -1\n",
    "\n",
    "をすることに注意．\n",
    "-->"
   ]
  },
  {
   "cell_type": "code",
   "execution_count": 61,
   "metadata": {},
   "outputs": [],
   "source": [
    "def leibniz(n):\n",
    "    # *** 実装しなさい ***\n",
    "    p=0\n",
    "    for i in range (1,n+1):\n",
    "        if i%4==1:\n",
    "            p+=1/i\n",
    "        elif i%4==3:\n",
    "            p-=1/i\n",
    "    return 4*p"
   ]
  },
  {
   "cell_type": "markdown",
   "metadata": {},
   "source": [
    "`leibniz` を用いて，入力 $n = 1, 10, 100, \\dots, 10^7$ のそれぞれについて $\\pi$ の近似値を求めて `print` で表示しなさい："
   ]
  },
  {
   "cell_type": "code",
   "execution_count": 62,
   "metadata": {},
   "outputs": [
    {
     "name": "stdout",
     "output_type": "stream",
     "text": [
      "4.0\n",
      "3.3396825396825403\n",
      "3.121594652591011\n",
      "3.139592655589785\n",
      "3.141392653591791\n",
      "3.1415726535897814\n",
      "3.141590653589692\n",
      "3.1415924535897797\n"
     ]
    }
   ],
   "source": [
    "# *** 実装しなさい ***\n",
    "for r in range (0,8):\n",
    "    print(leibniz(10**r))"
   ]
  },
  {
   "cell_type": "markdown",
   "metadata": {},
   "source": [
    "### 練習2.4: ウォリスの公式\n",
    "ウォリスの公式\n",
    "$$\n",
    "\\frac{\\pi}{2} = \\frac{2}{1}\\cdot\\frac{2}{3}\\cdot\n",
    "                \\frac{4}{3}\\cdot\\frac{4}{5}\\cdot\n",
    "                \\frac{6}{5}\\cdot\\frac{6}{7}\\cdot\n",
    "                \\frac{8}{7}\\cdot\\frac{8}{9}\\cdots\n",
    "$$\n",
    "\n",
    "を用いて右辺の第 $2n$ 番目の分数までの積を用いて $\\pi$ の近似値を計算する関数 `wallis(n)` を実装しなさい．\n",
    "\n",
    "ヒント：右辺の分数を繰り返し一回につき2つずつ計算するのが簡単．"
   ]
  },
  {
   "cell_type": "code",
   "execution_count": 63,
   "metadata": {},
   "outputs": [],
   "source": [
    "def wallis(n):\n",
    "    # *** 実装しなさい ***\n",
    "    s=1\n",
    "    t=1\n",
    "    for i in range (1,2*n+1):\n",
    "        if i%2==1:\n",
    "            s=s*(i+1)/i\n",
    "        else:\n",
    "            t=t*i/(i+1)\n",
    "    return s*t*2"
   ]
  },
  {
   "cell_type": "markdown",
   "metadata": {},
   "source": [
    "`wallis` を用いて，入力 $n = 1, 10, 100, \\dots, 10^7$ のそれぞれについて $\\pi$ の近似値を求めて `print` で表示しなさい："
   ]
  },
  {
   "cell_type": "code",
   "execution_count": 64,
   "metadata": {},
   "outputs": [
    {
     "name": "stdout",
     "output_type": "stream",
     "text": [
      "2.6666666666666665\n",
      "3.0677038066434994\n",
      "3.1337874906281633\n",
      "3.1408077460304034\n",
      "3.1415141186819584\n",
      "3.141584799657332\n",
      "3.141591868192461\n",
      "3.141592575050251\n"
     ]
    }
   ],
   "source": [
    "# *** 実装しなさい ***\n",
    "for a in range (0,8):\n",
    "    print(wallis(10**a))"
   ]
  },
  {
   "cell_type": "markdown",
   "metadata": {},
   "source": [
    "### 練習2.5: バーゼル問題の公式\n",
    "バーゼル問題の公式\n",
    "$$\n",
    "\\frac{\\pi^2}{6} = \\frac{1}{1^2} + \\frac{1}{2^2} + \\frac{1}{3^2} + \\frac{1}{4^2} + \\cdots\n",
    "$$\n",
    "\n",
    "を用いて右辺の第 $n$ 項までの和を用いて $\\pi$ の近似値を計算する関数 `basel(n)` を実装しなさい．\n",
    "\n",
    "ヒント：`a ** 0.5` で `a` の平方根が計算できるから，$\\dfrac{\\pi^2}{6}$ の近似値から $\\pi$ の近似値を得るには...?"
   ]
  },
  {
   "cell_type": "code",
   "execution_count": 65,
   "metadata": {},
   "outputs": [],
   "source": [
    "def basel(n):\n",
    "    # *** 実装しなさい ***\n",
    "    t=0\n",
    "    for i in range (1,n+1):\n",
    "        t+=1/(i**2)\n",
    "    return (6*t)**0.5"
   ]
  },
  {
   "cell_type": "markdown",
   "metadata": {},
   "source": [
    "`basel` を用いて，入力 $n = 1, 10, 100, \\dots, 10^7$ のそれぞれについて $\\pi$ の近似値を求めて `print` で表示しなさい："
   ]
  },
  {
   "cell_type": "code",
   "execution_count": 66,
   "metadata": {},
   "outputs": [
    {
     "name": "stdout",
     "output_type": "stream",
     "text": [
      "2.449489742783178\n",
      "3.04936163598207\n",
      "3.1320765318091053\n",
      "3.1406380562059946\n",
      "3.1414971639472147\n",
      "3.141583104326456\n",
      "3.1415916986605086\n",
      "3.1415925580959025\n"
     ]
    }
   ],
   "source": [
    "# *** 実装しなさい ***\n",
    "for x in range (0,8):\n",
    "    print(basel(10**x))"
   ]
  },
  {
   "cell_type": "markdown",
   "metadata": {},
   "source": [
    "### 練習2.6: ゼータ関数\n",
    "ゼータ関数の値 $\\zeta(4)$ の式\n",
    "$$\n",
    "\\zeta(4) = \\frac{\\pi^4}{90} = \\frac{1}{1^4} + \\frac{1}{2^4} + \\frac{1}{3^4} + \\frac{1}{4^4} + \\cdots\n",
    "$$\n",
    "\n",
    "を用いて右辺の第 $n$ 項までの和として $\\pi$ の近似値を計算する関数 `zeta4(n)` を実装しなさい．"
   ]
  },
  {
   "cell_type": "code",
   "execution_count": 67,
   "metadata": {},
   "outputs": [],
   "source": [
    "def zeta4(n):\n",
    "    # *** 実装しなさい ***\n",
    "    z=0\n",
    "    for i in range (1,n+1):\n",
    "        z+=1/(i**4)\n",
    "    return (90*z)**0.25"
   ]
  },
  {
   "cell_type": "markdown",
   "metadata": {},
   "source": [
    "`zeta4` を用いて，入力 $n = 1, 10, 100, \\dots, 10^7$ のそれぞれについて $\\pi$ の近似値を求めて `print` で表示しなさい："
   ]
  },
  {
   "cell_type": "code",
   "execution_count": 68,
   "metadata": {},
   "outputs": [
    {
     "name": "stdout",
     "output_type": "stream",
     "text": [
      "3.080070288241023\n",
      "3.1413846224669713\n",
      "3.1415924153073678\n",
      "3.1415926533482703\n",
      "3.141592653589592\n",
      "3.141592653589592\n",
      "3.141592653589592\n",
      "3.141592653589592\n"
     ]
    }
   ],
   "source": [
    "# *** 実装しなさい ***\n",
    "for t in range (0,8):\n",
    "    print(zeta4(10**t))"
   ]
  },
  {
   "cell_type": "markdown",
   "metadata": {},
   "source": [
    "### 練習2.7: ガウス・ルジャンドルのアルゴリズム\n",
    "\n",
    "数列 $\\{a_n\\}, \\{b_n\\}, \\{t_n\\}, \\{p_n\\}$ を以下のように定める．\n",
    "\n",
    "初項：\n",
    "$$\n",
    "a_0 = 1, \\;\\; b_0 = \\frac{1}{\\sqrt{2}}, \\;\\; t_0 = \\frac{1}{4}, \\;\\; p_0 = 1\n",
    "$$\n",
    "\n",
    "漸化式：\n",
    "$$\n",
    "\\begin{align}\n",
    "a_{k+1} &= \\frac{a_k + b_k}{2} \\\\\n",
    "b_{k+1} &= \\sqrt{a_k b_k} \\\\\n",
    "t_{k+1} &= t_k - p_k(a_k - a_{k+1})^2 \\\\\n",
    "p_{k+1} &= 2 p_k\n",
    "\\end{align}\n",
    "$$\n",
    "\n",
    "円周率 $\\pi$ は以下のように近似できる：\n",
    "$$\n",
    "\\pi \\approx \\frac{(a_n + b_n)^2}{4 t_n}\n",
    "$$\n",
    "\n",
    "与えられた $n$ に対する上記の近似値を求める関数 `gauss_legendre(n)` を実装しなさい．"
   ]
  },
  {
   "cell_type": "code",
   "execution_count": 69,
   "metadata": {},
   "outputs": [
    {
     "name": "stdout",
     "output_type": "stream",
     "text": [
      "3.1405792505221686\n",
      "3.141592646213543\n",
      "3.141592653589794\n",
      "3.141592653589794\n",
      "3.141592653589794\n"
     ]
    }
   ],
   "source": [
    "def gauss_legendre(n):\n",
    "    # *** 実装しなさい ***\n",
    "    a=1\n",
    "    b=1/(2**0.5)\n",
    "    t=1/4\n",
    "    p=1\n",
    "    for i in range (0,n):\n",
    "        anext=(a+b)/2\n",
    "        bnext=(a*b)**0.5\n",
    "        tnext=t-p*(a-anext)**2\n",
    "        pnext=2*p\n",
    "        a=anext\n",
    "        b=bnext\n",
    "        t=tnext\n",
    "        p=pnext\n",
    "    return (a+b)**2/(4*t)\n",
    "    \n",
    "# n = 1, 2, 3, 4, 5 について近似値を表示する    \n",
    "for n in range(1, 5+1):\n",
    "    print(gauss_legendre(n))"
   ]
  },
  {
   "cell_type": "markdown",
   "metadata": {},
   "source": [
    "ヒント（ダブルクリックで表示）\n",
    "<!--\n",
    "\n",
    "以下のように考えればよい\n",
    "\n",
    "* 4つの数列の項を表す変数 a, b, c, d を用意し，初項の定義どおりに初期化する\n",
    "\n",
    "* k = 1, 2, ..., n まで動かす for 文を書く\n",
    "\n",
    "* for 文の各ループでは数列の第k項を計算し，a, b, c, d にセットする\n",
    "\n",
    "* ただし，例えば a の第k項を計算するときに\n",
    "\n",
    "  a = (a + b) / 2\n",
    "\n",
    "  としてしまうと，b の第k項の計算に必要な a_{k-1} の値（つまり１ステップ前の a の値）を上書きしてしまうので，一旦べつの変数に保存する．すなわち\n",
    "\n",
    "  a_next = (a + b) / 2\n",
    "  b_next = ...\n",
    "  c_next = ...\n",
    "  d_next = ...\n",
    "\n",
    "  のように，a, b, c, d とは別の名前の変数に次の項の値をセットした後で\n",
    "\n",
    "  a = a_next\n",
    "  b = b_next\n",
    "  ...\n",
    "\n",
    "  のように，次のループで使うための a, b, c, d の値をセットする．\n",
    "\n",
    "* for ループが終わったときの a, b, c, d が，それぞれの数列の第n項になっているはずである\n",
    "\n",
    "-->"
   ]
  },
  {
   "cell_type": "markdown",
   "metadata": {},
   "source": [
    "# if 文\n",
    "Python では，場合分けを `if` 文で行う．\n",
    "\n",
    "if 文のもっとも簡単な形は以下のもの：\n",
    "```python\n",
    "if 条件式:\n",
    "    条件成立時の処理\n",
    "```\n",
    "\n",
    "条件式の後にコロン `:` が必要なことに注意する．\n",
    "\n",
    "以下のプログラムは `n` がゼロより大きい時 \"Positive!\" と表示し，それ以外のときは何も表示しない："
   ]
  },
  {
   "cell_type": "code",
   "execution_count": 70,
   "metadata": {},
   "outputs": [
    {
     "name": "stdout",
     "output_type": "stream",
     "text": [
      "Positive!\n"
     ]
    }
   ],
   "source": [
    "n = 10\n",
    "\n",
    "if n > 0:\n",
    "    print(\"Positive!\")"
   ]
  },
  {
   "cell_type": "markdown",
   "metadata": {},
   "source": [
    "`n` に負の値をセットしたときは何も表示されないことを確認すること．"
   ]
  },
  {
   "cell_type": "markdown",
   "metadata": {},
   "source": [
    "---\n",
    "「条件が成り立った場合は○○，成り立たない場合は△△の処理をする」という場合も多い．そのような場合は `else` を使って以下のように場合分けをする：\n",
    "```python\n",
    "if 条件式:\n",
    "    条件が成立する場合の処理\n",
    "else:\n",
    "    条件が成立しない場合の処理\n",
    "```\n",
    "\n",
    "`else` の直後には `:` が必要なこと，また `if` と `else` はインデント（字下げ）の深さを同じにしなければいけないことに注意．\n",
    "\n",
    "以下のセルで，$n > 0$ の場合とそれ以外で異なる文字列が表示されることを確かめること："
   ]
  },
  {
   "cell_type": "code",
   "execution_count": 71,
   "metadata": {},
   "outputs": [
    {
     "name": "stdout",
     "output_type": "stream",
     "text": [
      "Positive!\n"
     ]
    }
   ],
   "source": [
    "n = 3\n",
    "\n",
    "if n > 0:\n",
    "    print(\"Positive!\")\n",
    "else:\n",
    "    print(\"Not Positive!\")"
   ]
  },
  {
   "cell_type": "markdown",
   "metadata": {},
   "source": [
    "----\n",
    "さらに条件が複雑で\n",
    "* 条件Aが成り立った場合は処理Aを行う\n",
    "* それ以外で，条件Bが成り立つ場合は処理Bを行う\n",
    "* それ以外で，条件Cが成り立つ場合は処理Cを行う\n",
    "* 条件A, B, C のどれも成り立たない場合は処理Dを行う\n",
    "\n",
    "のような場合は `elif` および `else` を用いて\n",
    "```python\n",
    "if 条件A:\n",
    "    処理A\n",
    "elif 条件B:\n",
    "    処理B\n",
    "elif 条件C:\n",
    "    処理C\n",
    "else:\n",
    "    処理D\n",
    "```\n",
    "のように書く．`elif` から始まる行は，条件の後で `elif 条件:` のようにコロンが必要なことに注意．\n",
    "\n",
    "上の例では2つの `elif` を使っているが，`elif` はいくつ続いてもよい．\n",
    "\n",
    "以下のセルの `n = 0` のところを書き換えて，$n>0$，$n<0$，$n=0$ の3つの場合でそれぞれ異なる文字列が表示されることを確かめること："
   ]
  },
  {
   "cell_type": "code",
   "execution_count": 72,
   "metadata": {},
   "outputs": [
    {
     "name": "stdout",
     "output_type": "stream",
     "text": [
      "Positive!\n"
     ]
    }
   ],
   "source": [
    "n = 5\n",
    "\n",
    "if n > 0:\n",
    "    print(\"Positive!\")\n",
    "elif n < 0:\n",
    "    print(\"Negative!\")\n",
    "else:\n",
    "    print(\"Zero!\")"
   ]
  },
  {
   "cell_type": "markdown",
   "metadata": {},
   "source": [
    "---\n",
    "# 論理演算子\n",
    "`if` 文の条件式には，`<`, `>`, `<=`, `>=`, `==` などの関係演算子だけでなく，それらを `and` や `or` の論理演算子で結合した式が書ける．\n",
    "\n",
    "（注意：C言語の論理演算子 `||` や `&&` は `and` `or` の代わりには**使えない**）\n",
    "\n",
    "数値に対する関係演算子はC言語のものと同じ：\n",
    "* `a < b` ... a は b よりも小さい\n",
    "* `a > b` ... a は b よりも大きい\n",
    "* `a >= b` ... a は b 以上\n",
    "* `a <= b` ... a は b 以下\n",
    "* `a == b` ... a は b と値が等しい\n",
    "* `a != b` ... a は b と値が等しくない\n",
    "\n",
    "論理演算子は以下の3種類：\n",
    "* `X and Y` ... X かつ Y\n",
    "* `X or Y` ... X または Y\n",
    "* `not X` ... X でない（否定）\n",
    "\n",
    "C言語のように，if 文の条件式をいちいち `if (a < b):` のように括弧に入れる必要はない．\n",
    "\n",
    "また，`0 < x < 10` のように複数の関係演算子を組合せて自然に条件が書ける．\n",
    "\n",
    "関係演算子やそれを `and` `or` `not` で組み合わせた条件式は，bool型の値をもち，条件が成り立つときの値は `True`，成り立たないときの値は `False` である．"
   ]
  },
  {
   "cell_type": "markdown",
   "metadata": {},
   "source": [
    "以下のいくつかのセルの条件式の値を予想してから実行して確かめなさい．"
   ]
  },
  {
   "cell_type": "code",
   "execution_count": 73,
   "metadata": {},
   "outputs": [
    {
     "data": {
      "text/plain": [
       "True"
      ]
     },
     "execution_count": 73,
     "metadata": {},
     "output_type": "execute_result"
    }
   ],
   "source": [
    "a = 5\n",
    "b = 3\n",
    "\n",
    "a < 10 and 1 < b"
   ]
  },
  {
   "cell_type": "code",
   "execution_count": 74,
   "metadata": {},
   "outputs": [
    {
     "data": {
      "text/plain": [
       "False"
      ]
     },
     "execution_count": 74,
     "metadata": {},
     "output_type": "execute_result"
    }
   ],
   "source": [
    "a % 2 == 0 or b % 2 == 0"
   ]
  },
  {
   "cell_type": "code",
   "execution_count": 75,
   "metadata": {},
   "outputs": [
    {
     "data": {
      "text/plain": [
       "True"
      ]
     },
     "execution_count": 75,
     "metadata": {},
     "output_type": "execute_result"
    }
   ],
   "source": [
    "not (a < b)"
   ]
  },
  {
   "cell_type": "markdown",
   "metadata": {},
   "source": [
    "**注意**: ときどき，if 文で条件判定する際に `if 条件 == True:` のように書く人がいるが，これは無駄だし思わぬバグの原因になるので，単に `if 条件:` のように書く方がよい．例えば以下のセルを実行したときに何が出力されるか予想してから確かめてみよ．"
   ]
  },
  {
   "cell_type": "code",
   "execution_count": 76,
   "metadata": {},
   "outputs": [
    {
     "name": "stdout",
     "output_type": "stream",
     "text": [
      "N\n",
      "Y\n"
     ]
    }
   ],
   "source": [
    "x = 1\n",
    "\n",
    "# よくない書き方\n",
    "if x > 0 == True:\n",
    "    print(\"Y\")\n",
    "else:\n",
    "    print(\"N\")\n",
    "\n",
    "# よい書き方\n",
    "if x > 0:\n",
    "    print(\"Y\")\n",
    "else:\n",
    "    print(\"N\")"
   ]
  },
  {
   "cell_type": "markdown",
   "metadata": {},
   "source": [
    "---\n",
    "### 練習2.8: FizzBuzz問題\n",
    "\n",
    "1 から $n$ までの整数を順に，一行にひとつづつ出力していくとする．ただし，\n",
    "* 数が 3 で割り切れる場合は，数の代わりに文字列 \"Fizz\" を出力する\n",
    "* 数が 5 で割り切れる場合は，数の代わりに文字列 \"Buzz\" を出力する\n",
    "* ただし，数が 3 でも 5 でも割り切れる場合には，数の代わりに文字列 \"Fizz Buzz\" を出力する（Fizz と Buzz の間は半角スペースひとつ．全角スペース（日本語の空白）と間違えないように）\n",
    "\n",
    "例えば $n = 6$ のときは，\n",
    "```\n",
    "1\n",
    "2\n",
    "Fizz\n",
    "4\n",
    "Buzz\n",
    "Fizz\n",
    "```\n",
    "が正しい出力となる．文字列を出力するには `print(\"Fizz\")` などとすればよい．\n",
    "\n",
    "引数として正の整数 $n$ を受け取り，1 から $n$ までについて上のルールで出力を行う関数 `fizzbuzz(n)` を書きなさい："
   ]
  },
  {
   "cell_type": "code",
   "execution_count": 77,
   "metadata": {},
   "outputs": [],
   "source": [
    "# *** 実装しなさい ***\n",
    "def fizzbuzz(n):\n",
    "    for i in range (1,n+1):\n",
    "        if i%15==0:\n",
    "            print(\"Fizz Buzz\")\n",
    "        elif i%5==0:\n",
    "            print(\"Buzz\")\n",
    "        elif i%3==0:\n",
    "            print(\"Fizz\")\n",
    "        else:\n",
    "            print(i)"
   ]
  },
  {
   "cell_type": "markdown",
   "metadata": {},
   "source": [
    "実装できたら $n = 30$ に対して実行してみなさい："
   ]
  },
  {
   "cell_type": "code",
   "execution_count": 78,
   "metadata": {},
   "outputs": [
    {
     "name": "stdout",
     "output_type": "stream",
     "text": [
      "1\n",
      "2\n",
      "Fizz\n",
      "4\n",
      "Buzz\n",
      "Fizz\n",
      "7\n",
      "8\n",
      "Fizz\n",
      "Buzz\n",
      "11\n",
      "Fizz\n",
      "13\n",
      "14\n",
      "Fizz Buzz\n",
      "16\n",
      "17\n",
      "Fizz\n",
      "19\n",
      "Buzz\n",
      "Fizz\n",
      "22\n",
      "23\n",
      "Fizz\n",
      "Buzz\n",
      "26\n",
      "Fizz\n",
      "28\n",
      "29\n",
      "Fizz Buzz\n"
     ]
    }
   ],
   "source": [
    "fizzbuzz(30)"
   ]
  },
  {
   "cell_type": "markdown",
   "metadata": {},
   "source": [
    "正しく実装できていそうだったら，以下のセルを実行してテストしなさい（このセルの中身について理解する必要はない）："
   ]
  },
  {
   "cell_type": "code",
   "execution_count": 79,
   "metadata": {},
   "outputs": [
    {
     "name": "stdout",
     "output_type": "stream",
     "text": [
      "正しい出力です\n"
     ]
    }
   ],
   "source": [
    "orig_print = print\n",
    "try:\n",
    "    with open(\"tmp-fizzbuzz-out.txt\", \"w\") as out:\n",
    "        print = lambda *xs: orig_print(*xs, file=out)\n",
    "        fizzbuzz(30)\n",
    "finally:\n",
    "    print = orig_print\n",
    "\n",
    "ans = \"1\\n2\\nFizz\\n4\\nBuzz\\nFizz\\n7\\n8\\nFizz\\nBuzz\\n11\\nFizz\\n13\\n14\\nFizz Buzz\\n16\\n17\\nFizz\\n19\\nBuzz\\nFizz\\n22\\n23\\nFizz\\nBuzz\\n26\\nFizz\\n28\\n29\\nFizz Buzz\\n\"\n",
    "\n",
    "with open(\"tmp-fizzbuzz-out.txt\") as f:\n",
    "    output = f.read()\n",
    "    \n",
    "if ans == output:\n",
    "    print(\"正しい出力です\")\n",
    "else:\n",
    "    print(\"間違いがあります\")"
   ]
  },
  {
   "cell_type": "markdown",
   "metadata": {},
   "source": [
    "## if 文, for 文 と return\n",
    "関数の中では，if 文や for 文の中でも `return x` とすれば，そこで関数の実行を止めて値 `x` を返すことができます．\n",
    "\n",
    "例："
   ]
  },
  {
   "cell_type": "code",
   "execution_count": 80,
   "metadata": {},
   "outputs": [],
   "source": [
    "def what_to_say(n):\n",
    "    if n % 15 == 0:\n",
    "        return \"Fizz Buzz\" # 文字列 \"Fizz Buzz\" を返す\n",
    "    \n",
    "    if n % 3 == 0:\n",
    "        return \"Fizz\" # 文字列 \"Fizz\" を返す\n",
    "    \n",
    "    if n % 5 == 0:\n",
    "        return \"Buzz\" # 文字列 \"Buzz\" を返す\n",
    "    \n",
    "    # ここまで実行されたということは\n",
    "    # n は 3 の倍数でも 5 の倍数でもない\n",
    "    return n # 入力された数字をそのまま返す   "
   ]
  },
  {
   "cell_type": "markdown",
   "metadata": {},
   "source": [
    "関数 `what_to_say` に数 `n` を入力すれば，その数のときに \"Fizz Buzz ゲーム\" で言うべきことが返ってきます．\n",
    "\n",
    "**ミニ練習**： `what_to_say` を使って `fizzbuzz` 関数と同じ動きをする別のバージョン `fizzbuzz2` を実装しなさい："
   ]
  },
  {
   "cell_type": "code",
   "execution_count": 81,
   "metadata": {},
   "outputs": [],
   "source": [
    "def fizzbuzz2(n):\n",
    "    # *** 実装しなさい (2行で書けるはず) ***\n",
    "    for i in range (1,n+1):\n",
    "        print(what_to_say(i))"
   ]
  },
  {
   "cell_type": "markdown",
   "metadata": {},
   "source": [
    "fizzbuzz2 をテストしてみなさい："
   ]
  },
  {
   "cell_type": "code",
   "execution_count": 82,
   "metadata": {},
   "outputs": [
    {
     "name": "stdout",
     "output_type": "stream",
     "text": [
      "1\n",
      "2\n",
      "Fizz\n",
      "4\n",
      "Buzz\n",
      "Fizz\n",
      "7\n",
      "8\n",
      "Fizz\n",
      "Buzz\n",
      "11\n",
      "Fizz\n",
      "13\n",
      "14\n",
      "Fizz Buzz\n",
      "16\n",
      "17\n",
      "Fizz\n",
      "19\n",
      "Buzz\n",
      "Fizz\n",
      "22\n",
      "23\n",
      "Fizz\n",
      "Buzz\n",
      "26\n",
      "Fizz\n",
      "28\n",
      "29\n",
      "Fizz Buzz\n"
     ]
    }
   ],
   "source": [
    "fizzbuzz2(30)"
   ]
  },
  {
   "cell_type": "markdown",
   "metadata": {},
   "source": [
    "---\n",
    "### 練習2.9: 素数判定\n",
    "正の整数 `n` を受け取り，`n` が素数なら `True`, それ以外ならば `False` を返す関数 `is_prime(n)` を実装しなさい．\n",
    "\n",
    "ヒント：\n",
    "* $n \\le 1$ ならば素数ではない\n",
    "* $n$ が $2, 3, 4, 5, 6, \\dots, n-1$ のいずれでも割り切れなければ $n$ は素数である\n",
    "  * $n$ が $m$ で割り切れる $\\Leftrightarrow$ $n$ を $m$ で割った余りはゼロ $\\Leftrightarrow$ `n % m == 0` である\n",
    "* $n$ が $2, 3, 4, ..., m$ のいずれでも割り切れず，かつ，$m^2 > n$ ならば $n$ は $m+1, m+2, \\dots, n-1$ のいずれでも割り切れない [なぜでしょう？]"
   ]
  },
  {
   "cell_type": "code",
   "execution_count": 83,
   "metadata": {},
   "outputs": [],
   "source": [
    "def is_prime(n):\n",
    "    # *** 実装しなさい ***\n",
    "    t=0\n",
    "    if n<=1:\n",
    "        return \"False\"\n",
    "    for m in range (2,n):\n",
    "        if n%m==0:\n",
    "            return \"False\"\n",
    "        if m**2>n:\n",
    "            return \"True\"\n",
    "    return \"True\""
   ]
  },
  {
   "cell_type": "markdown",
   "metadata": {},
   "source": [
    "ヒント（ダブルクリックで表示）\n",
    "<!--\n",
    "以下のように考えればよい\n",
    "\n",
    "* もし n <= 1 だったら素数ではないから，すぐに False を返す（return False)\n",
    "\n",
    "* m = 2, 3, ..., n-1 のそれぞれについて\n",
    "\n",
    "   * もし n が m で割り切れたら素数ではないから，すぐに False を返す\n",
    "\n",
    "   * もし m ** 2 > n だったら，n は m+1, m+2, ..., n-1 のいずれでも割り切れないから\n",
    "     すぐに True を返す\n",
    "\n",
    "* 上のテストにすべてパスしたら（つまりループの前・途中で return せずにループが終わったら）\n",
    "  n は素数なので True を返す\n",
    "-->"
   ]
  },
  {
   "cell_type": "markdown",
   "metadata": {},
   "source": [
    "実装できたらいくつかの `n` について `is_prime(n)` の結果が正しいかどうか確かめなさい："
   ]
  },
  {
   "cell_type": "code",
   "execution_count": 84,
   "metadata": {},
   "outputs": [
    {
     "data": {
      "text/plain": [
       "'False'"
      ]
     },
     "execution_count": 84,
     "metadata": {},
     "output_type": "execute_result"
    }
   ],
   "source": [
    "is_prime(1)"
   ]
  },
  {
   "cell_type": "code",
   "execution_count": 85,
   "metadata": {},
   "outputs": [
    {
     "data": {
      "text/plain": [
       "'True'"
      ]
     },
     "execution_count": 85,
     "metadata": {},
     "output_type": "execute_result"
    }
   ],
   "source": [
    "is_prime(2)"
   ]
  },
  {
   "cell_type": "code",
   "execution_count": 86,
   "metadata": {},
   "outputs": [
    {
     "data": {
      "text/plain": [
       "'True'"
      ]
     },
     "execution_count": 86,
     "metadata": {},
     "output_type": "execute_result"
    }
   ],
   "source": [
    "is_prime(3)"
   ]
  },
  {
   "cell_type": "code",
   "execution_count": 87,
   "metadata": {},
   "outputs": [
    {
     "data": {
      "text/plain": [
       "'False'"
      ]
     },
     "execution_count": 87,
     "metadata": {},
     "output_type": "execute_result"
    }
   ],
   "source": [
    "is_prime(4)"
   ]
  },
  {
   "cell_type": "code",
   "execution_count": 88,
   "metadata": {},
   "outputs": [
    {
     "data": {
      "text/plain": [
       "'False'"
      ]
     },
     "execution_count": 88,
     "metadata": {},
     "output_type": "execute_result"
    }
   ],
   "source": [
    "is_prime(6)"
   ]
  },
  {
   "cell_type": "code",
   "execution_count": 89,
   "metadata": {},
   "outputs": [
    {
     "data": {
      "text/plain": [
       "'False'"
      ]
     },
     "execution_count": 89,
     "metadata": {},
     "output_type": "execute_result"
    }
   ],
   "source": [
    "is_prime(21)"
   ]
  },
  {
   "cell_type": "code",
   "execution_count": 90,
   "metadata": {},
   "outputs": [
    {
     "data": {
      "text/plain": [
       "'True'"
      ]
     },
     "execution_count": 90,
     "metadata": {},
     "output_type": "execute_result"
    }
   ],
   "source": [
    "is_prime(23)"
   ]
  },
  {
   "cell_type": "code",
   "execution_count": 91,
   "metadata": {},
   "outputs": [
    {
     "data": {
      "text/plain": [
       "'False'"
      ]
     },
     "execution_count": 91,
     "metadata": {},
     "output_type": "execute_result"
    }
   ],
   "source": [
    "is_prime(25)"
   ]
  },
  {
   "cell_type": "markdown",
   "metadata": {},
   "source": [
    "---\n",
    "### 練習2.10: 素数の数を数える\n",
    "上で実装した `is_prime` を使って，\n",
    "  * 1行目に $10$以下の素数の個数\n",
    "  * 2行目に $100$以下の素数の個数\n",
    "  * 3行目に $1000$以下の素数の個数\n",
    "  * ...\n",
    "  * 6行目に $10^6$以下の素数の個数\n",
    "  \n",
    "を順に出力するプログラムを作りなさい："
   ]
  },
  {
   "cell_type": "code",
   "execution_count": 92,
   "metadata": {},
   "outputs": [
    {
     "name": "stdout",
     "output_type": "stream",
     "text": [
      "4\n",
      "25\n",
      "168\n",
      "1229\n",
      "9592\n",
      "78498\n"
     ]
    }
   ],
   "source": [
    "#*** 実装しなさい ***\n",
    "p=0\n",
    "for x in range (1,7):\n",
    "    y=10**x\n",
    "    for a in range (2,y+1):\n",
    "        if is_prime(a)==\"True\":\n",
    "            p+=1\n",
    "    print (p)\n",
    "    p=0"
   ]
  },
  {
   "cell_type": "markdown",
   "metadata": {},
   "source": [
    "10秒ていどで上のセルの実行が終わらない人は，たぶん `is_prime` の実装で\n",
    "\n",
    "「$n$ が $2, 3, 4, ..., m$ のいずれでも割り切れず，かつ，$m^2 > n$ ならば $n$ は $m+1, m+2, \\dots, n-1$ のいずれでも割り切れない」\n",
    "\n",
    "の条件を使っていない．\n",
    "\n",
    "それだと，いつまでたっても終わらないので上のほうにある ■（黒い四角）のボタンを押して実行を中断し，`is_prime` の実装を見直すこと．"
   ]
  },
  {
   "cell_type": "markdown",
   "metadata": {},
   "source": [
    "---\n",
    "## ネストしたループ（多重 for 文）\n",
    "for文の中に，さらにfor文を書くことができる（同様に，if文の中に，さらにif文を書くこともできる）．\n",
    "\n",
    "例えば以下のプログラムは何を出力するか？予想してから実行して確かめなさい．"
   ]
  },
  {
   "cell_type": "code",
   "execution_count": 93,
   "metadata": {},
   "outputs": [
    {
     "name": "stdout",
     "output_type": "stream",
     "text": [
      "1 1\n",
      "1 2\n",
      "1 3\n",
      "2 1\n",
      "2 2\n",
      "2 3\n",
      "3 1\n",
      "3 2\n",
      "3 3\n"
     ]
    }
   ],
   "source": [
    "for i in range(1, 4):\n",
    "    for j in range(1, 4):\n",
    "        print(i, j)"
   ]
  },
  {
   "cell_type": "markdown",
   "metadata": {},
   "source": [
    "### 練習2.11: 2重 for 文\n",
    "次の和を2重の for文を使って計算する関数 `double_loop_sum(n)` を実装しなさい．\n",
    "$$\n",
    "\\begin{align}\n",
    "  &1 \\times 1 + 1 \\times 2 + \\cdots + 1 \\times n \\\\\n",
    "+ &2 \\times 1 + 2 \\times 2 + \\cdots + 2 \\times n \\\\\n",
    "+ &\\cdots \\\\\n",
    "+ &n \\times 1 + n \\times 2 + \\cdots + n \\times n\n",
    "\\end{align}\n",
    "$$"
   ]
  },
  {
   "cell_type": "code",
   "execution_count": 94,
   "metadata": {},
   "outputs": [],
   "source": [
    "def double_loop(n):\n",
    "    #*** 実装しなさい ***\n",
    "    a=0\n",
    "    for s in range (1,n+1):\n",
    "        for t in range (1,n+1):\n",
    "            a+=s*t\n",
    "    return a"
   ]
  },
  {
   "cell_type": "markdown",
   "metadata": {},
   "source": [
    "実装できたら，`double_loop(n)` の結果と $(1 + 2 + \\cdots + n)^2 = \\frac{1}{4}n^2(n+1)^2$ を比べて検算しなさい："
   ]
  },
  {
   "cell_type": "code",
   "execution_count": 95,
   "metadata": {},
   "outputs": [
    {
     "name": "stdout",
     "output_type": "stream",
     "text": [
      "True\n",
      "True\n"
     ]
    }
   ],
   "source": [
    "def double_loop_sum(n):\n",
    "    return (n ** 2) * ((n + 1) ** 2) // 4\n",
    "\n",
    "print(double_loop(5) == double_loop_sum(5))\n",
    "print(double_loop(10) == double_loop_sum(10))"
   ]
  },
  {
   "cell_type": "markdown",
   "metadata": {},
   "source": [
    "### 例題: 正方形\n",
    "整数 `n` を受け取り，高さ `n`，幅 `n` の正方形を `#` で書く関数 `square(n)`．\n",
    "以下は `n=5` の例\n",
    "```\n",
    "#####\n",
    "#####\n",
    "#####\n",
    "#####\n",
    "#####\n",
    "```\n",
    "\n",
    "* `#` を一つだけ出力するには `print(\"#\", end=\"\")` とすればよい．`end=\"\"` が無いと `#` を出力した後に改行してしまう．\n",
    "* １行に `#` を `n` 個出力した後で，改行だけ行う必要がある（文字は出力しない）．そのためには引数なしで `print()` とすればよい．"
   ]
  },
  {
   "cell_type": "code",
   "execution_count": 96,
   "metadata": {},
   "outputs": [
    {
     "name": "stdout",
     "output_type": "stream",
     "text": [
      "3 x 3\n",
      "###\n",
      "###\n",
      "###\n",
      "\n",
      "5 x 5\n",
      "#####\n",
      "#####\n",
      "#####\n",
      "#####\n",
      "#####\n"
     ]
    }
   ],
   "source": [
    "def square(n):\n",
    "    # n 行書くためのループ\n",
    "    for k in range(0, n):\n",
    "        # 各行に n 文字書くためのループ\n",
    "        for m in range(0, n):\n",
    "            # \"#\" を一つ書く\n",
    "            print(\"#\", end=\"\") \n",
    "        # 1行書いたら改行する：インデント位置に注意\n",
    "        print() \n",
    "        \n",
    "# --- テスト ---\n",
    "print(\"3 x 3\")\n",
    "square(3)\n",
    "\n",
    "print()\n",
    "\n",
    "print(\"5 x 5\")\n",
    "square(5)"
   ]
  },
  {
   "cell_type": "markdown",
   "metadata": {},
   "source": [
    "### 練習2.12: 直角二等辺三角形\n",
    "整数 `n` を受け取り，底辺と高さが `n` の以下のような直角二等辺三角形を出力する関数 `triangle(n)` を実装しなさい．\n",
    "\n",
    "以下は `n=5` の例：\n",
    "```\n",
    "#\n",
    "##\n",
    "###\n",
    "####\n",
    "#####\n",
    "```"
   ]
  },
  {
   "cell_type": "code",
   "execution_count": 97,
   "metadata": {},
   "outputs": [],
   "source": [
    "def triangle(n):\n",
    "    # *** 実装しなさい ***\n",
    "    for k in range(0, n+1):\n",
    "        for m in range(0, k):\n",
    "            print(\"#\", end=\"\") \n",
    "        print()\n",
    "    "
   ]
  },
  {
   "cell_type": "markdown",
   "metadata": {},
   "source": [
    "実装できたらテストしましょう："
   ]
  },
  {
   "cell_type": "code",
   "execution_count": 98,
   "metadata": {},
   "outputs": [
    {
     "name": "stdout",
     "output_type": "stream",
     "text": [
      "\n",
      "#\n",
      "##\n",
      "###\n",
      "\n",
      "\n",
      "#\n",
      "##\n",
      "###\n",
      "####\n",
      "#####\n"
     ]
    }
   ],
   "source": [
    "# 3 x 3\n",
    "triangle(3)\n",
    "\n",
    "print()\n",
    "\n",
    "# 5 x 5\n",
    "triangle(5)"
   ]
  },
  {
   "cell_type": "markdown",
   "metadata": {},
   "source": [
    "### 練習2.13: 九九表\n",
    "以下のような，かけ算九九の表を表示しなさい．\n",
    "```\n",
    " 1  2  3  4  5  6  7  8  9\n",
    " 2  4  6  8 10 12 14 16 18\n",
    " 3  6  9 12 15 18 21 24 27\n",
    " 4  8 12 16 20 24 28 32 36\n",
    " 5 10 15 20 25 30 35 40 45\n",
    " 6 12 18 24 30 36 42 48 54\n",
    " 7 14 21 28 35 42 49 56 63\n",
    " 8 16 24 32 40 48 56 64 72\n",
    " 9 18 27 36 45 54 63 72 81\n",
    "```\n",
    "* 各行の最初の数の前には空白をひとつ出力する\n",
    "* 各行の2つ目以降の数の前には，\n",
    "  * 数が一けただったら空白をふたつ出力する\n",
    "  * 数が二けただったら空白をひとつ出力する\n",
    "  \n",
    "ヒント: \n",
    "* 改行せずに変数`x`の値を出力するには `print(x, end=\"\")` とすればよい\n",
    "* 空白をひとつ出力するには `print(\" \", end=\"\")` とすればよい\n",
    "* 何も字は出力せず，改行だけするには引数なしで `print()` とすればよい"
   ]
  },
  {
   "cell_type": "code",
   "execution_count": 99,
   "metadata": {},
   "outputs": [
    {
     "name": "stdout",
     "output_type": "stream",
     "text": [
      " 1  2  3  4  5  6  7  8  9\n",
      " 2  4  6  8 10 12 14 16 18\n",
      " 3  6  9 12 15 18 21 24 27\n",
      " 4  8 12 16 20 24 28 32 36\n",
      " 5 10 15 20 25 30 35 40 45\n",
      " 6 12 18 24 30 36 42 48 54\n",
      " 7 14 21 28 35 42 49 56 63\n",
      " 8 16 24 32 40 48 56 64 72\n",
      " 9 18 27 36 45 54 63 72 81\n"
     ]
    }
   ],
   "source": [
    "# *** 実装しなさい ***\n",
    "for k in range(1, 10):\n",
    "    for i in range (1,10):\n",
    "        if i==1:\n",
    "            print(\" \", end=\"\")\n",
    "            print(i*k,end=\"\")\n",
    "        elif i*k<10:\n",
    "            print(\"  \", end=\"\")\n",
    "            print(i*k,end=\"\")\n",
    "        else:\n",
    "            print(\" \", end=\"\")\n",
    "            print(i*k,end=\"\")\n",
    "    print()"
   ]
  },
  {
   "cell_type": "markdown",
   "metadata": {},
   "source": [
    "お疲れ様でした．必須課題はこれで終わりです．\n",
    "\n",
    "## 課題提出の前の注意\n",
    "* かならずメニューの \"Run\" から \"Run All Cells\" を選択し，全てのセルが正しく実行されることを確認すること\n",
    "\n",
    "* \"Run All Cells\" を実行したら，そのまま（**上の模様や九九の表など，全ての**）**結果が表示されている状態で**保存のボタンを押してノートブックを保存すること\n",
    "  * 保存のボタンは，\"File\" の下，\\[＋\\] のボタンの左の[フロッピーディスク](https://ja.wikipedia.org/wiki/フロッピーディスク)のマークのボタン\n",
    "  * 下のエクストラ課題をやった人は，その出力も保存すること\n",
    "<p>\n",
    "* 上記のように実行結果まで含めて保存してからノートブックを提出すること．\n",
    "  * 「氏名.ipynb」などのように**ファイル名を変更する必要はありません**\n",
    "</p>\n"
   ]
  },
  {
   "cell_type": "markdown",
   "metadata": {},
   "source": [
    "### エクストラ課題2.14: 数字で模様を描く\n",
    "（必須課題ではありません．余裕のある人はやってみる）\n",
    "\n",
    "for 文を使って，次のような模様を出力しなさい（左側と上下の空白は含まない）．工夫すれば if 文は使わなくてもできるかもしれません．その工夫はしてもしなくてもよいです：\n",
    "```\n",
    "11111111111111111\n",
    "12222222222222221\n",
    "12333333333333321\n",
    "12344444444444321\n",
    "12345555555554321\n",
    "12345666666654321\n",
    "12345677777654321\n",
    "12345678887654321\n",
    "12345678987654321\n",
    "12345678887654321\n",
    "12345677777654321\n",
    "12345666666654321\n",
    "12345555555554321\n",
    "12344444444444321\n",
    "12333333333333321\n",
    "12222222222222221\n",
    "11111111111111111\n",
    "```"
   ]
  },
  {
   "cell_type": "code",
   "execution_count": 100,
   "metadata": {},
   "outputs": [],
   "source": [
    "# *** 実装しなさい ***\n"
   ]
  },
  {
   "cell_type": "markdown",
   "metadata": {},
   "source": [
    "<!--\n",
    "### {エクストラ課題2}: ラマヌジャンの円周率公式\n",
    "（これも必須課題ではありません．余裕のある人はやってみる）\n",
    "\n",
    "[ラマヌジャン](https://ja.wikipedia.org/wiki/%E3%82%B7%E3%83%A5%E3%83%AA%E3%83%8B%E3%83%B4%E3%82%A1%E3%83%BC%E3%82%B5%E3%83%BB%E3%83%A9%E3%83%9E%E3%83%8C%E3%82%B8%E3%83%A3%E3%83%B3) は以下の公式を発見した．\n",
    "\n",
    "$$\n",
    "\\frac{1}{\\pi} = \\frac{2\\sqrt{2}}{99^2} \\sum_{m=0}^{\\infty} \\frac{(4m)!(1103+26390m)}{(4^m99^mm!)^4}\n",
    "$$\n",
    "\n",
    "まず与えられた整数 $m$ の階乗 $m!$ を計算する関数 `fact(m)` を実装し，それを用いてラマヌジャンの公式の第 $(n+1)$ 項まで（つまり上の式の $m = n$ のところまで）を計算して $\\pi$ の近似値を求める関数 `ramanujan(n)` を実装せよ．\n",
    "-->"
   ]
  },
  {
   "cell_type": "markdown",
   "metadata": {},
   "source": [
    "<!--\n",
    "# 階乗の計算\n",
    "def fact(m):\n",
    "    # 実装せよ\n",
    "    #del:begin\n",
    "    f = 1\n",
    "    for k in range(1, m+1):\n",
    "        f *= k\n",
    "    return f\n",
    "    #del:end\n",
    "\n",
    "# ラマヌジャンの公式の第(n+1)項までを使って円周率の近似値を計算\n",
    "def ramanujan(n):\n",
    "    #del:begin\n",
    "    s = 0\n",
    "    for m in range(0, n+1):\n",
    "        s += fact(4 * m) * (1103 + 26390 * m) / ((4 ** m * 99 ** m * fact(m)) ** 4)\n",
    "    s *= 2 * (2 ** 0.5) / (99 ** 2)\n",
    "    return 1 / s\n",
    "    #del:end\n",
    "-->"
   ]
  },
  {
   "cell_type": "markdown",
   "metadata": {},
   "source": [
    "---\n",
    "\n",
    "**入門編２：おわり**"
   ]
  }
 ],
 "metadata": {
  "kernelspec": {
   "display_name": "Python [conda env:base] *",
   "language": "python",
   "name": "conda-base-py"
  },
  "language_info": {
   "codemirror_mode": {
    "name": "ipython",
    "version": 3
   },
   "file_extension": ".py",
   "mimetype": "text/x-python",
   "name": "python",
   "nbconvert_exporter": "python",
   "pygments_lexer": "ipython3",
   "version": "3.12.7"
  }
 },
 "nbformat": 4,
 "nbformat_minor": 4
}
